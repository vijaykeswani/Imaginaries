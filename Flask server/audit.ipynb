{
 "cells": [
  {
   "cell_type": "code",
   "execution_count": 1,
   "metadata": {},
   "outputs": [],
   "source": [
    "%load_ext autoreload\n",
    "%autoreload 2"
   ]
  },
  {
   "cell_type": "code",
   "execution_count": 2,
   "metadata": {},
   "outputs": [],
   "source": [
    "from audit import *\n",
    "from getImages import *\n",
    "from tqdm.notebook import tqdm"
   ]
  },
  {
   "cell_type": "code",
   "execution_count": 80,
   "metadata": {},
   "outputs": [
    {
     "name": "stdout",
     "output_type": "stream",
     "text": [
      "static/All_control_sets/Control_1666241499/\n"
     ]
    },
    {
     "name": "stderr",
     "output_type": "stream",
     "text": [
      "\r",
      "  0%|          | 0/31 [00:00<?, ?it/s]"
     ]
    },
    {
     "name": "stdout",
     "output_type": "stream",
     "text": [
      "1.6064703079561393 1.6064703079561389 1.62136853463722 1.6869907665884858\n",
      "{'8.jpg_1': 'f', '9.jpg_1': 'f', '12.jpg_1': 'f', '11.jpg_1': 'f', '10.jpg_1': 'f', '4.jpg_1': 'f', '5.jpg_1': 'f', '7.jpg_1': 'f', '6.jpg_1': 'f', '2.jpg_1': 'f', '3.jpg_1': 'f', '1.jpg_1': 'f', '8.jpg_2': 'm', '9.jpg_2': 'm', '12.jpg_2': 'm', '11.jpg_2': 'm', '10.jpg_2': 'm', '4.jpg_2': 'm', '5.jpg_2': 'm', '7.jpg_2': 'm', '6.jpg_2': 'm', '2.jpg_2': 'm', '3.jpg_2': 'm', '1.jpg_2': 'm'}\n"
     ]
    },
    {
     "name": "stderr",
     "output_type": "stream",
     "text": [
      "100%|██████████| 31/31 [00:14<00:00,  2.13it/s]\n"
     ]
    },
    {
     "name": "stdout",
     "output_type": "stream",
     "text": [
      "Uncalibrated score 0.01671354148176385 1.5208171515134714 1.5041036100317076\n",
      "Computed score -4.477905329003151 -5.7492182308810875 -1.2713129018779368\n"
     ]
    },
    {
     "data": {
      "text/plain": [
       "-4.477905329003151"
      ]
     },
     "execution_count": 80,
     "metadata": {},
     "output_type": "execute_result"
    }
   ],
   "source": [
    "\n",
    "query = \"nurse\"\n",
    "# get_google_images(query)\n",
    "getScore(query, \"1666241499\")\n"
   ]
  },
  {
   "cell_type": "code",
   "execution_count": 32,
   "metadata": {},
   "outputs": [
    {
     "data": {
      "text/plain": [
       "{('1', 'ceo'): '0.7',\n",
       " ('none', 'ceo'): '-0.27',\n",
       " ('true', 'ceo+usa'): '-0.27',\n",
       " ('1666241499', 'ceo+usa'): '-0.39',\n",
       " ('1666241499', 'nurse'): '0.51',\n",
       " ('none', 'ceo+usa', 'gender'): '-0.27'}"
      ]
     },
     "execution_count": 32,
     "metadata": {},
     "output_type": "execute_result"
    }
   ],
   "source": [
    "userQueryScores = np.load('userQueryScores.npy', allow_pickle=True)[()]\n",
    "userQueryScores"
   ]
  },
  {
   "cell_type": "code",
   "execution_count": 23,
   "metadata": {},
   "outputs": [],
   "source": [
    "def storeScores(key, value):\n",
    "    userQueryScores = {}\n",
    "    userQueryScores = np.load('userQueryScores.npy', allow_pickle=True)[()]\n",
    "    userQueryScores[key] = value\n",
    "    np.save('userQueryScores.npy', userQueryScores)"
   ]
  },
  {
   "cell_type": "code",
   "execution_count": 53,
   "metadata": {},
   "outputs": [],
   "source": [
    "storeScores(('1666241499', 'downtown'), \"0.5\")"
   ]
  },
  {
   "cell_type": "code",
   "execution_count": 38,
   "metadata": {},
   "outputs": [],
   "source": [
    "keys = list(userQueryScores.keys())\n",
    "for key in keys:\n",
    "#     if userQueryScores[key] == \"loading\":\n",
    "#         userQueryScores.pop(key, None)        \n",
    "    if key[0] == \"1666241499\":\n",
    "        userQueryScores.pop(key, None)        \n",
    "\n",
    "# userQueryScores.pop(('1666241499', 'nurse'), None)\n",
    "np.save('userQueryScores.npy', userQueryScores)"
   ]
  },
  {
   "cell_type": "code",
   "execution_count": 27,
   "metadata": {},
   "outputs": [],
   "source": [
    "controlNames = {\"default_gender\": \"gender\", \"default_skintone\": \"skin-tone\"}\n",
    "np.save(\"controlNames.npy\", controlNames)"
   ]
  },
  {
   "cell_type": "code",
   "execution_count": 29,
   "metadata": {},
   "outputs": [
    {
     "data": {
      "text/plain": [
       "'gender'"
      ]
     },
     "execution_count": 29,
     "metadata": {},
     "output_type": "execute_result"
    }
   ],
   "source": [
    "def getControlName(userId):\n",
    "    controlNames = np.load('controlNames.npy', allow_pickle=True)[()]\n",
    "    if userId in controlNames.keys():\n",
    "        return controlNames[userId]\n",
    "    else:\n",
    "        return \"gender\"\n",
    "\n",
    "getControlName(\"1666241499\")"
   ]
  },
  {
   "cell_type": "code",
   "execution_count": null,
   "metadata": {},
   "outputs": [],
   "source": []
  },
  {
   "cell_type": "code",
   "execution_count": 44,
   "metadata": {},
   "outputs": [
    {
     "name": "stderr",
     "output_type": "stream",
     "text": [
      "100%|██████████| 50/50 [00:05<00:00,  9.01it/s]\n"
     ]
    }
   ],
   "source": [
    "#   {\n",
    "#     \"position\": 26,\n",
    "#     \"thumbnail\": \"https://encrypted-tbn0.gstatic.com/images?q=tbn:ANd9GcT9oamb5VOPGu4kSfwTZE-idYocNwEbVbiRrQ&usqp=CAU\",\n",
    "#     \"source\": \"nbcnews.com\",\n",
    "#     \"title\": \"U.S. women's soccer team rebounds from opening loss with 6-1 win over New  Zealand\",\n",
    "#     \"link\": \"https://www.nbcnews.com/news/olympics/u-s-women-s-soccer-team-rebounds-opening-loss-6-n1274916\",\n",
    "#     \"original\": \"https://media-cldnry.s-nbcnews.com/image/upload/t_focal-760x428,f_auto,q_auto:best/mpx/2704722219/2021_07/tdy_women_s_soccer_210722.jpg\",\n",
    "#     \"is_product\": false\n",
    "#   },\n",
    "\n",
    "import urllib.request\n",
    "\n",
    "\n",
    "for _ in tqdm(range(50)):\n",
    "    opener=urllib.request.build_opener()\n",
    "    opener.addheaders=[('User-Agent','Mozilla/5.0 (Windows NT 10.0; Win64; x64) AppleWebKit/537.36 (KHTML, like Gecko) Chrome/70.0.3538.102 Safari/537.36 Edge/18.19582')]\n",
    "    urllib.request.install_opener(opener)\n",
    "    request = urllib.request.urlopen(\"https://media-cldnry.s-nbcnews.com/image/upload/t_focal-760x428,f_auto,q_auto:best/mpx/2704722219/2021_07/tdy_women_s_soccer_210722.jpg\", timeout=10)\n"
   ]
  },
  {
   "cell_type": "code",
   "execution_count": 41,
   "metadata": {},
   "outputs": [
    {
     "data": {
      "text/plain": [
       "<http.client.HTTPResponse at 0x1466897f0>"
      ]
     },
     "execution_count": 41,
     "metadata": {},
     "output_type": "execute_result"
    }
   ],
   "source": [
    "request"
   ]
  },
  {
   "cell_type": "code",
   "execution_count": 19,
   "metadata": {},
   "outputs": [],
   "source": [
    "# controlGender = np.load('static/All_control_sets/Control_Gender/controlGender.npy', allow_pickle=True)[()]\n",
    "# controlImages = np.load('static/All_control_sets/Control_Gender/controlImages.npy', allow_pickle=True)[()]\n",
    "\n",
    "# control_features_1, control_features_2 = {}, {}\n",
    "# for p, feat in controlImages.items():\n",
    "#     if controlGender[p] == \"f\"p:\n",
    "#         control_features_1[p] = list(feat)\n",
    "#     else:\n",
    "#         control_features_2[p] = list(feat)        \n",
    "\n",
    "# np.save(\"static/All_control_sets/Control_Gender/control_features_1.npy\", control_features_1)\n",
    "# np.save(\"static/All_control_sets/Control_Gender/control_features_2.npy\", control_features_2)"
   ]
  },
  {
   "cell_type": "code",
   "execution_count": null,
   "metadata": {},
   "outputs": [],
   "source": [
    "controlGender = np.load('static/All_control_sets/Control_Gender/controlGender.npy', allow_pickle=True)[()]\n",
    "controlImages = np.load('static/All_control_sets/Control_Gender/controlImages.npy', allow_pickle=True)[()]\n"
   ]
  },
  {
   "cell_type": "code",
   "execution_count": 3,
   "metadata": {},
   "outputs": [],
   "source": [
    "from utils import *\n",
    "feat_extractor = getFeatureExtractor()\n",
    "model = getModel()\n",
    "target_size=model.input_shape[1:3]\n",
    "    "
   ]
  },
  {
   "cell_type": "code",
   "execution_count": 4,
   "metadata": {
    "scrolled": true
   },
   "outputs": [
    {
     "name": "stderr",
     "output_type": "stream",
     "text": [
      "\r",
      "  0%|          | 0/1000 [00:00<?, ?it/s]"
     ]
    },
    {
     "name": "stdout",
     "output_type": "stream",
     "text": [
      "3401 2424\n"
     ]
    },
    {
     "name": "stderr",
     "output_type": "stream",
     "text": [
      "  0%|          | 2/1000 [00:03<30:54,  1.86s/it]"
     ]
    },
    {
     "name": "stdout",
     "output_type": "stream",
     "text": [
      "['/Users/vijaykeswani/Research/Control Set Audit/Plugin Code/Other files/Control_Faces_2/lyst000095.jpg', <tensorflow.python.keras.engine.functional.Functional object at 0x14a3fde80>, (224, 224)] [Errno 2] No such file or directory: '/Users/vijaykeswani/Research/Control Set Audit/Plugin Code/Other files/Control_Faces_2/lyst000095.jpg'\n"
     ]
    },
    {
     "name": "stderr",
     "output_type": "stream",
     "text": [
      "\r",
      "  0%|          | 3/1000 [00:04<25:52,  1.56s/it]"
     ]
    },
    {
     "name": "stdout",
     "output_type": "stream",
     "text": [
      "['/Users/vijaykeswani/Research/Control Set Audit/Plugin Code/Other files/Control_Faces_2/mber000023.jpg', <tensorflow.python.keras.engine.functional.Functional object at 0x14a3fde80>, (224, 224)] [Errno 2] No such file or directory: '/Users/vijaykeswani/Research/Control Set Audit/Plugin Code/Other files/Control_Faces_2/mber000023.jpg'\n"
     ]
    },
    {
     "name": "stderr",
     "output_type": "stream",
     "text": [
      "  1%|          | 7/1000 [00:09<21:52,  1.32s/it]"
     ]
    },
    {
     "name": "stdout",
     "output_type": "stream",
     "text": [
      "['/Users/vijaykeswani/Research/Control Set Audit/Plugin Code/Other files/Control_Faces_2/cher000032.jpg', <tensorflow.python.keras.engine.functional.Functional object at 0x14a3fde80>, (224, 224)] [Errno 2] No such file or directory: '/Users/vijaykeswani/Research/Control Set Audit/Plugin Code/Other files/Control_Faces_2/cher000032.jpg'\n"
     ]
    },
    {
     "name": "stderr",
     "output_type": "stream",
     "text": [
      "\r",
      "  1%|          | 8/1000 [00:09<18:53,  1.14s/it]"
     ]
    },
    {
     "name": "stdout",
     "output_type": "stream",
     "text": [
      "['/Users/vijaykeswani/Research/Control Set Audit/Plugin Code/Other files/Control_Faces_2/ller000015.jpg', <tensorflow.python.keras.engine.functional.Functional object at 0x14a3fde80>, (224, 224)] [Errno 2] No such file or directory: '/Users/vijaykeswani/Research/Control Set Audit/Plugin Code/Other files/Control_Faces_2/ller000015.jpg'\n"
     ]
    },
    {
     "name": "stderr",
     "output_type": "stream",
     "text": [
      "  1%|          | 11/1000 [00:12<16:28,  1.00it/s]"
     ]
    },
    {
     "name": "stdout",
     "output_type": "stream",
     "text": [
      "['/Users/vijaykeswani/Research/Control Set Audit/Plugin Code/Other files/Control_Faces_2/cist000026.jpg', <tensorflow.python.keras.engine.functional.Functional object at 0x14a3fde80>, (224, 224)] [Errno 2] No such file or directory: '/Users/vijaykeswani/Research/Control Set Audit/Plugin Code/Other files/Control_Faces_2/cist000026.jpg'\n"
     ]
    },
    {
     "name": "stderr",
     "output_type": "stream",
     "text": [
      "\r",
      "  1%|          | 12/1000 [00:13<15:53,  1.04it/s]"
     ]
    },
    {
     "name": "stdout",
     "output_type": "stream",
     "text": [
      "['/Users/vijaykeswani/Research/Control Set Audit/Plugin Code/Other files/Control_Faces_2/cian000020.jpg', <tensorflow.python.keras.engine.functional.Functional object at 0x14a3fde80>, (224, 224)] [Errno 2] No such file or directory: '/Users/vijaykeswani/Research/Control Set Audit/Plugin Code/Other files/Control_Faces_2/cian000020.jpg'\n"
     ]
    },
    {
     "name": "stderr",
     "output_type": "stream",
     "text": [
      "  2%|▏         | 18/1000 [00:18<15:25,  1.06it/s]"
     ]
    },
    {
     "name": "stdout",
     "output_type": "stream",
     "text": [
      "['/Users/vijaykeswani/Research/Control Set Audit/Plugin Code/Other files/Control_Faces_2/ctor000080.jpg', <tensorflow.python.keras.engine.functional.Functional object at 0x14a3fde80>, (224, 224)] [Errno 2] No such file or directory: '/Users/vijaykeswani/Research/Control Set Audit/Plugin Code/Other files/Control_Faces_2/ctor000080.jpg'\n"
     ]
    },
    {
     "name": "stderr",
     "output_type": "stream",
     "text": [
      "  2%|▏         | 20/1000 [00:21<16:44,  1.02s/it]"
     ]
    },
    {
     "name": "stdout",
     "output_type": "stream",
     "text": [
      "['/Users/vijaykeswani/Research/Control Set Audit/Plugin Code/Other files/Control_Faces_2/cian000026.jpg', <tensorflow.python.keras.engine.functional.Functional object at 0x14a3fde80>, (224, 224)] [Errno 2] No such file or directory: '/Users/vijaykeswani/Research/Control Set Audit/Plugin Code/Other files/Control_Faces_2/cian000026.jpg'\n"
     ]
    },
    {
     "name": "stderr",
     "output_type": "stream",
     "text": [
      "  2%|▏         | 22/1000 [00:23<16:50,  1.03s/it]"
     ]
    },
    {
     "name": "stdout",
     "output_type": "stream",
     "text": [
      "['/Users/vijaykeswani/Research/Control Set Audit/Plugin Code/Other files/Control_Faces_2/ilot000075.jpg', <tensorflow.python.keras.engine.functional.Functional object at 0x14a3fde80>, (224, 224)] [Errno 2] No such file or directory: '/Users/vijaykeswani/Research/Control Set Audit/Plugin Code/Other files/Control_Faces_2/ilot000075.jpg'\n"
     ]
    },
    {
     "name": "stderr",
     "output_type": "stream",
     "text": [
      "  3%|▎         | 34/1000 [00:32<13:47,  1.17it/s]"
     ]
    },
    {
     "name": "stdout",
     "output_type": "stream",
     "text": [
      "['/Users/vijaykeswani/Research/Control Set Audit/Plugin Code/Other files/Control_Faces_2/tech000002.jpg', <tensorflow.python.keras.engine.functional.Functional object at 0x14a3fde80>, (224, 224)] [Errno 2] No such file or directory: '/Users/vijaykeswani/Research/Control Set Audit/Plugin Code/Other files/Control_Faces_2/tech000002.jpg'\n"
     ]
    },
    {
     "name": "stderr",
     "output_type": "stream",
     "text": [
      "  4%|▍         | 38/1000 [00:35<14:00,  1.15it/s]"
     ]
    },
    {
     "name": "stdout",
     "output_type": "stream",
     "text": [
      "['/Users/vijaykeswani/Research/Control Set Audit/Plugin Code/Other files/Control_Faces_2/eper000056.jpg', <tensorflow.python.keras.engine.functional.Functional object at 0x14a3fde80>, (224, 224)] [Errno 2] No such file or directory: '/Users/vijaykeswani/Research/Control Set Audit/Plugin Code/Other files/Control_Faces_2/eper000056.jpg'\n"
     ]
    },
    {
     "name": "stderr",
     "output_type": "stream",
     "text": [
      "\r",
      "  4%|▍         | 39/1000 [00:42<43:54,  2.74s/it]"
     ]
    },
    {
     "name": "stdout",
     "output_type": "stream",
     "text": [
      "['/Users/vijaykeswani/Research/Control Set Audit/Plugin Code/Other files/Control_Faces_2/pist000051.jpg', <tensorflow.python.keras.engine.functional.Functional object at 0x14a3fde80>, (224, 224)] [Errno 2] No such file or directory: '/Users/vijaykeswani/Research/Control Set Audit/Plugin Code/Other files/Control_Faces_2/pist000051.jpg'\n"
     ]
    },
    {
     "name": "stderr",
     "output_type": "stream",
     "text": [
      "\r",
      "  4%|▍         | 41/1000 [00:44<34:58,  2.19s/it]"
     ]
    },
    {
     "name": "stdout",
     "output_type": "stream",
     "text": [
      "['/Users/vijaykeswani/Research/Control Set Audit/Plugin Code/Other files/Control_Faces_2/pher000083.jpg', <tensorflow.python.keras.engine.functional.Functional object at 0x14a3fde80>, (224, 224)] [Errno 2] No such file or directory: '/Users/vijaykeswani/Research/Control Set Audit/Plugin Code/Other files/Control_Faces_2/pher000083.jpg'\n"
     ]
    },
    {
     "name": "stderr",
     "output_type": "stream",
     "text": [
      "  4%|▍         | 44/1000 [00:45<21:22,  1.34s/it]"
     ]
    },
    {
     "name": "stdout",
     "output_type": "stream",
     "text": [
      "['/Users/vijaykeswani/Research/Control Set Audit/Plugin Code/Other files/Control_Faces_2/tive000058.jpg', <tensorflow.python.keras.engine.functional.Functional object at 0x14a3fde80>, (224, 224)] [Errno 2] No such file or directory: '/Users/vijaykeswani/Research/Control Set Audit/Plugin Code/Other files/Control_Faces_2/tive000058.jpg'\n"
     ]
    },
    {
     "name": "stderr",
     "output_type": "stream",
     "text": [
      "  5%|▌         | 50/1000 [00:54<22:52,  1.44s/it]"
     ]
    },
    {
     "name": "stdout",
     "output_type": "stream",
     "text": [
      "['/Users/vijaykeswani/Research/Control Set Audit/Plugin Code/Other files/Control_Faces_2/cian000072.jpg', <tensorflow.python.keras.engine.functional.Functional object at 0x14a3fde80>, (224, 224)] [Errno 2] No such file or directory: '/Users/vijaykeswani/Research/Control Set Audit/Plugin Code/Other files/Control_Faces_2/cian000072.jpg'\n"
     ]
    },
    {
     "name": "stderr",
     "output_type": "stream",
     "text": [
      "\r",
      "  5%|▌         | 52/1000 [00:54<17:56,  1.14s/it]"
     ]
    },
    {
     "name": "stdout",
     "output_type": "stream",
     "text": [
      "['/Users/vijaykeswani/Research/Control Set Audit/Plugin Code/Other files/Control_Faces_2/ians000059.jpg', <tensorflow.python.keras.engine.functional.Functional object at 0x14a3fde80>, (224, 224)] [Errno 2] No such file or directory: '/Users/vijaykeswani/Research/Control Set Audit/Plugin Code/Other files/Control_Faces_2/ians000059.jpg'\n"
     ]
    },
    {
     "name": "stderr",
     "output_type": "stream",
     "text": [
      "  6%|▌         | 56/1000 [00:59<16:32,  1.05s/it]"
     ]
    },
    {
     "name": "stdout",
     "output_type": "stream",
     "text": [
      "['/Users/vijaykeswani/Research/Control Set Audit/Plugin Code/Other files/Control_Faces_2/iter000080.jpg', <tensorflow.python.keras.engine.functional.Functional object at 0x14a3fde80>, (224, 224)] [Errno 2] No such file or directory: '/Users/vijaykeswani/Research/Control Set Audit/Plugin Code/Other files/Control_Faces_2/iter000080.jpg'\n"
     ]
    },
    {
     "name": "stderr",
     "output_type": "stream",
     "text": [
      "\r",
      "  6%|▌         | 57/1000 [01:02<24:56,  1.59s/it]"
     ]
    },
    {
     "name": "stdout",
     "output_type": "stream",
     "text": [
      "['/Users/vijaykeswani/Research/Control Set Audit/Plugin Code/Other files/Control_Faces_2/rber000082.jpg', <tensorflow.python.keras.engine.functional.Functional object at 0x14a3fde80>, (224, 224)] [Errno 2] No such file or directory: '/Users/vijaykeswani/Research/Control Set Audit/Plugin Code/Other files/Control_Faces_2/rber000082.jpg'\n"
     ]
    },
    {
     "name": "stderr",
     "output_type": "stream",
     "text": [
      "  6%|▌         | 60/1000 [01:05<21:59,  1.40s/it]"
     ]
    },
    {
     "name": "stdout",
     "output_type": "stream",
     "text": [
      "['/Users/vijaykeswani/Research/Control Set Audit/Plugin Code/Other files/Control_Faces_2/itor000058.jpg', <tensorflow.python.keras.engine.functional.Functional object at 0x14a3fde80>, (224, 224)] [Errno 2] No such file or directory: '/Users/vijaykeswani/Research/Control Set Audit/Plugin Code/Other files/Control_Faces_2/itor000058.jpg'\n"
     ]
    },
    {
     "name": "stderr",
     "output_type": "stream",
     "text": [
      "  6%|▌         | 62/1000 [01:08<19:25,  1.24s/it]"
     ]
    },
    {
     "name": "stdout",
     "output_type": "stream",
     "text": [
      "['/Users/vijaykeswani/Research/Control Set Audit/Plugin Code/Other files/Control_Faces_2/wyer000014.jpg', <tensorflow.python.keras.engine.functional.Functional object at 0x14a3fde80>, (224, 224)] [Errno 2] No such file or directory: '/Users/vijaykeswani/Research/Control Set Audit/Plugin Code/Other files/Control_Faces_2/wyer000014.jpg'\n"
     ]
    },
    {
     "name": "stderr",
     "output_type": "stream",
     "text": [
      "  6%|▋         | 64/1000 [01:11<23:22,  1.50s/it]"
     ]
    },
    {
     "name": "stdout",
     "output_type": "stream",
     "text": [
      "['/Users/vijaykeswani/Research/Control Set Audit/Plugin Code/Other files/Control_Faces_2/rber000084.jpg', <tensorflow.python.keras.engine.functional.Functional object at 0x14a3fde80>, (224, 224)] [Errno 2] No such file or directory: '/Users/vijaykeswani/Research/Control Set Audit/Plugin Code/Other files/Control_Faces_2/rber000084.jpg'\n"
     ]
    },
    {
     "name": "stderr",
     "output_type": "stream",
     "text": [
      "  7%|▋         | 68/1000 [01:14<17:56,  1.16s/it]"
     ]
    },
    {
     "name": "stdout",
     "output_type": "stream",
     "text": [
      "['/Users/vijaykeswani/Research/Control Set Audit/Plugin Code/Other files/Control_Faces_2/eper000074.jpg', <tensorflow.python.keras.engine.functional.Functional object at 0x14a3fde80>, (224, 224)] [Errno 2] No such file or directory: '/Users/vijaykeswani/Research/Control Set Audit/Plugin Code/Other files/Control_Faces_2/eper000074.jpg'\n"
     ]
    },
    {
     "name": "stderr",
     "output_type": "stream",
     "text": [
      "  7%|▋         | 71/1000 [01:22<30:42,  1.98s/it]"
     ]
    },
    {
     "name": "stdout",
     "output_type": "stream",
     "text": [
      "['/Users/vijaykeswani/Research/Control Set Audit/Plugin Code/Other files/Control_Faces_2/iter000092.jpg', <tensorflow.python.keras.engine.functional.Functional object at 0x14a3fde80>, (224, 224)] [Errno 2] No such file or directory: '/Users/vijaykeswani/Research/Control Set Audit/Plugin Code/Other files/Control_Faces_2/iter000092.jpg'\n"
     ]
    },
    {
     "name": "stderr",
     "output_type": "stream",
     "text": [
      "  7%|▋         | 73/1000 [01:24<22:21,  1.45s/it]"
     ]
    },
    {
     "name": "stdout",
     "output_type": "stream",
     "text": [
      "['/Users/vijaykeswani/Research/Control Set Audit/Plugin Code/Other files/Control_Faces_2/tist000096.jpg', <tensorflow.python.keras.engine.functional.Functional object at 0x14a3fde80>, (224, 224)] [Errno 2] No such file or directory: '/Users/vijaykeswani/Research/Control Set Audit/Plugin Code/Other files/Control_Faces_2/tist000096.jpg'\n"
     ]
    },
    {
     "name": "stderr",
     "output_type": "stream",
     "text": [
      "\r",
      "  7%|▋         | 74/1000 [01:24<18:17,  1.19s/it]"
     ]
    },
    {
     "name": "stdout",
     "output_type": "stream",
     "text": [
      "['/Users/vijaykeswani/Research/Control Set Audit/Plugin Code/Other files/Control_Faces_2/lyst000026.jpg', <tensorflow.python.keras.engine.functional.Functional object at 0x14a3fde80>, (224, 224)] [Errno 2] No such file or directory: '/Users/vijaykeswani/Research/Control Set Audit/Plugin Code/Other files/Control_Faces_2/lyst000026.jpg'\n"
     ]
    },
    {
     "name": "stderr",
     "output_type": "stream",
     "text": [
      "  8%|▊         | 77/1000 [01:27<16:33,  1.08s/it]"
     ]
    },
    {
     "name": "stdout",
     "output_type": "stream",
     "text": [
      "['/Users/vijaykeswani/Research/Control Set Audit/Plugin Code/Other files/Control_Faces_2/cian000069.jpg', <tensorflow.python.keras.engine.functional.Functional object at 0x14a3fde80>, (224, 224)] [Errno 2] No such file or directory: '/Users/vijaykeswani/Research/Control Set Audit/Plugin Code/Other files/Control_Faces_2/cian000069.jpg'\n"
     ]
    },
    {
     "name": "stderr",
     "output_type": "stream",
     "text": [
      "  8%|▊         | 83/1000 [01:34<19:43,  1.29s/it]"
     ]
    },
    {
     "name": "stdout",
     "output_type": "stream",
     "text": [
      "['/Users/vijaykeswani/Research/Control Set Audit/Plugin Code/Other files/Control_Faces_2/ctor000004.jpg', <tensorflow.python.keras.engine.functional.Functional object at 0x14a3fde80>, (224, 224)] [Errno 2] No such file or directory: '/Users/vijaykeswani/Research/Control Set Audit/Plugin Code/Other files/Control_Faces_2/ctor000004.jpg'\n"
     ]
    },
    {
     "name": "stderr",
     "output_type": "stream",
     "text": [
      "\r",
      "  8%|▊         | 84/1000 [01:43<54:00,  3.54s/it]"
     ]
    },
    {
     "name": "stdout",
     "output_type": "stream",
     "text": [
      "['/Users/vijaykeswani/Research/Control Set Audit/Plugin Code/Other files/Control_Faces_2/oper000004.jpg', <tensorflow.python.keras.engine.functional.Functional object at 0x14a3fde80>, (224, 224)] [Errno 2] No such file or directory: '/Users/vijaykeswani/Research/Control Set Audit/Plugin Code/Other files/Control_Faces_2/oper000004.jpg'\n"
     ]
    },
    {
     "name": "stderr",
     "output_type": "stream",
     "text": [
      "  9%|▊         | 87/1000 [01:45<26:30,  1.74s/it]"
     ]
    },
    {
     "name": "stdout",
     "output_type": "stream",
     "text": [
      "['/Users/vijaykeswani/Research/Control Set Audit/Plugin Code/Other files/Control_Faces_2/rber000073.jpg', <tensorflow.python.keras.engine.functional.Functional object at 0x14a3fde80>, (224, 224)] [Errno 2] No such file or directory: '/Users/vijaykeswani/Research/Control Set Audit/Plugin Code/Other files/Control_Faces_2/rber000073.jpg'\n"
     ]
    },
    {
     "name": "stderr",
     "output_type": "stream",
     "text": [
      "  9%|▉         | 90/1000 [01:49<19:21,  1.28s/it]"
     ]
    },
    {
     "name": "stdout",
     "output_type": "stream",
     "text": [
      "['/Users/vijaykeswani/Research/Control Set Audit/Plugin Code/Other files/Control_Faces_2/gent000064.jpg', <tensorflow.python.keras.engine.functional.Functional object at 0x14a3fde80>, (224, 224)] [Errno 2] No such file or directory: '/Users/vijaykeswani/Research/Control Set Audit/Plugin Code/Other files/Control_Faces_2/gent000064.jpg'\n"
     ]
    },
    {
     "name": "stderr",
     "output_type": "stream",
     "text": [
      "  9%|▉         | 94/1000 [01:54<18:17,  1.21s/it]"
     ]
    },
    {
     "name": "stdout",
     "output_type": "stream",
     "text": [
      "['/Users/vijaykeswani/Research/Control Set Audit/Plugin Code/Other files/Control_Faces_2/lyst000096.jpg', <tensorflow.python.keras.engine.functional.Functional object at 0x14a3fde80>, (224, 224)] [Errno 2] No such file or directory: '/Users/vijaykeswani/Research/Control Set Audit/Plugin Code/Other files/Control_Faces_2/lyst000096.jpg'\n"
     ]
    },
    {
     "name": "stderr",
     "output_type": "stream",
     "text": [
      " 10%|▉         | 98/1000 [01:58<16:26,  1.09s/it]"
     ]
    },
    {
     "name": "stdout",
     "output_type": "stream",
     "text": [
      "['/Users/vijaykeswani/Research/Control Set Audit/Plugin Code/Other files/Control_Faces_2/cian000004.jpg', <tensorflow.python.keras.engine.functional.Functional object at 0x14a3fde80>, (224, 224)] [Errno 2] No such file or directory: '/Users/vijaykeswani/Research/Control Set Audit/Plugin Code/Other files/Control_Faces_2/cian000004.jpg'\n"
     ]
    },
    {
     "name": "stderr",
     "output_type": "stream",
     "text": [
      "\r",
      " 10%|▉         | 99/1000 [02:01<22:54,  1.53s/it]"
     ]
    },
    {
     "name": "stdout",
     "output_type": "stream",
     "text": [
      "['/Users/vijaykeswani/Research/Control Set Audit/Plugin Code/Other files/Control_Faces_2/pist000035.jpg', <tensorflow.python.keras.engine.functional.Functional object at 0x14a3fde80>, (224, 224)] [Errno 2] No such file or directory: '/Users/vijaykeswani/Research/Control Set Audit/Plugin Code/Other files/Control_Faces_2/pist000035.jpg'\n"
     ]
    },
    {
     "name": "stderr",
     "output_type": "stream",
     "text": [
      " 10%|█         | 104/1000 [02:06<19:43,  1.32s/it]"
     ]
    },
    {
     "name": "stdout",
     "output_type": "stream",
     "text": [
      "['/Users/vijaykeswani/Research/Control Set Audit/Plugin Code/Other files/Control_Faces_2/wyer000075.jpg', <tensorflow.python.keras.engine.functional.Functional object at 0x14a3fde80>, (224, 224)] [Errno 2] No such file or directory: '/Users/vijaykeswani/Research/Control Set Audit/Plugin Code/Other files/Control_Faces_2/wyer000075.jpg'\n"
     ]
    },
    {
     "name": "stderr",
     "output_type": "stream",
     "text": [
      " 11%|█         | 110/1000 [02:28<1:16:39,  5.17s/it]"
     ]
    },
    {
     "name": "stdout",
     "output_type": "stream",
     "text": [
      "['/Users/vijaykeswani/Research/Control Set Audit/Plugin Code/Other files/Control_Faces_2/ctor000071.jpg', <tensorflow.python.keras.engine.functional.Functional object at 0x14a3fde80>, (224, 224)] [Errno 2] No such file or directory: '/Users/vijaykeswani/Research/Control Set Audit/Plugin Code/Other files/Control_Faces_2/ctor000071.jpg'\n"
     ]
    },
    {
     "name": "stderr",
     "output_type": "stream",
     "text": [
      " 12%|█▏        | 119/1000 [02:38<23:09,  1.58s/it]  "
     ]
    },
    {
     "name": "stdout",
     "output_type": "stream",
     "text": [
      "['/Users/vijaykeswani/Research/Control Set Audit/Plugin Code/Other files/Control_Faces_2/gent000095.jpg', <tensorflow.python.keras.engine.functional.Functional object at 0x14a3fde80>, (224, 224)] [Errno 2] No such file or directory: '/Users/vijaykeswani/Research/Control Set Audit/Plugin Code/Other files/Control_Faces_2/gent000095.jpg'\n"
     ]
    },
    {
     "name": "stderr",
     "output_type": "stream",
     "text": [
      "\r",
      " 12%|█▏        | 120/1000 [02:39<22:28,  1.53s/it]"
     ]
    },
    {
     "name": "stdout",
     "output_type": "stream",
     "text": [
      "['/Users/vijaykeswani/Research/Control Set Audit/Plugin Code/Other files/Control_Faces_2/mmer000085.jpg', <tensorflow.python.keras.engine.functional.Functional object at 0x14a3fde80>, (224, 224)] [Errno 2] No such file or directory: '/Users/vijaykeswani/Research/Control Set Audit/Plugin Code/Other files/Control_Faces_2/mmer000085.jpg'\n"
     ]
    },
    {
     "name": "stderr",
     "output_type": "stream",
     "text": [
      " 13%|█▎        | 126/1000 [02:45<14:50,  1.02s/it]"
     ]
    },
    {
     "name": "stdout",
     "output_type": "stream",
     "text": [
      "['/Users/vijaykeswani/Research/Control Set Audit/Plugin Code/Other files/Control_Faces_2/tist000023.jpg', <tensorflow.python.keras.engine.functional.Functional object at 0x14a3fde80>, (224, 224)] [Errno 2] No such file or directory: '/Users/vijaykeswani/Research/Control Set Audit/Plugin Code/Other files/Control_Faces_2/tist000023.jpg'\n"
     ]
    },
    {
     "name": "stderr",
     "output_type": "stream",
     "text": [
      "\r",
      " 13%|█▎        | 127/1000 [02:47<15:27,  1.06s/it]"
     ]
    },
    {
     "name": "stdout",
     "output_type": "stream",
     "text": [
      "['/Users/vijaykeswani/Research/Control Set Audit/Plugin Code/Other files/Control_Faces_2/pher000013.jpg', <tensorflow.python.keras.engine.functional.Functional object at 0x14a3fde80>, (224, 224)] [Errno 2] No such file or directory: '/Users/vijaykeswani/Research/Control Set Audit/Plugin Code/Other files/Control_Faces_2/pher000013.jpg'\n"
     ]
    },
    {
     "name": "stderr",
     "output_type": "stream",
     "text": [
      " 14%|█▍        | 142/1000 [03:51<1:15:58,  5.31s/it]"
     ]
    },
    {
     "name": "stdout",
     "output_type": "stream",
     "text": [
      "['/Users/vijaykeswani/Research/Control Set Audit/Plugin Code/Other files/Control_Faces_2/tech000081.jpg', <tensorflow.python.keras.engine.functional.Functional object at 0x14a3fde80>, (224, 224)] [Errno 2] No such file or directory: '/Users/vijaykeswani/Research/Control Set Audit/Plugin Code/Other files/Control_Faces_2/tech000081.jpg'\n"
     ]
    },
    {
     "name": "stderr",
     "output_type": "stream",
     "text": [
      " 15%|█▍        | 149/1000 [03:58<26:54,  1.90s/it]  "
     ]
    },
    {
     "name": "stdout",
     "output_type": "stream",
     "text": [
      "['/Users/vijaykeswani/Research/Control Set Audit/Plugin Code/Other files/Control_Faces_2/ator000015.jpg', <tensorflow.python.keras.engine.functional.Functional object at 0x14a3fde80>, (224, 224)] [Errno 2] No such file or directory: '/Users/vijaykeswani/Research/Control Set Audit/Plugin Code/Other files/Control_Faces_2/ator000015.jpg'\n"
     ]
    },
    {
     "name": "stderr",
     "output_type": "stream",
     "text": [
      "\r",
      " 15%|█▌        | 150/1000 [04:00<25:52,  1.83s/it]"
     ]
    },
    {
     "name": "stdout",
     "output_type": "stream",
     "text": [
      "['/Users/vijaykeswani/Research/Control Set Audit/Plugin Code/Other files/Control_Faces_2/uard000045.jpg', <tensorflow.python.keras.engine.functional.Functional object at 0x14a3fde80>, (224, 224)] [Errno 2] No such file or directory: '/Users/vijaykeswani/Research/Control Set Audit/Plugin Code/Other files/Control_Faces_2/uard000045.jpg'\n"
     ]
    },
    {
     "name": "stderr",
     "output_type": "stream",
     "text": [
      " 16%|█▌        | 155/1000 [04:04<18:24,  1.31s/it]"
     ]
    },
    {
     "name": "stdout",
     "output_type": "stream",
     "text": [
      "['/Users/vijaykeswani/Research/Control Set Audit/Plugin Code/Other files/Control_Faces_2/eper000043.jpg', <tensorflow.python.keras.engine.functional.Functional object at 0x14a3fde80>, (224, 224)] [Errno 2] No such file or directory: '/Users/vijaykeswani/Research/Control Set Audit/Plugin Code/Other files/Control_Faces_2/eper000043.jpg'\n"
     ]
    },
    {
     "name": "stderr",
     "output_type": "stream",
     "text": [
      "\r",
      " 16%|█▌        | 156/1000 [04:05<15:39,  1.11s/it]"
     ]
    },
    {
     "name": "stdout",
     "output_type": "stream",
     "text": [
      "['/Users/vijaykeswani/Research/Control Set Audit/Plugin Code/Other files/Control_Faces_2/gner000071.jpg', <tensorflow.python.keras.engine.functional.Functional object at 0x14a3fde80>, (224, 224)] [Errno 2] No such file or directory: '/Users/vijaykeswani/Research/Control Set Audit/Plugin Code/Other files/Control_Faces_2/gner000071.jpg'\n"
     ]
    },
    {
     "name": "stderr",
     "output_type": "stream",
     "text": [
      "\r",
      " 16%|█▌        | 157/1000 [04:06<16:10,  1.15s/it]"
     ]
    },
    {
     "name": "stdout",
     "output_type": "stream",
     "text": [
      "['/Users/vijaykeswani/Research/Control Set Audit/Plugin Code/Other files/Control_Faces_2/eper000036.jpg', <tensorflow.python.keras.engine.functional.Functional object at 0x14a3fde80>, (224, 224)] [Errno 2] No such file or directory: '/Users/vijaykeswani/Research/Control Set Audit/Plugin Code/Other files/Control_Faces_2/eper000036.jpg'\n"
     ]
    },
    {
     "name": "stderr",
     "output_type": "stream",
     "text": [
      " 16%|█▋        | 165/1000 [04:16<16:33,  1.19s/it]"
     ]
    },
    {
     "name": "stdout",
     "output_type": "stream",
     "text": [
      "['/Users/vijaykeswani/Research/Control Set Audit/Plugin Code/Other files/Control_Faces_2/ilot000025.jpg', <tensorflow.python.keras.engine.functional.Functional object at 0x14a3fde80>, (224, 224)] [Errno 2] No such file or directory: '/Users/vijaykeswani/Research/Control Set Audit/Plugin Code/Other files/Control_Faces_2/ilot000025.jpg'\n"
     ]
    },
    {
     "name": "stderr",
     "output_type": "stream",
     "text": [
      "\r",
      " 17%|█▋        | 166/1000 [04:17<15:02,  1.08s/it]"
     ]
    },
    {
     "name": "stdout",
     "output_type": "stream",
     "text": [
      "['/Users/vijaykeswani/Research/Control Set Audit/Plugin Code/Other files/Control_Faces_2/ator000057.jpg', <tensorflow.python.keras.engine.functional.Functional object at 0x14a3fde80>, (224, 224)] [Errno 2] No such file or directory: '/Users/vijaykeswani/Research/Control Set Audit/Plugin Code/Other files/Control_Faces_2/ator000057.jpg'\n"
     ]
    },
    {
     "name": "stderr",
     "output_type": "stream",
     "text": [
      " 17%|█▋        | 169/1000 [04:21<16:59,  1.23s/it]"
     ]
    },
    {
     "name": "stdout",
     "output_type": "stream",
     "text": [
      "['/Users/vijaykeswani/Research/Control Set Audit/Plugin Code/Other files/Control_Faces_2/ator000081.jpg', <tensorflow.python.keras.engine.functional.Functional object at 0x14a3fde80>, (224, 224)] [Errno 2] No such file or directory: '/Users/vijaykeswani/Research/Control Set Audit/Plugin Code/Other files/Control_Faces_2/ator000081.jpg'\n"
     ]
    },
    {
     "name": "stderr",
     "output_type": "stream",
     "text": [
      "\r",
      " 17%|█▋        | 171/1000 [04:22<14:05,  1.02s/it]"
     ]
    },
    {
     "name": "stdout",
     "output_type": "stream",
     "text": [
      "['/Users/vijaykeswani/Research/Control Set Audit/Plugin Code/Other files/Control_Faces_2/iver000046.jpg', <tensorflow.python.keras.engine.functional.Functional object at 0x14a3fde80>, (224, 224)] [Errno 2] No such file or directory: '/Users/vijaykeswani/Research/Control Set Audit/Plugin Code/Other files/Control_Faces_2/iver000046.jpg'\n"
     ]
    },
    {
     "name": "stderr",
     "output_type": "stream",
     "text": [
      " 18%|█▊        | 176/1000 [04:33<22:21,  1.63s/it]"
     ]
    },
    {
     "name": "stdout",
     "output_type": "stream",
     "text": [
      "['/Users/vijaykeswani/Research/Control Set Audit/Plugin Code/Other files/Control_Faces_2/gent000017.jpg', <tensorflow.python.keras.engine.functional.Functional object at 0x14a3fde80>, (224, 224)] [Errno 2] No such file or directory: '/Users/vijaykeswani/Research/Control Set Audit/Plugin Code/Other files/Control_Faces_2/gent000017.jpg'\n"
     ]
    },
    {
     "name": "stderr",
     "output_type": "stream",
     "text": [
      "\r",
      " 18%|█▊        | 177/1000 [04:34<19:05,  1.39s/it]"
     ]
    },
    {
     "name": "stdout",
     "output_type": "stream",
     "text": [
      "['/Users/vijaykeswani/Research/Control Set Audit/Plugin Code/Other files/Control_Faces_2/cher000030.jpg', <tensorflow.python.keras.engine.functional.Functional object at 0x14a3fde80>, (224, 224)] [Errno 2] No such file or directory: '/Users/vijaykeswani/Research/Control Set Audit/Plugin Code/Other files/Control_Faces_2/cher000030.jpg'\n"
     ]
    },
    {
     "name": "stderr",
     "output_type": "stream",
     "text": [
      "\r",
      " 18%|█▊        | 178/1000 [04:34<15:58,  1.17s/it]"
     ]
    },
    {
     "name": "stdout",
     "output_type": "stream",
     "text": [
      "['/Users/vijaykeswani/Research/Control Set Audit/Plugin Code/Other files/Control_Faces_2/tant000008.jpg', <tensorflow.python.keras.engine.functional.Functional object at 0x14a3fde80>, (224, 224)] [Errno 2] No such file or directory: '/Users/vijaykeswani/Research/Control Set Audit/Plugin Code/Other files/Control_Faces_2/tant000008.jpg'\n"
     ]
    },
    {
     "name": "stderr",
     "output_type": "stream",
     "text": [
      " 18%|█▊        | 182/1000 [04:47<28:34,  2.10s/it]"
     ]
    },
    {
     "name": "stdout",
     "output_type": "stream",
     "text": [
      "['/Users/vijaykeswani/Research/Control Set Audit/Plugin Code/Other files/Control_Faces_2/ctor000022.jpg', <tensorflow.python.keras.engine.functional.Functional object at 0x14a3fde80>, (224, 224)] [Errno 2] No such file or directory: '/Users/vijaykeswani/Research/Control Set Audit/Plugin Code/Other files/Control_Faces_2/ctor000022.jpg'\n"
     ]
    },
    {
     "name": "stderr",
     "output_type": "stream",
     "text": [
      "\r",
      " 18%|█▊        | 183/1000 [04:48<23:52,  1.75s/it]"
     ]
    },
    {
     "name": "stdout",
     "output_type": "stream",
     "text": [
      "['/Users/vijaykeswani/Research/Control Set Audit/Plugin Code/Other files/Control_Faces_2/ilot000077.jpg', <tensorflow.python.keras.engine.functional.Functional object at 0x14a3fde80>, (224, 224)] [Errno 2] No such file or directory: '/Users/vijaykeswani/Research/Control Set Audit/Plugin Code/Other files/Control_Faces_2/ilot000077.jpg'\n"
     ]
    },
    {
     "name": "stderr",
     "output_type": "stream",
     "text": [
      "\r",
      " 18%|█▊        | 184/1000 [04:49<20:14,  1.49s/it]"
     ]
    },
    {
     "name": "stdout",
     "output_type": "stream",
     "text": [
      "['/Users/vijaykeswani/Research/Control Set Audit/Plugin Code/Other files/Control_Faces_2/oper000047.jpg', <tensorflow.python.keras.engine.functional.Functional object at 0x14a3fde80>, (224, 224)] [Errno 2] No such file or directory: '/Users/vijaykeswani/Research/Control Set Audit/Plugin Code/Other files/Control_Faces_2/oper000047.jpg'\n"
     ]
    },
    {
     "name": "stderr",
     "output_type": "stream",
     "text": [
      " 19%|█▉        | 189/1000 [04:54<16:33,  1.23s/it]"
     ]
    },
    {
     "name": "stdout",
     "output_type": "stream",
     "text": [
      "['/Users/vijaykeswani/Research/Control Set Audit/Plugin Code/Other files/Control_Faces_2/ator000075.jpg', <tensorflow.python.keras.engine.functional.Functional object at 0x14a3fde80>, (224, 224)] [Errno 2] No such file or directory: '/Users/vijaykeswani/Research/Control Set Audit/Plugin Code/Other files/Control_Faces_2/ator000075.jpg'\n"
     ]
    },
    {
     "name": "stderr",
     "output_type": "stream",
     "text": [
      " 19%|█▉        | 194/1000 [04:58<13:01,  1.03it/s]"
     ]
    },
    {
     "name": "stdout",
     "output_type": "stream",
     "text": [
      "['/Users/vijaykeswani/Research/Control Set Audit/Plugin Code/Other files/Control_Faces_2/gent000008.jpg', <tensorflow.python.keras.engine.functional.Functional object at 0x14a3fde80>, (224, 224)] [Errno 2] No such file or directory: '/Users/vijaykeswani/Research/Control Set Audit/Plugin Code/Other files/Control_Faces_2/gent000008.jpg'\n"
     ]
    },
    {
     "name": "stderr",
     "output_type": "stream",
     "text": [
      "\r",
      " 20%|█▉        | 196/1000 [04:59<12:16,  1.09it/s]"
     ]
    },
    {
     "name": "stdout",
     "output_type": "stream",
     "text": [
      "['/Users/vijaykeswani/Research/Control Set Audit/Plugin Code/Other files/Control_Faces_2/pher000050.jpg', <tensorflow.python.keras.engine.functional.Functional object at 0x14a3fde80>, (224, 224)] [Errno 2] No such file or directory: '/Users/vijaykeswani/Research/Control Set Audit/Plugin Code/Other files/Control_Faces_2/pher000050.jpg'\n"
     ]
    },
    {
     "name": "stderr",
     "output_type": "stream",
     "text": [
      "\r",
      " 20%|█▉        | 197/1000 [05:02<18:45,  1.40s/it]"
     ]
    },
    {
     "name": "stdout",
     "output_type": "stream",
     "text": [
      "['/Users/vijaykeswani/Research/Control Set Audit/Plugin Code/Other files/Control_Faces_2/tant000037.jpg', <tensorflow.python.keras.engine.functional.Functional object at 0x14a3fde80>, (224, 224)] [Errno 2] No such file or directory: '/Users/vijaykeswani/Research/Control Set Audit/Plugin Code/Other files/Control_Faces_2/tant000037.jpg'\n"
     ]
    },
    {
     "name": "stderr",
     "output_type": "stream",
     "text": [
      "\r",
      " 20%|█▉        | 198/1000 [05:03<15:33,  1.16s/it]"
     ]
    },
    {
     "name": "stdout",
     "output_type": "stream",
     "text": [
      "['/Users/vijaykeswani/Research/Control Set Audit/Plugin Code/Other files/Control_Faces_2/ator000014.jpg', <tensorflow.python.keras.engine.functional.Functional object at 0x14a3fde80>, (224, 224)] [Errno 2] No such file or directory: '/Users/vijaykeswani/Research/Control Set Audit/Plugin Code/Other files/Control_Faces_2/ator000014.jpg'\n"
     ]
    },
    {
     "name": "stderr",
     "output_type": "stream",
     "text": [
      "\r",
      " 20%|█▉        | 199/1000 [05:03<13:27,  1.01s/it]"
     ]
    },
    {
     "name": "stdout",
     "output_type": "stream",
     "text": [
      "['/Users/vijaykeswani/Research/Control Set Audit/Plugin Code/Other files/Control_Faces_2/ator000021.jpg', <tensorflow.python.keras.engine.functional.Functional object at 0x14a3fde80>, (224, 224)] [Errno 2] No such file or directory: '/Users/vijaykeswani/Research/Control Set Audit/Plugin Code/Other files/Control_Faces_2/ator000021.jpg'\n"
     ]
    },
    {
     "name": "stderr",
     "output_type": "stream",
     "text": [
      " 21%|██        | 212/1000 [05:27<27:03,  2.06s/it]"
     ]
    },
    {
     "name": "stdout",
     "output_type": "stream",
     "text": [
      "['/Users/vijaykeswani/Research/Control Set Audit/Plugin Code/Other files/Control_Faces_2/nist000088.jpg', <tensorflow.python.keras.engine.functional.Functional object at 0x14a3fde80>, (224, 224)] [Errno 2] No such file or directory: '/Users/vijaykeswani/Research/Control Set Audit/Plugin Code/Other files/Control_Faces_2/nist000088.jpg'\n"
     ]
    },
    {
     "name": "stderr",
     "output_type": "stream",
     "text": [
      " 21%|██▏       | 214/1000 [05:30<21:37,  1.65s/it]"
     ]
    },
    {
     "name": "stdout",
     "output_type": "stream",
     "text": [
      "['/Users/vijaykeswani/Research/Control Set Audit/Plugin Code/Other files/Control_Faces_2/tech000017.jpg', <tensorflow.python.keras.engine.functional.Functional object at 0x14a3fde80>, (224, 224)] [Errno 2] No such file or directory: '/Users/vijaykeswani/Research/Control Set Audit/Plugin Code/Other files/Control_Faces_2/tech000017.jpg'\n"
     ]
    },
    {
     "name": "stderr",
     "output_type": "stream",
     "text": [
      " 22%|██▏       | 218/1000 [05:48<36:28,  2.80s/it]  "
     ]
    },
    {
     "name": "stdout",
     "output_type": "stream",
     "text": [
      "['/Users/vijaykeswani/Research/Control Set Audit/Plugin Code/Other files/Control_Faces_2/dant000063.jpg', <tensorflow.python.keras.engine.functional.Functional object at 0x14a3fde80>, (224, 224)] [Errno 2] No such file or directory: '/Users/vijaykeswani/Research/Control Set Audit/Plugin Code/Other files/Control_Faces_2/dant000063.jpg'\n"
     ]
    },
    {
     "name": "stderr",
     "output_type": "stream",
     "text": [
      " 22%|██▏       | 220/1000 [05:51<26:35,  2.05s/it]"
     ]
    },
    {
     "name": "stdout",
     "output_type": "stream",
     "text": [
      "['/Users/vijaykeswani/Research/Control Set Audit/Plugin Code/Other files/Control_Faces_2/nist000042.jpg', <tensorflow.python.keras.engine.functional.Functional object at 0x14a3fde80>, (224, 224)] [Errno 2] No such file or directory: '/Users/vijaykeswani/Research/Control Set Audit/Plugin Code/Other files/Control_Faces_2/nist000042.jpg'\n"
     ]
    },
    {
     "name": "stderr",
     "output_type": "stream",
     "text": [
      "\r",
      " 22%|██▏       | 221/1000 [05:52<22:34,  1.74s/it]"
     ]
    },
    {
     "name": "stdout",
     "output_type": "stream",
     "text": [
      "['/Users/vijaykeswani/Research/Control Set Audit/Plugin Code/Other files/Control_Faces_2/lyst000040.jpg', <tensorflow.python.keras.engine.functional.Functional object at 0x14a3fde80>, (224, 224)] [Errno 2] No such file or directory: '/Users/vijaykeswani/Research/Control Set Audit/Plugin Code/Other files/Control_Faces_2/lyst000040.jpg'\n"
     ]
    },
    {
     "name": "stderr",
     "output_type": "stream",
     "text": [
      " 22%|██▏       | 223/1000 [05:54<20:23,  1.58s/it]"
     ]
    },
    {
     "name": "stdout",
     "output_type": "stream",
     "text": [
      "['/Users/vijaykeswani/Research/Control Set Audit/Plugin Code/Other files/Control_Faces_2/pher000098.jpg', <tensorflow.python.keras.engine.functional.Functional object at 0x14a3fde80>, (224, 224)] [Errno 2] No such file or directory: '/Users/vijaykeswani/Research/Control Set Audit/Plugin Code/Other files/Control_Faces_2/pher000098.jpg'\n"
     ]
    },
    {
     "name": "stderr",
     "output_type": "stream",
     "text": [
      "\r",
      " 22%|██▏       | 224/1000 [05:55<17:40,  1.37s/it]"
     ]
    },
    {
     "name": "stdout",
     "output_type": "stream",
     "text": [
      "['/Users/vijaykeswani/Research/Control Set Audit/Plugin Code/Other files/Control_Faces_2/mmer000001.jpg', <tensorflow.python.keras.engine.functional.Functional object at 0x14a3fde80>, (224, 224)] [Errno 2] No such file or directory: '/Users/vijaykeswani/Research/Control Set Audit/Plugin Code/Other files/Control_Faces_2/mmer000001.jpg'\n"
     ]
    },
    {
     "name": "stderr",
     "output_type": "stream",
     "text": [
      "\r",
      " 22%|██▎       | 225/1000 [05:56<15:48,  1.22s/it]"
     ]
    },
    {
     "name": "stdout",
     "output_type": "stream",
     "text": [
      "['/Users/vijaykeswani/Research/Control Set Audit/Plugin Code/Other files/Control_Faces_2/mber000020.jpg', <tensorflow.python.keras.engine.functional.Functional object at 0x14a3fde80>, (224, 224)] [Errno 2] No such file or directory: '/Users/vijaykeswani/Research/Control Set Audit/Plugin Code/Other files/Control_Faces_2/mber000020.jpg'\n"
     ]
    },
    {
     "name": "stderr",
     "output_type": "stream",
     "text": [
      " 23%|██▎       | 229/1000 [06:01<13:53,  1.08s/it]"
     ]
    },
    {
     "name": "stdout",
     "output_type": "stream",
     "text": [
      "['/Users/vijaykeswani/Research/Control Set Audit/Plugin Code/Other files/Control_Faces_2/hier000031.jpg', <tensorflow.python.keras.engine.functional.Functional object at 0x14a3fde80>, (224, 224)] [Errno 2] No such file or directory: '/Users/vijaykeswani/Research/Control Set Audit/Plugin Code/Other files/Control_Faces_2/hier000031.jpg'\n"
     ]
    },
    {
     "name": "stderr",
     "output_type": "stream",
     "text": [
      "\r",
      " 23%|██▎       | 231/1000 [06:02<12:17,  1.04it/s]"
     ]
    },
    {
     "name": "stdout",
     "output_type": "stream",
     "text": [
      "['/Users/vijaykeswani/Research/Control Set Audit/Plugin Code/Other files/Control_Faces_2/uard000007.jpg', <tensorflow.python.keras.engine.functional.Functional object at 0x14a3fde80>, (224, 224)] [Errno 2] No such file or directory: '/Users/vijaykeswani/Research/Control Set Audit/Plugin Code/Other files/Control_Faces_2/uard000007.jpg'\n"
     ]
    },
    {
     "name": "stderr",
     "output_type": "stream",
     "text": [
      "\r",
      " 23%|██▎       | 232/1000 [06:03<11:28,  1.12it/s]"
     ]
    },
    {
     "name": "stdout",
     "output_type": "stream",
     "text": [
      "['/Users/vijaykeswani/Research/Control Set Audit/Plugin Code/Other files/Control_Faces_2/eper000068.jpg', <tensorflow.python.keras.engine.functional.Functional object at 0x14a3fde80>, (224, 224)] [Errno 2] No such file or directory: '/Users/vijaykeswani/Research/Control Set Audit/Plugin Code/Other files/Control_Faces_2/eper000068.jpg'\n"
     ]
    },
    {
     "name": "stderr",
     "output_type": "stream",
     "text": [
      " 24%|██▎       | 236/1000 [06:06<12:07,  1.05it/s]"
     ]
    },
    {
     "name": "stdout",
     "output_type": "stream",
     "text": [
      "['/Users/vijaykeswani/Research/Control Set Audit/Plugin Code/Other files/Control_Faces_2/fter000050.jpg', <tensorflow.python.keras.engine.functional.Functional object at 0x14a3fde80>, (224, 224)] [Errno 2] No such file or directory: '/Users/vijaykeswani/Research/Control Set Audit/Plugin Code/Other files/Control_Faces_2/fter000050.jpg'\n"
     ]
    },
    {
     "name": "stderr",
     "output_type": "stream",
     "text": [
      "\r",
      " 24%|██▍       | 239/1000 [06:08<10:07,  1.25it/s]"
     ]
    },
    {
     "name": "stdout",
     "output_type": "stream",
     "text": [
      "['/Users/vijaykeswani/Research/Control Set Audit/Plugin Code/Other files/Control_Faces_2/ctor000024.jpg', <tensorflow.python.keras.engine.functional.Functional object at 0x14a3fde80>, (224, 224)] [Errno 2] No such file or directory: '/Users/vijaykeswani/Research/Control Set Audit/Plugin Code/Other files/Control_Faces_2/ctor000024.jpg'\n"
     ]
    },
    {
     "name": "stderr",
     "output_type": "stream",
     "text": [
      " 24%|██▍       | 242/1000 [06:10<09:06,  1.39it/s]"
     ]
    },
    {
     "name": "stdout",
     "output_type": "stream",
     "text": [
      "['/Users/vijaykeswani/Research/Control Set Audit/Plugin Code/Other files/Control_Faces_2/iver000099.jpg', <tensorflow.python.keras.engine.functional.Functional object at 0x14a3fde80>, (224, 224)] [Errno 2] No such file or directory: '/Users/vijaykeswani/Research/Control Set Audit/Plugin Code/Other files/Control_Faces_2/iver000099.jpg'\n"
     ]
    },
    {
     "name": "stderr",
     "output_type": "stream",
     "text": [
      " 25%|██▍       | 246/1000 [06:31<44:47,  3.56s/it]"
     ]
    },
    {
     "name": "stdout",
     "output_type": "stream",
     "text": [
      "['/Users/vijaykeswani/Research/Control Set Audit/Plugin Code/Other files/Control_Faces_2/mist000020.jpg', <tensorflow.python.keras.engine.functional.Functional object at 0x14a3fde80>, (224, 224)] [Errno 2] No such file or directory: '/Users/vijaykeswani/Research/Control Set Audit/Plugin Code/Other files/Control_Faces_2/mist000020.jpg'\n"
     ]
    },
    {
     "name": "stderr",
     "output_type": "stream",
     "text": [
      " 25%|██▌       | 251/1000 [06:37<22:07,  1.77s/it]"
     ]
    },
    {
     "name": "stdout",
     "output_type": "stream",
     "text": [
      "['/Users/vijaykeswani/Research/Control Set Audit/Plugin Code/Other files/Control_Faces_2/rker000044.jpg', <tensorflow.python.keras.engine.functional.Functional object at 0x14a3fde80>, (224, 224)] [Errno 2] No such file or directory: '/Users/vijaykeswani/Research/Control Set Audit/Plugin Code/Other files/Control_Faces_2/rker000044.jpg'\n"
     ]
    },
    {
     "name": "stderr",
     "output_type": "stream",
     "text": [
      "\r",
      " 25%|██▌       | 252/1000 [06:39<21:19,  1.71s/it]"
     ]
    },
    {
     "name": "stdout",
     "output_type": "stream",
     "text": [
      "['/Users/vijaykeswani/Research/Control Set Audit/Plugin Code/Other files/Control_Faces_2/uard000059.jpg', <tensorflow.python.keras.engine.functional.Functional object at 0x14a3fde80>, (224, 224)] [Errno 2] No such file or directory: '/Users/vijaykeswani/Research/Control Set Audit/Plugin Code/Other files/Control_Faces_2/uard000059.jpg'\n"
     ]
    },
    {
     "name": "stderr",
     "output_type": "stream",
     "text": [
      " 26%|██▌       | 260/1000 [06:49<14:45,  1.20s/it]"
     ]
    },
    {
     "name": "stdout",
     "output_type": "stream",
     "text": [
      "['/Users/vijaykeswani/Research/Control Set Audit/Plugin Code/Other files/Control_Faces_2/cist000085.jpg', <tensorflow.python.keras.engine.functional.Functional object at 0x14a3fde80>, (224, 224)] [Errno 2] No such file or directory: '/Users/vijaykeswani/Research/Control Set Audit/Plugin Code/Other files/Control_Faces_2/cist000085.jpg'\n"
     ]
    },
    {
     "name": "stderr",
     "output_type": "stream",
     "text": [
      " 26%|██▌       | 262/1000 [06:52<14:32,  1.18s/it]"
     ]
    },
    {
     "name": "stdout",
     "output_type": "stream",
     "text": [
      "['/Users/vijaykeswani/Research/Control Set Audit/Plugin Code/Other files/Control_Faces_2/aker000097.jpg', <tensorflow.python.keras.engine.functional.Functional object at 0x14a3fde80>, (224, 224)] [Errno 2] No such file or directory: '/Users/vijaykeswani/Research/Control Set Audit/Plugin Code/Other files/Control_Faces_2/aker000097.jpg'\n"
     ]
    },
    {
     "name": "stderr",
     "output_type": "stream",
     "text": [
      " 27%|██▋       | 267/1000 [06:59<15:07,  1.24s/it]"
     ]
    },
    {
     "name": "stdout",
     "output_type": "stream",
     "text": [
      "['/Users/vijaykeswani/Research/Control Set Audit/Plugin Code/Other files/Control_Faces_2/ator000001.jpg', <tensorflow.python.keras.engine.functional.Functional object at 0x14a3fde80>, (224, 224)] [Errno 2] No such file or directory: '/Users/vijaykeswani/Research/Control Set Audit/Plugin Code/Other files/Control_Faces_2/ator000001.jpg'\n"
     ]
    },
    {
     "name": "stderr",
     "output_type": "stream",
     "text": [
      " 27%|██▋       | 269/1000 [07:01<14:23,  1.18s/it]"
     ]
    },
    {
     "name": "stdout",
     "output_type": "stream",
     "text": [
      "['/Users/vijaykeswani/Research/Control Set Audit/Plugin Code/Other files/Control_Faces_2/itor000029.jpg', <tensorflow.python.keras.engine.functional.Functional object at 0x14a3fde80>, (224, 224)] [Errno 2] No such file or directory: '/Users/vijaykeswani/Research/Control Set Audit/Plugin Code/Other files/Control_Faces_2/itor000029.jpg'\n"
     ]
    },
    {
     "name": "stderr",
     "output_type": "stream",
     "text": [
      " 27%|██▋       | 272/1000 [07:10<29:18,  2.42s/it]"
     ]
    },
    {
     "name": "stdout",
     "output_type": "stream",
     "text": [
      "['/Users/vijaykeswani/Research/Control Set Audit/Plugin Code/Other files/Control_Faces_2/nist000015.jpg', <tensorflow.python.keras.engine.functional.Functional object at 0x14a3fde80>, (224, 224)] [Errno 2] No such file or directory: '/Users/vijaykeswani/Research/Control Set Audit/Plugin Code/Other files/Control_Faces_2/nist000015.jpg'\n"
     ]
    },
    {
     "name": "stderr",
     "output_type": "stream",
     "text": [
      " 28%|██▊       | 276/1000 [07:17<21:13,  1.76s/it]"
     ]
    },
    {
     "name": "stdout",
     "output_type": "stream",
     "text": [
      "['/Users/vijaykeswani/Research/Control Set Audit/Plugin Code/Other files/Control_Faces_2/ctor000083.jpg', <tensorflow.python.keras.engine.functional.Functional object at 0x14a3fde80>, (224, 224)] [Errno 2] No such file or directory: '/Users/vijaykeswani/Research/Control Set Audit/Plugin Code/Other files/Control_Faces_2/ctor000083.jpg'\n"
     ]
    },
    {
     "name": "stderr",
     "output_type": "stream",
     "text": [
      "\r",
      " 28%|██▊       | 277/1000 [07:18<18:21,  1.52s/it]"
     ]
    },
    {
     "name": "stdout",
     "output_type": "stream",
     "text": [
      "['/Users/vijaykeswani/Research/Control Set Audit/Plugin Code/Other files/Control_Faces_2/tive000031.jpg', <tensorflow.python.keras.engine.functional.Functional object at 0x14a3fde80>, (224, 224)] [Errno 2] No such file or directory: '/Users/vijaykeswani/Research/Control Set Audit/Plugin Code/Other files/Control_Faces_2/tive000031.jpg'\n"
     ]
    },
    {
     "name": "stderr",
     "output_type": "stream",
     "text": [
      " 28%|██▊       | 283/1000 [07:24<12:10,  1.02s/it]"
     ]
    },
    {
     "name": "stdout",
     "output_type": "stream",
     "text": [
      "['/Users/vijaykeswani/Research/Control Set Audit/Plugin Code/Other files/Control_Faces_2/uard000068.jpg', <tensorflow.python.keras.engine.functional.Functional object at 0x14a3fde80>, (224, 224)] [Errno 2] No such file or directory: '/Users/vijaykeswani/Research/Control Set Audit/Plugin Code/Other files/Control_Faces_2/uard000068.jpg'\n"
     ]
    },
    {
     "name": "stderr",
     "output_type": "stream",
     "text": [
      " 29%|██▉       | 290/1000 [07:32<12:57,  1.10s/it]"
     ]
    },
    {
     "name": "stdout",
     "output_type": "stream",
     "text": [
      "['/Users/vijaykeswani/Research/Control Set Audit/Plugin Code/Other files/Control_Faces_2/rier000019.jpg', <tensorflow.python.keras.engine.functional.Functional object at 0x14a3fde80>, (224, 224)] [Errno 2] No such file or directory: '/Users/vijaykeswani/Research/Control Set Audit/Plugin Code/Other files/Control_Faces_2/rier000019.jpg'\n"
     ]
    },
    {
     "name": "stderr",
     "output_type": "stream",
     "text": [
      " 29%|██▉       | 293/1000 [07:34<10:44,  1.10it/s]"
     ]
    },
    {
     "name": "stdout",
     "output_type": "stream",
     "text": [
      "['/Users/vijaykeswani/Research/Control Set Audit/Plugin Code/Other files/Control_Faces_2/ctor000062.jpg', <tensorflow.python.keras.engine.functional.Functional object at 0x14a3fde80>, (224, 224)] [Errno 2] No such file or directory: '/Users/vijaykeswani/Research/Control Set Audit/Plugin Code/Other files/Control_Faces_2/ctor000062.jpg'\n"
     ]
    },
    {
     "name": "stderr",
     "output_type": "stream",
     "text": [
      "\r",
      " 29%|██▉       | 294/1000 [07:36<13:34,  1.15s/it]"
     ]
    },
    {
     "name": "stdout",
     "output_type": "stream",
     "text": [
      "['/Users/vijaykeswani/Research/Control Set Audit/Plugin Code/Other files/Control_Faces_2/ator000064.jpg', <tensorflow.python.keras.engine.functional.Functional object at 0x14a3fde80>, (224, 224)] [Errno 2] No such file or directory: '/Users/vijaykeswani/Research/Control Set Audit/Plugin Code/Other files/Control_Faces_2/ator000064.jpg'\n"
     ]
    },
    {
     "name": "stderr",
     "output_type": "stream",
     "text": [
      " 30%|██▉       | 296/1000 [07:38<13:01,  1.11s/it]"
     ]
    },
    {
     "name": "stdout",
     "output_type": "stream",
     "text": [
      "['/Users/vijaykeswani/Research/Control Set Audit/Plugin Code/Other files/Control_Faces_2/rian000085.jpg', <tensorflow.python.keras.engine.functional.Functional object at 0x14a3fde80>, (224, 224)] [Errno 2] No such file or directory: '/Users/vijaykeswani/Research/Control Set Audit/Plugin Code/Other files/Control_Faces_2/rian000085.jpg'\n"
     ]
    },
    {
     "name": "stderr",
     "output_type": "stream",
     "text": [
      " 30%|██▉       | 299/1000 [07:53<41:29,  3.55s/it]"
     ]
    },
    {
     "name": "stdout",
     "output_type": "stream",
     "text": [
      "['/Users/vijaykeswani/Research/Control Set Audit/Plugin Code/Other files/Control_Faces_2/rson000068.jpg', <tensorflow.python.keras.engine.functional.Functional object at 0x14a3fde80>, (224, 224)] [Errno 2] No such file or directory: '/Users/vijaykeswani/Research/Control Set Audit/Plugin Code/Other files/Control_Faces_2/rson000068.jpg'\n"
     ]
    },
    {
     "name": "stderr",
     "output_type": "stream",
     "text": [
      " 31%|███       | 306/1000 [08:01<28:04,  2.43s/it]"
     ]
    },
    {
     "name": "stdout",
     "output_type": "stream",
     "text": [
      "['/Users/vijaykeswani/Research/Control Set Audit/Plugin Code/Other files/Control_Faces_2/cian000100.jpg', <tensorflow.python.keras.engine.functional.Functional object at 0x14a3fde80>, (224, 224)] [Errno 2] No such file or directory: '/Users/vijaykeswani/Research/Control Set Audit/Plugin Code/Other files/Control_Faces_2/cian000100.jpg'\n"
     ]
    },
    {
     "name": "stderr",
     "output_type": "stream",
     "text": [
      " 31%|███▏      | 314/1000 [08:15<19:37,  1.72s/it]"
     ]
    },
    {
     "name": "stdout",
     "output_type": "stream",
     "text": [
      "['/Users/vijaykeswani/Research/Control Set Audit/Plugin Code/Other files/Control_Faces_2/ator000093.jpg', <tensorflow.python.keras.engine.functional.Functional object at 0x14a3fde80>, (224, 224)] [Errno 2] No such file or directory: '/Users/vijaykeswani/Research/Control Set Audit/Plugin Code/Other files/Control_Faces_2/ator000093.jpg'\n"
     ]
    },
    {
     "name": "stderr",
     "output_type": "stream",
     "text": [
      " 32%|███▏      | 317/1000 [08:19<18:56,  1.66s/it]"
     ]
    },
    {
     "name": "stdout",
     "output_type": "stream",
     "text": [
      "['/Users/vijaykeswani/Research/Control Set Audit/Plugin Code/Other files/Control_Faces_2/tist000001.jpg', <tensorflow.python.keras.engine.functional.Functional object at 0x14a3fde80>, (224, 224)] [Errno 2] No such file or directory: '/Users/vijaykeswani/Research/Control Set Audit/Plugin Code/Other files/Control_Faces_2/tist000001.jpg'\n"
     ]
    },
    {
     "name": "stderr",
     "output_type": "stream",
     "text": [
      " 32%|███▏      | 321/1000 [08:22<12:19,  1.09s/it]"
     ]
    },
    {
     "name": "stdout",
     "output_type": "stream",
     "text": [
      "['/Users/vijaykeswani/Research/Control Set Audit/Plugin Code/Other files/Control_Faces_2/ilot000060.jpg', <tensorflow.python.keras.engine.functional.Functional object at 0x14a3fde80>, (224, 224)] [Errno 2] No such file or directory: '/Users/vijaykeswani/Research/Control Set Audit/Plugin Code/Other files/Control_Faces_2/ilot000060.jpg'\n"
     ]
    },
    {
     "name": "stderr",
     "output_type": "stream",
     "text": [
      "\r",
      " 32%|███▏      | 323/1000 [08:23<10:00,  1.13it/s]"
     ]
    },
    {
     "name": "stdout",
     "output_type": "stream",
     "text": [
      "['/Users/vijaykeswani/Research/Control Set Audit/Plugin Code/Other files/Control_Faces_2/pher000018.jpg', <tensorflow.python.keras.engine.functional.Functional object at 0x14a3fde80>, (224, 224)] [Errno 2] No such file or directory: '/Users/vijaykeswani/Research/Control Set Audit/Plugin Code/Other files/Control_Faces_2/pher000018.jpg'\n"
     ]
    },
    {
     "name": "stderr",
     "output_type": "stream",
     "text": [
      "\r",
      " 32%|███▏      | 324/1000 [08:24<11:52,  1.05s/it]"
     ]
    },
    {
     "name": "stdout",
     "output_type": "stream",
     "text": [
      "['/Users/vijaykeswani/Research/Control Set Audit/Plugin Code/Other files/Control_Faces_2/cian000021.jpg', <tensorflow.python.keras.engine.functional.Functional object at 0x14a3fde80>, (224, 224)] [Errno 2] No such file or directory: '/Users/vijaykeswani/Research/Control Set Audit/Plugin Code/Other files/Control_Faces_2/cian000021.jpg'\n"
     ]
    },
    {
     "name": "stderr",
     "output_type": "stream",
     "text": [
      " 33%|███▎      | 326/1000 [08:27<12:53,  1.15s/it]"
     ]
    },
    {
     "name": "stdout",
     "output_type": "stream",
     "text": [
      "['/Users/vijaykeswani/Research/Control Set Audit/Plugin Code/Other files/Control_Faces_2/ctor000023.jpg', <tensorflow.python.keras.engine.functional.Functional object at 0x14a3fde80>, (224, 224)] [Errno 2] No such file or directory: '/Users/vijaykeswani/Research/Control Set Audit/Plugin Code/Other files/Control_Faces_2/ctor000023.jpg'\n"
     ]
    },
    {
     "name": "stderr",
     "output_type": "stream",
     "text": [
      "\r",
      " 33%|███▎      | 327/1000 [08:30<19:44,  1.76s/it]"
     ]
    },
    {
     "name": "stdout",
     "output_type": "stream",
     "text": [
      "['/Users/vijaykeswani/Research/Control Set Audit/Plugin Code/Other files/Control_Faces_2/ctor000094.jpg', <tensorflow.python.keras.engine.functional.Functional object at 0x14a3fde80>, (224, 224)] [Errno 2] No such file or directory: '/Users/vijaykeswani/Research/Control Set Audit/Plugin Code/Other files/Control_Faces_2/ctor000094.jpg'\n"
     ]
    },
    {
     "name": "stderr",
     "output_type": "stream",
     "text": [
      " 33%|███▎      | 329/1000 [08:33<17:05,  1.53s/it]"
     ]
    },
    {
     "name": "stdout",
     "output_type": "stream",
     "text": [
      "['/Users/vijaykeswani/Research/Control Set Audit/Plugin Code/Other files/Control_Faces_2/rier000044.jpg', <tensorflow.python.keras.engine.functional.Functional object at 0x14a3fde80>, (224, 224)] [Errno 2] No such file or directory: '/Users/vijaykeswani/Research/Control Set Audit/Plugin Code/Other files/Control_Faces_2/rier000044.jpg'\n"
     ]
    },
    {
     "name": "stderr",
     "output_type": "stream",
     "text": [
      "\r",
      " 33%|███▎      | 330/1000 [08:33<13:56,  1.25s/it]"
     ]
    },
    {
     "name": "stdout",
     "output_type": "stream",
     "text": [
      "['/Users/vijaykeswani/Research/Control Set Audit/Plugin Code/Other files/Control_Faces_2/nist000001.jpg', <tensorflow.python.keras.engine.functional.Functional object at 0x14a3fde80>, (224, 224)] [Errno 2] No such file or directory: '/Users/vijaykeswani/Research/Control Set Audit/Plugin Code/Other files/Control_Faces_2/nist000001.jpg'\n"
     ]
    },
    {
     "name": "stderr",
     "output_type": "stream",
     "text": [
      " 33%|███▎      | 333/1000 [08:38<16:20,  1.47s/it]"
     ]
    },
    {
     "name": "stdout",
     "output_type": "stream",
     "text": [
      "['/Users/vijaykeswani/Research/Control Set Audit/Plugin Code/Other files/Control_Faces_2/rian000057.jpg', <tensorflow.python.keras.engine.functional.Functional object at 0x14a3fde80>, (224, 224)] [Errno 2] No such file or directory: '/Users/vijaykeswani/Research/Control Set Audit/Plugin Code/Other files/Control_Faces_2/rian000057.jpg'\n"
     ]
    },
    {
     "name": "stderr",
     "output_type": "stream",
     "text": [
      "\r",
      " 34%|███▎      | 336/1000 [08:39<12:04,  1.09s/it]"
     ]
    },
    {
     "name": "stdout",
     "output_type": "stream",
     "text": [
      "['/Users/vijaykeswani/Research/Control Set Audit/Plugin Code/Other files/Control_Faces_2/lyst000056.jpg', <tensorflow.python.keras.engine.functional.Functional object at 0x14a3fde80>, (224, 224)] [Errno 2] No such file or directory: '/Users/vijaykeswani/Research/Control Set Audit/Plugin Code/Other files/Control_Faces_2/lyst000056.jpg'\n"
     ]
    },
    {
     "name": "stderr",
     "output_type": "stream",
     "text": [
      " 34%|███▍      | 339/1000 [08:43<13:39,  1.24s/it]"
     ]
    },
    {
     "name": "stdout",
     "output_type": "stream",
     "text": [
      "['/Users/vijaykeswani/Research/Control Set Audit/Plugin Code/Other files/Control_Faces_2/dant000002.jpg', <tensorflow.python.keras.engine.functional.Functional object at 0x14a3fde80>, (224, 224)] [Errno 2] No such file or directory: '/Users/vijaykeswani/Research/Control Set Audit/Plugin Code/Other files/Control_Faces_2/dant000002.jpg'\n"
     ]
    },
    {
     "name": "stderr",
     "output_type": "stream",
     "text": [
      " 34%|███▍      | 341/1000 [08:45<14:35,  1.33s/it]"
     ]
    },
    {
     "name": "stdout",
     "output_type": "stream",
     "text": [
      "['/Users/vijaykeswani/Research/Control Set Audit/Plugin Code/Other files/Control_Faces_2/lyst000065.jpg', <tensorflow.python.keras.engine.functional.Functional object at 0x14a3fde80>, (224, 224)] [Errno 2] No such file or directory: '/Users/vijaykeswani/Research/Control Set Audit/Plugin Code/Other files/Control_Faces_2/lyst000065.jpg'\n"
     ]
    },
    {
     "name": "stderr",
     "output_type": "stream",
     "text": [
      " 34%|███▍      | 345/1000 [08:50<12:52,  1.18s/it]"
     ]
    },
    {
     "name": "stdout",
     "output_type": "stream",
     "text": [
      "['/Users/vijaykeswani/Research/Control Set Audit/Plugin Code/Other files/Control_Faces_2/pist000081.jpg', <tensorflow.python.keras.engine.functional.Functional object at 0x14a3fde80>, (224, 224)] [Errno 2] No such file or directory: '/Users/vijaykeswani/Research/Control Set Audit/Plugin Code/Other files/Control_Faces_2/pist000081.jpg'\n"
     ]
    },
    {
     "name": "stderr",
     "output_type": "stream",
     "text": [
      " 36%|███▌      | 359/1000 [09:35<13:47,  1.29s/it]"
     ]
    },
    {
     "name": "stdout",
     "output_type": "stream",
     "text": [
      "['/Users/vijaykeswani/Research/Control Set Audit/Plugin Code/Other files/Control_Faces_2/mist000093.jpg', <tensorflow.python.keras.engine.functional.Functional object at 0x14a3fde80>, (224, 224)] [Errno 2] No such file or directory: '/Users/vijaykeswani/Research/Control Set Audit/Plugin Code/Other files/Control_Faces_2/mist000093.jpg'\n"
     ]
    },
    {
     "name": "stderr",
     "output_type": "stream",
     "text": [
      " 37%|███▋      | 367/1000 [09:43<10:42,  1.02s/it]"
     ]
    },
    {
     "name": "stdout",
     "output_type": "stream",
     "text": [
      "['/Users/vijaykeswani/Research/Control Set Audit/Plugin Code/Other files/Control_Faces_2/cher000006.jpg', <tensorflow.python.keras.engine.functional.Functional object at 0x14a3fde80>, (224, 224)] [Errno 2] No such file or directory: '/Users/vijaykeswani/Research/Control Set Audit/Plugin Code/Other files/Control_Faces_2/cher000006.jpg'\n"
     ]
    },
    {
     "name": "stderr",
     "output_type": "stream",
     "text": [
      " 37%|███▋      | 369/1000 [09:45<10:20,  1.02it/s]"
     ]
    },
    {
     "name": "stdout",
     "output_type": "stream",
     "text": [
      "['/Users/vijaykeswani/Research/Control Set Audit/Plugin Code/Other files/Control_Faces_2/ller000084.jpg', <tensorflow.python.keras.engine.functional.Functional object at 0x14a3fde80>, (224, 224)] [Errno 2] No such file or directory: '/Users/vijaykeswani/Research/Control Set Audit/Plugin Code/Other files/Control_Faces_2/ller000084.jpg'\n"
     ]
    },
    {
     "name": "stderr",
     "output_type": "stream",
     "text": [
      " 37%|███▋      | 372/1000 [09:47<09:07,  1.15it/s]"
     ]
    },
    {
     "name": "stdout",
     "output_type": "stream",
     "text": [
      "['/Users/vijaykeswani/Research/Control Set Audit/Plugin Code/Other files/Control_Faces_2/dant000001.jpg', <tensorflow.python.keras.engine.functional.Functional object at 0x14a3fde80>, (224, 224)] [Errno 2] No such file or directory: '/Users/vijaykeswani/Research/Control Set Audit/Plugin Code/Other files/Control_Faces_2/dant000001.jpg'\n"
     ]
    },
    {
     "name": "stderr",
     "output_type": "stream",
     "text": [
      " 38%|███▊      | 384/1000 [09:56<07:16,  1.41it/s]"
     ]
    },
    {
     "name": "stdout",
     "output_type": "stream",
     "text": [
      "['/Users/vijaykeswani/Research/Control Set Audit/Plugin Code/Other files/Control_Faces_2/cook000004.jpg', <tensorflow.python.keras.engine.functional.Functional object at 0x14a3fde80>, (224, 224)] [Errno 2] No such file or directory: '/Users/vijaykeswani/Research/Control Set Audit/Plugin Code/Other files/Control_Faces_2/cook000004.jpg'\n"
     ]
    },
    {
     "name": "stderr",
     "output_type": "stream",
     "text": [
      " 39%|███▉      | 393/1000 [10:06<10:31,  1.04s/it]"
     ]
    },
    {
     "name": "stdout",
     "output_type": "stream",
     "text": [
      "['/Users/vijaykeswani/Research/Control Set Audit/Plugin Code/Other files/Control_Faces_2/cian000094.jpg', <tensorflow.python.keras.engine.functional.Functional object at 0x14a3fde80>, (224, 224)] [Errno 2] No such file or directory: '/Users/vijaykeswani/Research/Control Set Audit/Plugin Code/Other files/Control_Faces_2/cian000094.jpg'\n"
     ]
    },
    {
     "name": "stderr",
     "output_type": "stream",
     "text": [
      " 40%|████      | 400/1000 [10:16<18:20,  1.83s/it]"
     ]
    },
    {
     "name": "stdout",
     "output_type": "stream",
     "text": [
      "['/Users/vijaykeswani/Research/Control Set Audit/Plugin Code/Other files/Control_Faces_2/ator000078.jpg', <tensorflow.python.keras.engine.functional.Functional object at 0x14a3fde80>, (224, 224)] [Errno 2] No such file or directory: '/Users/vijaykeswani/Research/Control Set Audit/Plugin Code/Other files/Control_Faces_2/ator000078.jpg'\n"
     ]
    },
    {
     "name": "stderr",
     "output_type": "stream",
     "text": [
      " 40%|████      | 402/1000 [10:18<13:44,  1.38s/it]"
     ]
    },
    {
     "name": "stdout",
     "output_type": "stream",
     "text": [
      "['/Users/vijaykeswani/Research/Control Set Audit/Plugin Code/Other files/Control_Faces_2/pist000005.jpg', <tensorflow.python.keras.engine.functional.Functional object at 0x14a3fde80>, (224, 224)] [Errno 2] No such file or directory: '/Users/vijaykeswani/Research/Control Set Audit/Plugin Code/Other files/Control_Faces_2/pist000005.jpg'\n"
     ]
    },
    {
     "name": "stderr",
     "output_type": "stream",
     "text": [
      "\r",
      " 40%|████      | 403/1000 [10:19<11:27,  1.15s/it]"
     ]
    },
    {
     "name": "stdout",
     "output_type": "stream",
     "text": [
      "['/Users/vijaykeswani/Research/Control Set Audit/Plugin Code/Other files/Control_Faces_2/eper000052.jpg', <tensorflow.python.keras.engine.functional.Functional object at 0x14a3fde80>, (224, 224)] [Errno 2] No such file or directory: '/Users/vijaykeswani/Research/Control Set Audit/Plugin Code/Other files/Control_Faces_2/eper000052.jpg'\n"
     ]
    },
    {
     "name": "stderr",
     "output_type": "stream",
     "text": [
      "\r",
      " 41%|████      | 406/1000 [10:22<10:26,  1.05s/it]"
     ]
    },
    {
     "name": "stdout",
     "output_type": "stream",
     "text": [
      "['/Users/vijaykeswani/Research/Control Set Audit/Plugin Code/Other files/Control_Faces_2/rker000058.jpg', <tensorflow.python.keras.engine.functional.Functional object at 0x14a3fde80>, (224, 224)] [Errno 2] No such file or directory: '/Users/vijaykeswani/Research/Control Set Audit/Plugin Code/Other files/Control_Faces_2/rker000058.jpg'\n"
     ]
    },
    {
     "name": "stderr",
     "output_type": "stream",
     "text": [
      " 41%|████      | 408/1000 [10:23<08:57,  1.10it/s]"
     ]
    },
    {
     "name": "stdout",
     "output_type": "stream",
     "text": [
      "['/Users/vijaykeswani/Research/Control Set Audit/Plugin Code/Other files/Control_Faces_2/nter000002.jpg', <tensorflow.python.keras.engine.functional.Functional object at 0x14a3fde80>, (224, 224)] [Errno 2] No such file or directory: '/Users/vijaykeswani/Research/Control Set Audit/Plugin Code/Other files/Control_Faces_2/nter000002.jpg'\n"
     ]
    },
    {
     "name": "stderr",
     "output_type": "stream",
     "text": [
      "\r",
      " 41%|████      | 409/1000 [10:33<34:28,  3.50s/it]"
     ]
    },
    {
     "name": "stdout",
     "output_type": "stream",
     "text": [
      "['/Users/vijaykeswani/Research/Control Set Audit/Plugin Code/Other files/Control_Faces_2/ctor000059.jpg', <tensorflow.python.keras.engine.functional.Functional object at 0x14a3fde80>, (224, 224)] [Errno 2] No such file or directory: '/Users/vijaykeswani/Research/Control Set Audit/Plugin Code/Other files/Control_Faces_2/ctor000059.jpg'\n"
     ]
    },
    {
     "name": "stderr",
     "output_type": "stream",
     "text": [
      " 42%|████▏     | 419/1000 [10:47<20:47,  2.15s/it]"
     ]
    },
    {
     "name": "stdout",
     "output_type": "stream",
     "text": [
      "['/Users/vijaykeswani/Research/Control Set Audit/Plugin Code/Other files/Control_Faces_2/mmer000091.jpg', <tensorflow.python.keras.engine.functional.Functional object at 0x14a3fde80>, (224, 224)] [Errno 2] No such file or directory: '/Users/vijaykeswani/Research/Control Set Audit/Plugin Code/Other files/Control_Faces_2/mmer000091.jpg'\n"
     ]
    },
    {
     "name": "stderr",
     "output_type": "stream",
     "text": [
      " 42%|████▏     | 421/1000 [10:51<19:39,  2.04s/it]"
     ]
    },
    {
     "name": "stdout",
     "output_type": "stream",
     "text": [
      "['/Users/vijaykeswani/Research/Control Set Audit/Plugin Code/Other files/Control_Faces_2/hter000090.jpg', <tensorflow.python.keras.engine.functional.Functional object at 0x14a3fde80>, (224, 224)] [Errno 2] No such file or directory: '/Users/vijaykeswani/Research/Control Set Audit/Plugin Code/Other files/Control_Faces_2/hter000090.jpg'\n"
     ]
    },
    {
     "name": "stderr",
     "output_type": "stream",
     "text": [
      " 42%|████▏     | 423/1000 [10:55<19:00,  1.98s/it]"
     ]
    },
    {
     "name": "stdout",
     "output_type": "stream",
     "text": [
      "['/Users/vijaykeswani/Research/Control Set Audit/Plugin Code/Other files/Control_Faces_2/tect000026.jpg', <tensorflow.python.keras.engine.functional.Functional object at 0x14a3fde80>, (224, 224)] [Errno 2] No such file or directory: '/Users/vijaykeswani/Research/Control Set Audit/Plugin Code/Other files/Control_Faces_2/tect000026.jpg'\n"
     ]
    },
    {
     "name": "stderr",
     "output_type": "stream",
     "text": [
      " 43%|████▎     | 427/1000 [10:58<11:58,  1.25s/it]"
     ]
    },
    {
     "name": "stdout",
     "output_type": "stream",
     "text": [
      "['/Users/vijaykeswani/Research/Control Set Audit/Plugin Code/Other files/Control_Faces_2/itor000026.jpg', <tensorflow.python.keras.engine.functional.Functional object at 0x14a3fde80>, (224, 224)] [Errno 2] No such file or directory: '/Users/vijaykeswani/Research/Control Set Audit/Plugin Code/Other files/Control_Faces_2/itor000026.jpg'\n"
     ]
    },
    {
     "name": "stderr",
     "output_type": "stream",
     "text": [
      "\r",
      " 43%|████▎     | 428/1000 [10:58<10:16,  1.08s/it]"
     ]
    },
    {
     "name": "stdout",
     "output_type": "stream",
     "text": [
      "['/Users/vijaykeswani/Research/Control Set Audit/Plugin Code/Other files/Control_Faces_2/rier000053.jpg', <tensorflow.python.keras.engine.functional.Functional object at 0x14a3fde80>, (224, 224)] [Errno 2] No such file or directory: '/Users/vijaykeswani/Research/Control Set Audit/Plugin Code/Other files/Control_Faces_2/rier000053.jpg'\n"
     ]
    },
    {
     "name": "stderr",
     "output_type": "stream",
     "text": [
      " 43%|████▎     | 434/1000 [11:02<08:11,  1.15it/s]"
     ]
    },
    {
     "name": "stdout",
     "output_type": "stream",
     "text": [
      "['/Users/vijaykeswani/Research/Control Set Audit/Plugin Code/Other files/Control_Faces_2/nter000023.jpg', <tensorflow.python.keras.engine.functional.Functional object at 0x14a3fde80>, (224, 224)] [Errno 2] No such file or directory: '/Users/vijaykeswani/Research/Control Set Audit/Plugin Code/Other files/Control_Faces_2/nter000023.jpg'\n"
     ]
    },
    {
     "name": "stderr",
     "output_type": "stream",
     "text": [
      " 44%|████▎     | 436/1000 [11:05<08:56,  1.05it/s]"
     ]
    },
    {
     "name": "stdout",
     "output_type": "stream",
     "text": [
      "['/Users/vijaykeswani/Research/Control Set Audit/Plugin Code/Other files/Control_Faces_2/ator000088.jpg', <tensorflow.python.keras.engine.functional.Functional object at 0x14a3fde80>, (224, 224)] [Errno 2] No such file or directory: '/Users/vijaykeswani/Research/Control Set Audit/Plugin Code/Other files/Control_Faces_2/ator000088.jpg'\n"
     ]
    },
    {
     "name": "stderr",
     "output_type": "stream",
     "text": [
      " 44%|████▍     | 445/1000 [11:14<09:47,  1.06s/it]"
     ]
    },
    {
     "name": "stdout",
     "output_type": "stream",
     "text": [
      "['/Users/vijaykeswani/Research/Control Set Audit/Plugin Code/Other files/Control_Faces_2/aker000090.jpg', <tensorflow.python.keras.engine.functional.Functional object at 0x14a3fde80>, (224, 224)] [Errno 2] No such file or directory: '/Users/vijaykeswani/Research/Control Set Audit/Plugin Code/Other files/Control_Faces_2/aker000090.jpg'\n"
     ]
    },
    {
     "name": "stderr",
     "output_type": "stream",
     "text": [
      "\r",
      " 45%|████▍     | 446/1000 [11:15<10:00,  1.08s/it]"
     ]
    },
    {
     "name": "stdout",
     "output_type": "stream",
     "text": [
      "['/Users/vijaykeswani/Research/Control Set Audit/Plugin Code/Other files/Control_Faces_2/tive000065.jpg', <tensorflow.python.keras.engine.functional.Functional object at 0x14a3fde80>, (224, 224)] [Errno 2] No such file or directory: '/Users/vijaykeswani/Research/Control Set Audit/Plugin Code/Other files/Control_Faces_2/tive000065.jpg'\n"
     ]
    },
    {
     "name": "stderr",
     "output_type": "stream",
     "text": [
      " 45%|████▌     | 450/1000 [11:20<12:07,  1.32s/it]"
     ]
    },
    {
     "name": "stdout",
     "output_type": "stream",
     "text": [
      "['/Users/vijaykeswani/Research/Control Set Audit/Plugin Code/Other files/Control_Faces_2/nter000004.jpg', <tensorflow.python.keras.engine.functional.Functional object at 0x14a3fde80>, (224, 224)] [Errno 2] No such file or directory: '/Users/vijaykeswani/Research/Control Set Audit/Plugin Code/Other files/Control_Faces_2/nter000004.jpg'\n"
     ]
    },
    {
     "name": "stderr",
     "output_type": "stream",
     "text": [
      "\r",
      " 45%|████▌     | 451/1000 [11:21<10:53,  1.19s/it]"
     ]
    },
    {
     "name": "stdout",
     "output_type": "stream",
     "text": [
      "['/Users/vijaykeswani/Research/Control Set Audit/Plugin Code/Other files/Control_Faces_2/gner000091.jpg', <tensorflow.python.keras.engine.functional.Functional object at 0x14a3fde80>, (224, 224)] [Errno 2] No such file or directory: '/Users/vijaykeswani/Research/Control Set Audit/Plugin Code/Other files/Control_Faces_2/gner000091.jpg'\n"
     ]
    },
    {
     "name": "stderr",
     "output_type": "stream",
     "text": [
      " 45%|████▌     | 454/1000 [11:24<09:58,  1.10s/it]"
     ]
    },
    {
     "name": "stdout",
     "output_type": "stream",
     "text": [
      "['/Users/vijaykeswani/Research/Control Set Audit/Plugin Code/Other files/Control_Faces_2/nist000009.jpg', <tensorflow.python.keras.engine.functional.Functional object at 0x14a3fde80>, (224, 224)] [Errno 2] No such file or directory: '/Users/vijaykeswani/Research/Control Set Audit/Plugin Code/Other files/Control_Faces_2/nist000009.jpg'\n"
     ]
    },
    {
     "name": "stderr",
     "output_type": "stream",
     "text": [
      " 46%|████▌     | 456/1000 [11:27<10:48,  1.19s/it]"
     ]
    },
    {
     "name": "stdout",
     "output_type": "stream",
     "text": [
      "['/Users/vijaykeswani/Research/Control Set Audit/Plugin Code/Other files/Control_Faces_2/nter000016.jpg', <tensorflow.python.keras.engine.functional.Functional object at 0x14a3fde80>, (224, 224)] [Errno 2] No such file or directory: '/Users/vijaykeswani/Research/Control Set Audit/Plugin Code/Other files/Control_Faces_2/nter000016.jpg'\n"
     ]
    },
    {
     "name": "stderr",
     "output_type": "stream",
     "text": [
      " 46%|████▌     | 462/1000 [11:36<11:41,  1.30s/it]"
     ]
    },
    {
     "name": "stdout",
     "output_type": "stream",
     "text": [
      "['/Users/vijaykeswani/Research/Control Set Audit/Plugin Code/Other files/Control_Faces_2/nist000084.jpg', <tensorflow.python.keras.engine.functional.Functional object at 0x14a3fde80>, (224, 224)] [Errno 2] No such file or directory: '/Users/vijaykeswani/Research/Control Set Audit/Plugin Code/Other files/Control_Faces_2/nist000084.jpg'\n"
     ]
    },
    {
     "name": "stderr",
     "output_type": "stream",
     "text": [
      "\r",
      " 46%|████▋     | 463/1000 [11:37<11:57,  1.34s/it]"
     ]
    },
    {
     "name": "stdout",
     "output_type": "stream",
     "text": [
      "['/Users/vijaykeswani/Research/Control Set Audit/Plugin Code/Other files/Control_Faces_2/mist000059.jpg', <tensorflow.python.keras.engine.functional.Functional object at 0x14a3fde80>, (224, 224)] [Errno 2] No such file or directory: '/Users/vijaykeswani/Research/Control Set Audit/Plugin Code/Other files/Control_Faces_2/mist000059.jpg'\n"
     ]
    },
    {
     "name": "stderr",
     "output_type": "stream",
     "text": [
      " 47%|████▋     | 473/1000 [11:47<11:39,  1.33s/it]"
     ]
    },
    {
     "name": "stdout",
     "output_type": "stream",
     "text": [
      "['/Users/vijaykeswani/Research/Control Set Audit/Plugin Code/Other files/Control_Faces_2/lyst000001.jpg', <tensorflow.python.keras.engine.functional.Functional object at 0x14a3fde80>, (224, 224)] [Errno 2] No such file or directory: '/Users/vijaykeswani/Research/Control Set Audit/Plugin Code/Other files/Control_Faces_2/lyst000001.jpg'\n"
     ]
    },
    {
     "name": "stderr",
     "output_type": "stream",
     "text": [
      "\r",
      " 47%|████▋     | 474/1000 [11:48<10:22,  1.18s/it]"
     ]
    },
    {
     "name": "stdout",
     "output_type": "stream",
     "text": [
      "['/Users/vijaykeswani/Research/Control Set Audit/Plugin Code/Other files/Control_Faces_2/edic000096.jpg', <tensorflow.python.keras.engine.functional.Functional object at 0x14a3fde80>, (224, 224)] [Errno 2] No such file or directory: '/Users/vijaykeswani/Research/Control Set Audit/Plugin Code/Other files/Control_Faces_2/edic000096.jpg'\n"
     ]
    },
    {
     "name": "stderr",
     "output_type": "stream",
     "text": [
      " 48%|████▊     | 477/1000 [11:51<10:07,  1.16s/it]"
     ]
    },
    {
     "name": "stdout",
     "output_type": "stream",
     "text": [
      "['/Users/vijaykeswani/Research/Control Set Audit/Plugin Code/Other files/Control_Faces_2/ctor000019.jpg', <tensorflow.python.keras.engine.functional.Functional object at 0x14a3fde80>, (224, 224)] [Errno 2] No such file or directory: '/Users/vijaykeswani/Research/Control Set Audit/Plugin Code/Other files/Control_Faces_2/ctor000019.jpg'\n"
     ]
    },
    {
     "name": "stderr",
     "output_type": "stream",
     "text": [
      " 48%|████▊     | 482/1000 [12:01<12:25,  1.44s/it]"
     ]
    },
    {
     "name": "stdout",
     "output_type": "stream",
     "text": [
      "['/Users/vijaykeswani/Research/Control Set Audit/Plugin Code/Other files/Control_Faces_2/gent000100.jpg', <tensorflow.python.keras.engine.functional.Functional object at 0x14a3fde80>, (224, 224)] [Errno 2] No such file or directory: '/Users/vijaykeswani/Research/Control Set Audit/Plugin Code/Other files/Control_Faces_2/gent000100.jpg'\n"
     ]
    },
    {
     "name": "stderr",
     "output_type": "stream",
     "text": [
      " 49%|████▊     | 486/1000 [12:08<13:39,  1.59s/it]"
     ]
    },
    {
     "name": "stdout",
     "output_type": "stream",
     "text": [
      "['/Users/vijaykeswani/Research/Control Set Audit/Plugin Code/Other files/Control_Faces_2/tist000051.jpg', <tensorflow.python.keras.engine.functional.Functional object at 0x14a3fde80>, (224, 224)] [Errno 2] No such file or directory: '/Users/vijaykeswani/Research/Control Set Audit/Plugin Code/Other files/Control_Faces_2/tist000051.jpg'\n"
     ]
    },
    {
     "name": "stderr",
     "output_type": "stream",
     "text": [
      "\r",
      " 49%|████▊     | 487/1000 [12:09<12:10,  1.42s/it]"
     ]
    },
    {
     "name": "stdout",
     "output_type": "stream",
     "text": [
      "['/Users/vijaykeswani/Research/Control Set Audit/Plugin Code/Other files/Control_Faces_2/ctor000006.jpg', <tensorflow.python.keras.engine.functional.Functional object at 0x14a3fde80>, (224, 224)] [Errno 2] No such file or directory: '/Users/vijaykeswani/Research/Control Set Audit/Plugin Code/Other files/Control_Faces_2/ctor000006.jpg'\n"
     ]
    },
    {
     "name": "stderr",
     "output_type": "stream",
     "text": [
      " 50%|████▉     | 497/1000 [12:23<11:17,  1.35s/it]"
     ]
    },
    {
     "name": "stdout",
     "output_type": "stream",
     "text": [
      "['/Users/vijaykeswani/Research/Control Set Audit/Plugin Code/Other files/Control_Faces_2/nter000079.jpg', <tensorflow.python.keras.engine.functional.Functional object at 0x14a3fde80>, (224, 224)] [Errno 2] No such file or directory: '/Users/vijaykeswani/Research/Control Set Audit/Plugin Code/Other files/Control_Faces_2/nter000079.jpg'\n"
     ]
    },
    {
     "name": "stderr",
     "output_type": "stream",
     "text": [
      "\r",
      " 50%|████▉     | 498/1000 [12:24<10:29,  1.25s/it]"
     ]
    },
    {
     "name": "stdout",
     "output_type": "stream",
     "text": [
      "['/Users/vijaykeswani/Research/Control Set Audit/Plugin Code/Other files/Control_Faces_2/ator000028.jpg', <tensorflow.python.keras.engine.functional.Functional object at 0x14a3fde80>, (224, 224)] [Errno 2] No such file or directory: '/Users/vijaykeswani/Research/Control Set Audit/Plugin Code/Other files/Control_Faces_2/ator000028.jpg'\n"
     ]
    },
    {
     "name": "stderr",
     "output_type": "stream",
     "text": [
      " 50%|█████     | 505/1000 [12:31<07:48,  1.06it/s]"
     ]
    },
    {
     "name": "stdout",
     "output_type": "stream",
     "text": [
      "['/Users/vijaykeswani/Research/Control Set Audit/Plugin Code/Other files/Control_Faces_2/mist000015.jpg', <tensorflow.python.keras.engine.functional.Functional object at 0x14a3fde80>, (224, 224)] [Errno 2] No such file or directory: '/Users/vijaykeswani/Research/Control Set Audit/Plugin Code/Other files/Control_Faces_2/mist000015.jpg'\n"
     ]
    },
    {
     "name": "stderr",
     "output_type": "stream",
     "text": [
      " 51%|█████     | 507/1000 [12:33<09:05,  1.11s/it]"
     ]
    },
    {
     "name": "stdout",
     "output_type": "stream",
     "text": [
      "['/Users/vijaykeswani/Research/Control Set Audit/Plugin Code/Other files/Control_Faces_2/eper000032.jpg', <tensorflow.python.keras.engine.functional.Functional object at 0x14a3fde80>, (224, 224)] [Errno 2] No such file or directory: '/Users/vijaykeswani/Research/Control Set Audit/Plugin Code/Other files/Control_Faces_2/eper000032.jpg'\n"
     ]
    },
    {
     "name": "stderr",
     "output_type": "stream",
     "text": [
      "\r",
      " 51%|█████     | 508/1000 [12:34<08:32,  1.04s/it]"
     ]
    },
    {
     "name": "stdout",
     "output_type": "stream",
     "text": [
      "['/Users/vijaykeswani/Research/Control Set Audit/Plugin Code/Other files/Control_Faces_2/ctor000051.jpg', <tensorflow.python.keras.engine.functional.Functional object at 0x14a3fde80>, (224, 224)] [Errno 2] No such file or directory: '/Users/vijaykeswani/Research/Control Set Audit/Plugin Code/Other files/Control_Faces_2/ctor000051.jpg'\n"
     ]
    },
    {
     "name": "stderr",
     "output_type": "stream",
     "text": [
      "\r",
      " 51%|█████     | 509/1000 [12:35<08:16,  1.01s/it]"
     ]
    },
    {
     "name": "stdout",
     "output_type": "stream",
     "text": [
      "['/Users/vijaykeswani/Research/Control Set Audit/Plugin Code/Other files/Control_Faces_2/tive000029.jpg', <tensorflow.python.keras.engine.functional.Functional object at 0x14a3fde80>, (224, 224)] [Errno 2] No such file or directory: '/Users/vijaykeswani/Research/Control Set Audit/Plugin Code/Other files/Control_Faces_2/tive000029.jpg'\n"
     ]
    },
    {
     "name": "stderr",
     "output_type": "stream",
     "text": [
      " 51%|█████▏    | 513/1000 [12:38<09:10,  1.13s/it]"
     ]
    },
    {
     "name": "stdout",
     "output_type": "stream",
     "text": [
      "['/Users/vijaykeswani/Research/Control Set Audit/Plugin Code/Other files/Control_Faces_2/ilot000063.jpg', <tensorflow.python.keras.engine.functional.Functional object at 0x14a3fde80>, (224, 224)] [Errno 2] No such file or directory: '/Users/vijaykeswani/Research/Control Set Audit/Plugin Code/Other files/Control_Faces_2/ilot000063.jpg'\n"
     ]
    },
    {
     "name": "stderr",
     "output_type": "stream",
     "text": [
      "\r",
      " 51%|█████▏    | 514/1000 [12:39<09:13,  1.14s/it]"
     ]
    },
    {
     "name": "stdout",
     "output_type": "stream",
     "text": [
      "['/Users/vijaykeswani/Research/Control Set Audit/Plugin Code/Other files/Control_Faces_2/lder000025.jpg', <tensorflow.python.keras.engine.functional.Functional object at 0x14a3fde80>, (224, 224)] [Errno 2] No such file or directory: '/Users/vijaykeswani/Research/Control Set Audit/Plugin Code/Other files/Control_Faces_2/lder000025.jpg'\n"
     ]
    },
    {
     "name": "stderr",
     "output_type": "stream",
     "text": [
      " 52%|█████▏    | 517/1000 [12:44<11:59,  1.49s/it]"
     ]
    },
    {
     "name": "stdout",
     "output_type": "stream",
     "text": [
      "['/Users/vijaykeswani/Research/Control Set Audit/Plugin Code/Other files/Control_Faces_2/ilot000050.jpg', <tensorflow.python.keras.engine.functional.Functional object at 0x14a3fde80>, (224, 224)] [Errno 2] No such file or directory: '/Users/vijaykeswani/Research/Control Set Audit/Plugin Code/Other files/Control_Faces_2/ilot000050.jpg'\n"
     ]
    },
    {
     "name": "stderr",
     "output_type": "stream",
     "text": [
      " 52%|█████▏    | 520/1000 [12:51<14:51,  1.86s/it]"
     ]
    },
    {
     "name": "stdout",
     "output_type": "stream",
     "text": [
      "['/Users/vijaykeswani/Research/Control Set Audit/Plugin Code/Other files/Control_Faces_2/pher000061.jpg', <tensorflow.python.keras.engine.functional.Functional object at 0x14a3fde80>, (224, 224)] [Errno 2] No such file or directory: '/Users/vijaykeswani/Research/Control Set Audit/Plugin Code/Other files/Control_Faces_2/pher000061.jpg'\n"
     ]
    },
    {
     "name": "stderr",
     "output_type": "stream",
     "text": [
      "\r",
      " 52%|█████▏    | 522/1000 [12:52<11:24,  1.43s/it]"
     ]
    },
    {
     "name": "stdout",
     "output_type": "stream",
     "text": [
      "['/Users/vijaykeswani/Research/Control Set Audit/Plugin Code/Other files/Control_Faces_2/uard000075.jpg', <tensorflow.python.keras.engine.functional.Functional object at 0x14a3fde80>, (224, 224)] [Errno 2] No such file or directory: '/Users/vijaykeswani/Research/Control Set Audit/Plugin Code/Other files/Control_Faces_2/uard000075.jpg'\n"
     ]
    },
    {
     "name": "stderr",
     "output_type": "stream",
     "text": [
      "\r",
      " 52%|█████▏    | 523/1000 [12:53<09:27,  1.19s/it]"
     ]
    },
    {
     "name": "stdout",
     "output_type": "stream",
     "text": [
      "['/Users/vijaykeswani/Research/Control Set Audit/Plugin Code/Other files/Control_Faces_2/cook000012.jpg', <tensorflow.python.keras.engine.functional.Functional object at 0x14a3fde80>, (224, 224)] [Errno 2] No such file or directory: '/Users/vijaykeswani/Research/Control Set Audit/Plugin Code/Other files/Control_Faces_2/cook000012.jpg'\n"
     ]
    },
    {
     "name": "stderr",
     "output_type": "stream",
     "text": [
      "\r",
      " 52%|█████▎    | 525/1000 [12:54<07:29,  1.06it/s]"
     ]
    },
    {
     "name": "stdout",
     "output_type": "stream",
     "text": [
      "['/Users/vijaykeswani/Research/Control Set Audit/Plugin Code/Other files/Control_Faces_2/uard000087.jpg', <tensorflow.python.keras.engine.functional.Functional object at 0x14a3fde80>, (224, 224)] [Errno 2] No such file or directory: '/Users/vijaykeswani/Research/Control Set Audit/Plugin Code/Other files/Control_Faces_2/uard000087.jpg'\n"
     ]
    },
    {
     "name": "stderr",
     "output_type": "stream",
     "text": [
      " 53%|█████▎    | 529/1000 [12:58<08:07,  1.04s/it]"
     ]
    },
    {
     "name": "stdout",
     "output_type": "stream",
     "text": [
      "['/Users/vijaykeswani/Research/Control Set Audit/Plugin Code/Other files/Control_Faces_2/uard000043.jpg', <tensorflow.python.keras.engine.functional.Functional object at 0x14a3fde80>, (224, 224)] [Errno 2] No such file or directory: '/Users/vijaykeswani/Research/Control Set Audit/Plugin Code/Other files/Control_Faces_2/uard000043.jpg'\n"
     ]
    },
    {
     "name": "stderr",
     "output_type": "stream",
     "text": [
      "\r",
      " 53%|█████▎    | 530/1000 [12:59<07:14,  1.08it/s]"
     ]
    },
    {
     "name": "stdout",
     "output_type": "stream",
     "text": [
      "['/Users/vijaykeswani/Research/Control Set Audit/Plugin Code/Other files/Control_Faces_2/cian000045.jpg', <tensorflow.python.keras.engine.functional.Functional object at 0x14a3fde80>, (224, 224)] [Errno 2] No such file or directory: '/Users/vijaykeswani/Research/Control Set Audit/Plugin Code/Other files/Control_Faces_2/cian000045.jpg'\n"
     ]
    },
    {
     "name": "stderr",
     "output_type": "stream",
     "text": [
      " 54%|█████▍    | 539/1000 [13:01<06:05,  1.26it/s]"
     ]
    },
    {
     "name": "stdout",
     "output_type": "stream",
     "text": [
      "['/Users/vijaykeswani/Research/Control Set Audit/Plugin Code/Other files/Control_Faces_2/cian000029.jpg', <tensorflow.python.keras.engine.functional.Functional object at 0x14a3fde80>, (224, 224)] [Errno 2] No such file or directory: '/Users/vijaykeswani/Research/Control Set Audit/Plugin Code/Other files/Control_Faces_2/cian000029.jpg'\n"
     ]
    },
    {
     "name": "stderr",
     "output_type": "stream",
     "text": [
      " 54%|█████▍    | 541/1000 [13:09<17:33,  2.30s/it]"
     ]
    },
    {
     "name": "stdout",
     "output_type": "stream",
     "text": [
      "['/Users/vijaykeswani/Research/Control Set Audit/Plugin Code/Other files/Control_Faces_2/ator000070.jpg', <tensorflow.python.keras.engine.functional.Functional object at 0x14a3fde80>, (224, 224)] [Errno 2] No such file or directory: '/Users/vijaykeswani/Research/Control Set Audit/Plugin Code/Other files/Control_Faces_2/ator000070.jpg'\n"
     ]
    },
    {
     "name": "stderr",
     "output_type": "stream",
     "text": [
      " 54%|█████▍    | 543/1000 [13:12<12:52,  1.69s/it]"
     ]
    },
    {
     "name": "stdout",
     "output_type": "stream",
     "text": [
      "['/Users/vijaykeswani/Research/Control Set Audit/Plugin Code/Other files/Control_Faces_2/nder000038.jpg', <tensorflow.python.keras.engine.functional.Functional object at 0x14a3fde80>, (224, 224)] [Errno 2] No such file or directory: '/Users/vijaykeswani/Research/Control Set Audit/Plugin Code/Other files/Control_Faces_2/nder000038.jpg'\n"
     ]
    },
    {
     "name": "stderr",
     "output_type": "stream",
     "text": [
      " 55%|█████▍    | 545/1000 [13:15<11:45,  1.55s/it]"
     ]
    },
    {
     "name": "stdout",
     "output_type": "stream",
     "text": [
      "['/Users/vijaykeswani/Research/Control Set Audit/Plugin Code/Other files/Control_Faces_2/ians000097.jpg', <tensorflow.python.keras.engine.functional.Functional object at 0x14a3fde80>, (224, 224)] [Errno 2] No such file or directory: '/Users/vijaykeswani/Research/Control Set Audit/Plugin Code/Other files/Control_Faces_2/ians000097.jpg'\n"
     ]
    },
    {
     "name": "stderr",
     "output_type": "stream",
     "text": [
      " 55%|█████▌    | 552/1000 [13:29<19:30,  2.61s/it]"
     ]
    },
    {
     "name": "stdout",
     "output_type": "stream",
     "text": [
      "['/Users/vijaykeswani/Research/Control Set Audit/Plugin Code/Other files/Control_Faces_2/eper000010.jpg', <tensorflow.python.keras.engine.functional.Functional object at 0x14a3fde80>, (224, 224)] [Errno 2] No such file or directory: '/Users/vijaykeswani/Research/Control Set Audit/Plugin Code/Other files/Control_Faces_2/eper000010.jpg'\n"
     ]
    },
    {
     "name": "stderr",
     "output_type": "stream",
     "text": [
      "\r",
      " 55%|█████▌    | 553/1000 [13:31<18:20,  2.46s/it]"
     ]
    },
    {
     "name": "stdout",
     "output_type": "stream",
     "text": [
      "['/Users/vijaykeswani/Research/Control Set Audit/Plugin Code/Other files/Control_Faces_2/rier000081.jpg', <tensorflow.python.keras.engine.functional.Functional object at 0x14a3fde80>, (224, 224)] [Errno 2] No such file or directory: '/Users/vijaykeswani/Research/Control Set Audit/Plugin Code/Other files/Control_Faces_2/rier000081.jpg'\n"
     ]
    },
    {
     "name": "stderr",
     "output_type": "stream",
     "text": [
      " 57%|█████▋    | 567/1000 [13:42<06:00,  1.20it/s]"
     ]
    },
    {
     "name": "stdout",
     "output_type": "stream",
     "text": [
      "['/Users/vijaykeswani/Research/Control Set Audit/Plugin Code/Other files/Control_Faces_2/dant000055.jpg', <tensorflow.python.keras.engine.functional.Functional object at 0x14a3fde80>, (224, 224)] [Errno 2] No such file or directory: '/Users/vijaykeswani/Research/Control Set Audit/Plugin Code/Other files/Control_Faces_2/dant000055.jpg'\n"
     ]
    },
    {
     "name": "stderr",
     "output_type": "stream",
     "text": [
      "\r",
      " 57%|█████▋    | 568/1000 [13:43<06:19,  1.14it/s]"
     ]
    },
    {
     "name": "stdout",
     "output_type": "stream",
     "text": [
      "['/Users/vijaykeswani/Research/Control Set Audit/Plugin Code/Other files/Control_Faces_2/cher000090.jpg', <tensorflow.python.keras.engine.functional.Functional object at 0x14a3fde80>, (224, 224)] [Errno 2] No such file or directory: '/Users/vijaykeswani/Research/Control Set Audit/Plugin Code/Other files/Control_Faces_2/cher000090.jpg'\n"
     ]
    },
    {
     "name": "stderr",
     "output_type": "stream",
     "text": [
      " 57%|█████▋    | 572/1000 [13:46<07:11,  1.01s/it]"
     ]
    },
    {
     "name": "stdout",
     "output_type": "stream",
     "text": [
      "['/Users/vijaykeswani/Research/Control Set Audit/Plugin Code/Other files/Control_Faces_2/chef000087.jpg', <tensorflow.python.keras.engine.functional.Functional object at 0x14a3fde80>, (224, 224)] [Errno 2] No such file or directory: '/Users/vijaykeswani/Research/Control Set Audit/Plugin Code/Other files/Control_Faces_2/chef000087.jpg'\n"
     ]
    },
    {
     "name": "stderr",
     "output_type": "stream",
     "text": [
      " 59%|█████▉    | 588/1000 [14:13<10:09,  1.48s/it]"
     ]
    },
    {
     "name": "stdout",
     "output_type": "stream",
     "text": [
      "['/Users/vijaykeswani/Research/Control Set Audit/Plugin Code/Other files/Control_Faces_2/ator000059.jpg', <tensorflow.python.keras.engine.functional.Functional object at 0x14a3fde80>, (224, 224)] [Errno 2] No such file or directory: '/Users/vijaykeswani/Research/Control Set Audit/Plugin Code/Other files/Control_Faces_2/ator000059.jpg'\n"
     ]
    },
    {
     "name": "stderr",
     "output_type": "stream",
     "text": [
      " 59%|█████▉    | 590/1000 [14:15<08:17,  1.21s/it]"
     ]
    },
    {
     "name": "stdout",
     "output_type": "stream",
     "text": [
      "['/Users/vijaykeswani/Research/Control Set Audit/Plugin Code/Other files/Control_Faces_2/cook000030.jpg', <tensorflow.python.keras.engine.functional.Functional object at 0x14a3fde80>, (224, 224)] [Errno 2] No such file or directory: '/Users/vijaykeswani/Research/Control Set Audit/Plugin Code/Other files/Control_Faces_2/cook000030.jpg'\n"
     ]
    },
    {
     "name": "stderr",
     "output_type": "stream",
     "text": [
      "\r",
      " 59%|█████▉    | 591/1000 [14:16<07:56,  1.16s/it]"
     ]
    },
    {
     "name": "stdout",
     "output_type": "stream",
     "text": [
      "['/Users/vijaykeswani/Research/Control Set Audit/Plugin Code/Other files/Control_Faces_2/ctor000044.jpg', <tensorflow.python.keras.engine.functional.Functional object at 0x14a3fde80>, (224, 224)] [Errno 2] No such file or directory: '/Users/vijaykeswani/Research/Control Set Audit/Plugin Code/Other files/Control_Faces_2/ctor000044.jpg'\n"
     ]
    },
    {
     "name": "stderr",
     "output_type": "stream",
     "text": [
      " 60%|█████▉    | 596/1000 [14:33<12:40,  1.88s/it]"
     ]
    },
    {
     "name": "stdout",
     "output_type": "stream",
     "text": [
      "['/Users/vijaykeswani/Research/Control Set Audit/Plugin Code/Other files/Control_Faces_2/mber000010.jpg', <tensorflow.python.keras.engine.functional.Functional object at 0x14a3fde80>, (224, 224)] [Errno 2] No such file or directory: '/Users/vijaykeswani/Research/Control Set Audit/Plugin Code/Other files/Control_Faces_2/mber000010.jpg'\n"
     ]
    },
    {
     "name": "stderr",
     "output_type": "stream",
     "text": [
      "\r",
      " 60%|█████▉    | 597/1000 [14:34<10:40,  1.59s/it]"
     ]
    },
    {
     "name": "stdout",
     "output_type": "stream",
     "text": [
      "['/Users/vijaykeswani/Research/Control Set Audit/Plugin Code/Other files/Control_Faces_2/rker000060.jpg', <tensorflow.python.keras.engine.functional.Functional object at 0x14a3fde80>, (224, 224)] [Errno 2] No such file or directory: '/Users/vijaykeswani/Research/Control Set Audit/Plugin Code/Other files/Control_Faces_2/rker000060.jpg'\n"
     ]
    },
    {
     "name": "stderr",
     "output_type": "stream",
     "text": [
      " 60%|██████    | 600/1000 [14:36<07:35,  1.14s/it]"
     ]
    },
    {
     "name": "stdout",
     "output_type": "stream",
     "text": [
      "['/Users/vijaykeswani/Research/Control Set Audit/Plugin Code/Other files/Control_Faces_2/tive000059.jpg', <tensorflow.python.keras.engine.functional.Functional object at 0x14a3fde80>, (224, 224)] [Errno 2] No such file or directory: '/Users/vijaykeswani/Research/Control Set Audit/Plugin Code/Other files/Control_Faces_2/tive000059.jpg'\n"
     ]
    },
    {
     "name": "stderr",
     "output_type": "stream",
     "text": [
      "\r",
      " 60%|██████    | 601/1000 [14:37<08:23,  1.26s/it]"
     ]
    },
    {
     "name": "stdout",
     "output_type": "stream",
     "text": [
      "['/Users/vijaykeswani/Research/Control Set Audit/Plugin Code/Other files/Control_Faces_2/ncer000037.jpg', <tensorflow.python.keras.engine.functional.Functional object at 0x14a3fde80>, (224, 224)] [Errno 2] No such file or directory: '/Users/vijaykeswani/Research/Control Set Audit/Plugin Code/Other files/Control_Faces_2/ncer000037.jpg'\n"
     ]
    },
    {
     "name": "stderr",
     "output_type": "stream",
     "text": [
      "\r",
      " 60%|██████    | 602/1000 [14:38<07:47,  1.17s/it]"
     ]
    },
    {
     "name": "stdout",
     "output_type": "stream",
     "text": [
      "['/Users/vijaykeswani/Research/Control Set Audit/Plugin Code/Other files/Control_Faces_2/rber000096.jpg', <tensorflow.python.keras.engine.functional.Functional object at 0x14a3fde80>, (224, 224)] [Errno 2] No such file or directory: '/Users/vijaykeswani/Research/Control Set Audit/Plugin Code/Other files/Control_Faces_2/rber000096.jpg'\n"
     ]
    },
    {
     "name": "stderr",
     "output_type": "stream",
     "text": [
      " 60%|██████    | 605/1000 [14:42<07:48,  1.19s/it]"
     ]
    },
    {
     "name": "stdout",
     "output_type": "stream",
     "text": [
      "['/Users/vijaykeswani/Research/Control Set Audit/Plugin Code/Other files/Control_Faces_2/nter000076.jpg', <tensorflow.python.keras.engine.functional.Functional object at 0x14a3fde80>, (224, 224)] [Errno 2] No such file or directory: '/Users/vijaykeswani/Research/Control Set Audit/Plugin Code/Other files/Control_Faces_2/nter000076.jpg'\n"
     ]
    },
    {
     "name": "stderr",
     "output_type": "stream",
     "text": [
      "\r",
      " 61%|██████    | 606/1000 [14:43<06:45,  1.03s/it]"
     ]
    },
    {
     "name": "stdout",
     "output_type": "stream",
     "text": [
      "['/Users/vijaykeswani/Research/Control Set Audit/Plugin Code/Other files/Control_Faces_2/tech000022.jpg', <tensorflow.python.keras.engine.functional.Functional object at 0x14a3fde80>, (224, 224)] [Errno 2] No such file or directory: '/Users/vijaykeswani/Research/Control Set Audit/Plugin Code/Other files/Control_Faces_2/tech000022.jpg'\n"
     ]
    },
    {
     "name": "stderr",
     "output_type": "stream",
     "text": [
      " 61%|██████    | 609/1000 [14:44<05:16,  1.24it/s]"
     ]
    },
    {
     "name": "stdout",
     "output_type": "stream",
     "text": [
      "['/Users/vijaykeswani/Research/Control Set Audit/Plugin Code/Other files/Control_Faces_2/lyst000097.jpg', <tensorflow.python.keras.engine.functional.Functional object at 0x14a3fde80>, (224, 224)] [Errno 2] No such file or directory: '/Users/vijaykeswani/Research/Control Set Audit/Plugin Code/Other files/Control_Faces_2/lyst000097.jpg'\n"
     ]
    },
    {
     "name": "stderr",
     "output_type": "stream",
     "text": [
      "\r",
      " 61%|██████    | 610/1000 [14:45<05:19,  1.22it/s]"
     ]
    },
    {
     "name": "stdout",
     "output_type": "stream",
     "text": [
      "['/Users/vijaykeswani/Research/Control Set Audit/Plugin Code/Other files/Control_Faces_2/pist000036.jpg', <tensorflow.python.keras.engine.functional.Functional object at 0x14a3fde80>, (224, 224)] [Errno 2] No such file or directory: '/Users/vijaykeswani/Research/Control Set Audit/Plugin Code/Other files/Control_Faces_2/pist000036.jpg'\n"
     ]
    },
    {
     "name": "stderr",
     "output_type": "stream",
     "text": [
      " 61%|██████    | 612/1000 [14:47<06:00,  1.08it/s]"
     ]
    },
    {
     "name": "stdout",
     "output_type": "stream",
     "text": [
      "['/Users/vijaykeswani/Research/Control Set Audit/Plugin Code/Other files/Control_Faces_2/egal000088.jpg', <tensorflow.python.keras.engine.functional.Functional object at 0x14a3fde80>, (224, 224)] [Errno 2] No such file or directory: '/Users/vijaykeswani/Research/Control Set Audit/Plugin Code/Other files/Control_Faces_2/egal000088.jpg'\n"
     ]
    },
    {
     "name": "stderr",
     "output_type": "stream",
     "text": [
      " 62%|██████▏   | 617/1000 [15:03<13:25,  2.10s/it]"
     ]
    },
    {
     "name": "stdout",
     "output_type": "stream",
     "text": [
      "['/Users/vijaykeswani/Research/Control Set Audit/Plugin Code/Other files/Control_Faces_2/ctor000084.jpg', <tensorflow.python.keras.engine.functional.Functional object at 0x14a3fde80>, (224, 224)] [Errno 2] No such file or directory: '/Users/vijaykeswani/Research/Control Set Audit/Plugin Code/Other files/Control_Faces_2/ctor000084.jpg'\n"
     ]
    },
    {
     "name": "stderr",
     "output_type": "stream",
     "text": [
      "\r",
      " 62%|██████▏   | 618/1000 [15:04<10:54,  1.71s/it]"
     ]
    },
    {
     "name": "stdout",
     "output_type": "stream",
     "text": [
      "['/Users/vijaykeswani/Research/Control Set Audit/Plugin Code/Other files/Control_Faces_2/pher000002.jpg', <tensorflow.python.keras.engine.functional.Functional object at 0x14a3fde80>, (224, 224)] [Errno 2] No such file or directory: '/Users/vijaykeswani/Research/Control Set Audit/Plugin Code/Other files/Control_Faces_2/pher000002.jpg'\n"
     ]
    },
    {
     "name": "stderr",
     "output_type": "stream",
     "text": [
      " 62%|██████▏   | 620/1000 [15:06<09:03,  1.43s/it]"
     ]
    },
    {
     "name": "stdout",
     "output_type": "stream",
     "text": [
      "['/Users/vijaykeswani/Research/Control Set Audit/Plugin Code/Other files/Control_Faces_2/tech000090.jpg', <tensorflow.python.keras.engine.functional.Functional object at 0x14a3fde80>, (224, 224)] [Errno 2] No such file or directory: '/Users/vijaykeswani/Research/Control Set Audit/Plugin Code/Other files/Control_Faces_2/tech000090.jpg'\n"
     ]
    },
    {
     "name": "stderr",
     "output_type": "stream",
     "text": [
      " 62%|██████▏   | 623/1000 [15:09<07:27,  1.19s/it]"
     ]
    },
    {
     "name": "stdout",
     "output_type": "stream",
     "text": [
      "['/Users/vijaykeswani/Research/Control Set Audit/Plugin Code/Other files/Control_Faces_2/pist000063.jpg', <tensorflow.python.keras.engine.functional.Functional object at 0x14a3fde80>, (224, 224)] [Errno 2] No such file or directory: '/Users/vijaykeswani/Research/Control Set Audit/Plugin Code/Other files/Control_Faces_2/pist000063.jpg'\n"
     ]
    },
    {
     "name": "stderr",
     "output_type": "stream",
     "text": [
      " 64%|██████▎   | 637/1000 [15:28<07:51,  1.30s/it]"
     ]
    },
    {
     "name": "stdout",
     "output_type": "stream",
     "text": [
      "['/Users/vijaykeswani/Research/Control Set Audit/Plugin Code/Other files/Control_Faces_2/gner000094.jpg', <tensorflow.python.keras.engine.functional.Functional object at 0x14a3fde80>, (224, 224)] [Errno 2] No such file or directory: '/Users/vijaykeswani/Research/Control Set Audit/Plugin Code/Other files/Control_Faces_2/gner000094.jpg'\n"
     ]
    },
    {
     "name": "stderr",
     "output_type": "stream",
     "text": [
      " 64%|██████▍   | 641/1000 [15:30<05:38,  1.06it/s]"
     ]
    },
    {
     "name": "stdout",
     "output_type": "stream",
     "text": [
      "['/Users/vijaykeswani/Research/Control Set Audit/Plugin Code/Other files/Control_Faces_2/gner000007.jpg', <tensorflow.python.keras.engine.functional.Functional object at 0x14a3fde80>, (224, 224)] [Errno 2] No such file or directory: '/Users/vijaykeswani/Research/Control Set Audit/Plugin Code/Other files/Control_Faces_2/gner000007.jpg'\n"
     ]
    },
    {
     "name": "stderr",
     "output_type": "stream",
     "text": [
      " 65%|██████▍   | 648/1000 [15:37<06:13,  1.06s/it]"
     ]
    },
    {
     "name": "stdout",
     "output_type": "stream",
     "text": [
      "['/Users/vijaykeswani/Research/Control Set Audit/Plugin Code/Other files/Control_Faces_2/cian000021.jpg', <tensorflow.python.keras.engine.functional.Functional object at 0x14a3fde80>, (224, 224)] [Errno 2] No such file or directory: '/Users/vijaykeswani/Research/Control Set Audit/Plugin Code/Other files/Control_Faces_2/cian000021.jpg'\n"
     ]
    },
    {
     "name": "stderr",
     "output_type": "stream",
     "text": [
      " 65%|██████▌   | 652/1000 [15:49<16:26,  2.84s/it]"
     ]
    },
    {
     "name": "stdout",
     "output_type": "stream",
     "text": [
      "['/Users/vijaykeswani/Research/Control Set Audit/Plugin Code/Other files/Control_Faces_2/tech000008.jpg', <tensorflow.python.keras.engine.functional.Functional object at 0x14a3fde80>, (224, 224)] [Errno 2] No such file or directory: '/Users/vijaykeswani/Research/Control Set Audit/Plugin Code/Other files/Control_Faces_2/tech000008.jpg'\n"
     ]
    },
    {
     "name": "stderr",
     "output_type": "stream",
     "text": [
      " 66%|██████▌   | 657/1000 [15:52<09:43,  1.70s/it]"
     ]
    },
    {
     "name": "stdout",
     "output_type": "stream",
     "text": [
      "['/Users/vijaykeswani/Research/Control Set Audit/Plugin Code/Other files/Control_Faces_2/iver000002.jpg', <tensorflow.python.keras.engine.functional.Functional object at 0x14a3fde80>, (224, 224)] [Errno 2] No such file or directory: '/Users/vijaykeswani/Research/Control Set Audit/Plugin Code/Other files/Control_Faces_2/iver000002.jpg'\n"
     ]
    },
    {
     "name": "stderr",
     "output_type": "stream",
     "text": [
      " 66%|██████▌   | 659/1000 [15:57<11:30,  2.03s/it]"
     ]
    },
    {
     "name": "stdout",
     "output_type": "stream",
     "text": [
      "['/Users/vijaykeswani/Research/Control Set Audit/Plugin Code/Other files/Control_Faces_2/rian000078.jpg', <tensorflow.python.keras.engine.functional.Functional object at 0x14a3fde80>, (224, 224)] [Errno 2] No such file or directory: '/Users/vijaykeswani/Research/Control Set Audit/Plugin Code/Other files/Control_Faces_2/rian000078.jpg'\n"
     ]
    },
    {
     "name": "stderr",
     "output_type": "stream",
     "text": [
      " 67%|██████▋   | 667/1000 [16:05<05:50,  1.05s/it]"
     ]
    },
    {
     "name": "stdout",
     "output_type": "stream",
     "text": [
      "['/Users/vijaykeswani/Research/Control Set Audit/Plugin Code/Other files/Control_Faces_2/pher000091.jpg', <tensorflow.python.keras.engine.functional.Functional object at 0x14a3fde80>, (224, 224)] [Errno 2] No such file or directory: '/Users/vijaykeswani/Research/Control Set Audit/Plugin Code/Other files/Control_Faces_2/pher000091.jpg'\n"
     ]
    },
    {
     "name": "stderr",
     "output_type": "stream",
     "text": [
      "\r",
      " 67%|██████▋   | 668/1000 [16:06<05:22,  1.03it/s]"
     ]
    },
    {
     "name": "stdout",
     "output_type": "stream",
     "text": [
      "['/Users/vijaykeswani/Research/Control Set Audit/Plugin Code/Other files/Control_Faces_2/cook000093.jpg', <tensorflow.python.keras.engine.functional.Functional object at 0x14a3fde80>, (224, 224)] [Errno 2] No such file or directory: '/Users/vijaykeswani/Research/Control Set Audit/Plugin Code/Other files/Control_Faces_2/cook000093.jpg'\n"
     ]
    },
    {
     "name": "stderr",
     "output_type": "stream",
     "text": [
      "\r",
      " 67%|██████▋   | 669/1000 [16:07<05:27,  1.01it/s]"
     ]
    },
    {
     "name": "stdout",
     "output_type": "stream",
     "text": [
      "['/Users/vijaykeswani/Research/Control Set Audit/Plugin Code/Other files/Control_Faces_2/uard000057.jpg', <tensorflow.python.keras.engine.functional.Functional object at 0x14a3fde80>, (224, 224)] [Errno 2] No such file or directory: '/Users/vijaykeswani/Research/Control Set Audit/Plugin Code/Other files/Control_Faces_2/uard000057.jpg'\n"
     ]
    },
    {
     "name": "stderr",
     "output_type": "stream",
     "text": [
      "\r",
      " 67%|██████▋   | 671/1000 [16:07<04:20,  1.26it/s]"
     ]
    },
    {
     "name": "stdout",
     "output_type": "stream",
     "text": [
      "['/Users/vijaykeswani/Research/Control Set Audit/Plugin Code/Other files/Control_Faces_2/gent000044.jpg', <tensorflow.python.keras.engine.functional.Functional object at 0x14a3fde80>, (224, 224)] [Errno 2] No such file or directory: '/Users/vijaykeswani/Research/Control Set Audit/Plugin Code/Other files/Control_Faces_2/gent000044.jpg'\n"
     ]
    },
    {
     "name": "stderr",
     "output_type": "stream",
     "text": [
      "\r",
      " 67%|██████▋   | 672/1000 [16:08<04:16,  1.28it/s]"
     ]
    },
    {
     "name": "stdout",
     "output_type": "stream",
     "text": [
      "['/Users/vijaykeswani/Research/Control Set Audit/Plugin Code/Other files/Control_Faces_2/cian000066.jpg', <tensorflow.python.keras.engine.functional.Functional object at 0x14a3fde80>, (224, 224)] [Errno 2] No such file or directory: '/Users/vijaykeswani/Research/Control Set Audit/Plugin Code/Other files/Control_Faces_2/cian000066.jpg'\n"
     ]
    },
    {
     "name": "stderr",
     "output_type": "stream",
     "text": [
      "\r",
      " 67%|██████▋   | 673/1000 [16:09<04:03,  1.34it/s]"
     ]
    },
    {
     "name": "stdout",
     "output_type": "stream",
     "text": [
      "['/Users/vijaykeswani/Research/Control Set Audit/Plugin Code/Other files/Control_Faces_2/dian000079.jpg', <tensorflow.python.keras.engine.functional.Functional object at 0x14a3fde80>, (224, 224)] [Errno 2] No such file or directory: '/Users/vijaykeswani/Research/Control Set Audit/Plugin Code/Other files/Control_Faces_2/dian000079.jpg'\n"
     ]
    },
    {
     "name": "stderr",
     "output_type": "stream",
     "text": [
      "\r",
      " 68%|██████▊   | 675/1000 [16:09<03:24,  1.59it/s]"
     ]
    },
    {
     "name": "stdout",
     "output_type": "stream",
     "text": [
      "['/Users/vijaykeswani/Research/Control Set Audit/Plugin Code/Other files/Control_Faces_2/oper000076.jpg', <tensorflow.python.keras.engine.functional.Functional object at 0x14a3fde80>, (224, 224)] [Errno 2] No such file or directory: '/Users/vijaykeswani/Research/Control Set Audit/Plugin Code/Other files/Control_Faces_2/oper000076.jpg'\n"
     ]
    },
    {
     "name": "stderr",
     "output_type": "stream",
     "text": [
      " 68%|██████▊   | 683/1000 [16:16<04:19,  1.22it/s]"
     ]
    },
    {
     "name": "stdout",
     "output_type": "stream",
     "text": [
      "['/Users/vijaykeswani/Research/Control Set Audit/Plugin Code/Other files/Control_Faces_2/ctor000093.jpg', <tensorflow.python.keras.engine.functional.Functional object at 0x14a3fde80>, (224, 224)] [Errno 2] No such file or directory: '/Users/vijaykeswani/Research/Control Set Audit/Plugin Code/Other files/Control_Faces_2/ctor000093.jpg'\n"
     ]
    },
    {
     "name": "stderr",
     "output_type": "stream",
     "text": [
      "\r",
      " 68%|██████▊   | 685/1000 [16:17<03:23,  1.55it/s]"
     ]
    },
    {
     "name": "stdout",
     "output_type": "stream",
     "text": [
      "['/Users/vijaykeswani/Research/Control Set Audit/Plugin Code/Other files/Control_Faces_2/gist000007.jpg', <tensorflow.python.keras.engine.functional.Functional object at 0x14a3fde80>, (224, 224)] [Errno 2] No such file or directory: '/Users/vijaykeswani/Research/Control Set Audit/Plugin Code/Other files/Control_Faces_2/gist000007.jpg'\n"
     ]
    },
    {
     "name": "stderr",
     "output_type": "stream",
     "text": [
      "\r",
      " 69%|██████▊   | 686/1000 [16:17<03:16,  1.59it/s]"
     ]
    },
    {
     "name": "stdout",
     "output_type": "stream",
     "text": [
      "['/Users/vijaykeswani/Research/Control Set Audit/Plugin Code/Other files/Control_Faces_2/cher000096.jpg', <tensorflow.python.keras.engine.functional.Functional object at 0x14a3fde80>, (224, 224)] [Errno 2] No such file or directory: '/Users/vijaykeswani/Research/Control Set Audit/Plugin Code/Other files/Control_Faces_2/cher000096.jpg'\n"
     ]
    },
    {
     "name": "stderr",
     "output_type": "stream",
     "text": [
      " 69%|██████▉   | 692/1000 [16:29<09:57,  1.94s/it]"
     ]
    },
    {
     "name": "stdout",
     "output_type": "stream",
     "text": [
      "['/Users/vijaykeswani/Research/Control Set Audit/Plugin Code/Other files/Control_Faces_2/uard000055.jpg', <tensorflow.python.keras.engine.functional.Functional object at 0x14a3fde80>, (224, 224)] [Errno 2] No such file or directory: '/Users/vijaykeswani/Research/Control Set Audit/Plugin Code/Other files/Control_Faces_2/uard000055.jpg'\n"
     ]
    },
    {
     "name": "stderr",
     "output_type": "stream",
     "text": [
      " 69%|██████▉   | 694/1000 [16:50<26:40,  5.23s/it]"
     ]
    },
    {
     "name": "stdout",
     "output_type": "stream",
     "text": [
      "['/Users/vijaykeswani/Research/Control Set Audit/Plugin Code/Other files/Control_Faces_2/ator000029.jpg', <tensorflow.python.keras.engine.functional.Functional object at 0x14a3fde80>, (224, 224)] [Errno 2] No such file or directory: '/Users/vijaykeswani/Research/Control Set Audit/Plugin Code/Other files/Control_Faces_2/ator000029.jpg'\n"
     ]
    },
    {
     "name": "stderr",
     "output_type": "stream",
     "text": [
      "\r",
      " 70%|██████▉   | 695/1000 [16:56<28:40,  5.64s/it]"
     ]
    },
    {
     "name": "stdout",
     "output_type": "stream",
     "text": [
      "['/Users/vijaykeswani/Research/Control Set Audit/Plugin Code/Other files/Control_Faces_2/nter000015.jpg', <tensorflow.python.keras.engine.functional.Functional object at 0x14a3fde80>, (224, 224)] [Errno 2] No such file or directory: '/Users/vijaykeswani/Research/Control Set Audit/Plugin Code/Other files/Control_Faces_2/nter000015.jpg'\n"
     ]
    },
    {
     "name": "stderr",
     "output_type": "stream",
     "text": [
      "\r",
      " 70%|██████▉   | 696/1000 [16:57<21:19,  4.21s/it]"
     ]
    },
    {
     "name": "stdout",
     "output_type": "stream",
     "text": [
      "['/Users/vijaykeswani/Research/Control Set Audit/Plugin Code/Other files/Control_Faces_2/gist000052.jpg', <tensorflow.python.keras.engine.functional.Functional object at 0x14a3fde80>, (224, 224)] [Errno 2] No such file or directory: '/Users/vijaykeswani/Research/Control Set Audit/Plugin Code/Other files/Control_Faces_2/gist000052.jpg'\n"
     ]
    },
    {
     "name": "stderr",
     "output_type": "stream",
     "text": [
      " 70%|██████▉   | 698/1000 [17:03<17:29,  3.47s/it]"
     ]
    },
    {
     "name": "stdout",
     "output_type": "stream",
     "text": [
      "['/Users/vijaykeswani/Research/Control Set Audit/Plugin Code/Other files/Control_Faces_2/uide000008.jpg', <tensorflow.python.keras.engine.functional.Functional object at 0x14a3fde80>, (224, 224)] [Errno 2] No such file or directory: '/Users/vijaykeswani/Research/Control Set Audit/Plugin Code/Other files/Control_Faces_2/uide000008.jpg'\n"
     ]
    },
    {
     "name": "stderr",
     "output_type": "stream",
     "text": [
      " 70%|███████   | 701/1000 [17:07<09:09,  1.84s/it]"
     ]
    },
    {
     "name": "stdout",
     "output_type": "stream",
     "text": [
      "['/Users/vijaykeswani/Research/Control Set Audit/Plugin Code/Other files/Control_Faces_2/fter000093.jpg', <tensorflow.python.keras.engine.functional.Functional object at 0x14a3fde80>, (224, 224)] [Errno 2] No such file or directory: '/Users/vijaykeswani/Research/Control Set Audit/Plugin Code/Other files/Control_Faces_2/fter000093.jpg'\n"
     ]
    },
    {
     "name": "stderr",
     "output_type": "stream",
     "text": [
      " 71%|███████   | 706/1000 [17:10<05:33,  1.13s/it]"
     ]
    },
    {
     "name": "stdout",
     "output_type": "stream",
     "text": [
      "['/Users/vijaykeswani/Research/Control Set Audit/Plugin Code/Other files/Control_Faces_2/gent000019.jpg', <tensorflow.python.keras.engine.functional.Functional object at 0x14a3fde80>, (224, 224)] [Errno 2] No such file or directory: '/Users/vijaykeswani/Research/Control Set Audit/Plugin Code/Other files/Control_Faces_2/gent000019.jpg'\n"
     ]
    },
    {
     "name": "stderr",
     "output_type": "stream",
     "text": [
      " 71%|███████   | 710/1000 [17:13<04:46,  1.01it/s]"
     ]
    },
    {
     "name": "stdout",
     "output_type": "stream",
     "text": [
      "['/Users/vijaykeswani/Research/Control Set Audit/Plugin Code/Other files/Control_Faces_2/pist000043.jpg', <tensorflow.python.keras.engine.functional.Functional object at 0x14a3fde80>, (224, 224)] [Errno 2] No such file or directory: '/Users/vijaykeswani/Research/Control Set Audit/Plugin Code/Other files/Control_Faces_2/pist000043.jpg'\n"
     ]
    },
    {
     "name": "stderr",
     "output_type": "stream",
     "text": [
      "\r",
      " 71%|███████   | 711/1000 [17:14<04:58,  1.03s/it]"
     ]
    },
    {
     "name": "stdout",
     "output_type": "stream",
     "text": [
      "['/Users/vijaykeswani/Research/Control Set Audit/Plugin Code/Other files/Control_Faces_2/wyer000046.jpg', <tensorflow.python.keras.engine.functional.Functional object at 0x14a3fde80>, (224, 224)] [Errno 2] No such file or directory: '/Users/vijaykeswani/Research/Control Set Audit/Plugin Code/Other files/Control_Faces_2/wyer000046.jpg'\n"
     ]
    },
    {
     "name": "stderr",
     "output_type": "stream",
     "text": [
      " 72%|███████▏  | 719/1000 [17:20<04:50,  1.03s/it]"
     ]
    },
    {
     "name": "stdout",
     "output_type": "stream",
     "text": [
      "['/Users/vijaykeswani/Research/Control Set Audit/Plugin Code/Other files/Control_Faces_2/gner000010.jpg', <tensorflow.python.keras.engine.functional.Functional object at 0x14a3fde80>, (224, 224)] [Errno 2] No such file or directory: '/Users/vijaykeswani/Research/Control Set Audit/Plugin Code/Other files/Control_Faces_2/gner000010.jpg'\n"
     ]
    },
    {
     "name": "stderr",
     "output_type": "stream",
     "text": [
      "\r",
      " 72%|███████▏  | 720/1000 [17:21<04:19,  1.08it/s]"
     ]
    },
    {
     "name": "stdout",
     "output_type": "stream",
     "text": [
      "['/Users/vijaykeswani/Research/Control Set Audit/Plugin Code/Other files/Control_Faces_2/ator000069.jpg', <tensorflow.python.keras.engine.functional.Functional object at 0x14a3fde80>, (224, 224)] [Errno 2] No such file or directory: '/Users/vijaykeswani/Research/Control Set Audit/Plugin Code/Other files/Control_Faces_2/ator000069.jpg'\n"
     ]
    },
    {
     "name": "stderr",
     "output_type": "stream",
     "text": [
      " 72%|███████▏  | 722/1000 [17:23<04:32,  1.02it/s]"
     ]
    },
    {
     "name": "stdout",
     "output_type": "stream",
     "text": [
      "['/Users/vijaykeswani/Research/Control Set Audit/Plugin Code/Other files/Control_Faces_2/nist000098.jpg', <tensorflow.python.keras.engine.functional.Functional object at 0x14a3fde80>, (224, 224)] [Errno 2] No such file or directory: '/Users/vijaykeswani/Research/Control Set Audit/Plugin Code/Other files/Control_Faces_2/nist000098.jpg'\n"
     ]
    },
    {
     "name": "stderr",
     "output_type": "stream",
     "text": [
      "\r",
      " 72%|███████▏  | 723/1000 [17:24<04:03,  1.14it/s]"
     ]
    },
    {
     "name": "stdout",
     "output_type": "stream",
     "text": [
      "['/Users/vijaykeswani/Research/Control Set Audit/Plugin Code/Other files/Control_Faces_2/lyst000023.jpg', <tensorflow.python.keras.engine.functional.Functional object at 0x14a3fde80>, (224, 224)] [Errno 2] No such file or directory: '/Users/vijaykeswani/Research/Control Set Audit/Plugin Code/Other files/Control_Faces_2/lyst000023.jpg'\n"
     ]
    },
    {
     "name": "stderr",
     "output_type": "stream",
     "text": [
      " 73%|███████▎  | 730/1000 [17:28<03:21,  1.34it/s]"
     ]
    },
    {
     "name": "stdout",
     "output_type": "stream",
     "text": [
      "['/Users/vijaykeswani/Research/Control Set Audit/Plugin Code/Other files/Control_Faces_2/wyer000021.jpg', <tensorflow.python.keras.engine.functional.Functional object at 0x14a3fde80>, (224, 224)] [Errno 2] No such file or directory: '/Users/vijaykeswani/Research/Control Set Audit/Plugin Code/Other files/Control_Faces_2/wyer000021.jpg'\n"
     ]
    },
    {
     "name": "stderr",
     "output_type": "stream",
     "text": [
      " 73%|███████▎  | 733/1000 [17:31<03:38,  1.22it/s]"
     ]
    },
    {
     "name": "stdout",
     "output_type": "stream",
     "text": [
      "['/Users/vijaykeswani/Research/Control Set Audit/Plugin Code/Other files/Control_Faces_2/nist000073.jpg', <tensorflow.python.keras.engine.functional.Functional object at 0x14a3fde80>, (224, 224)] [Errno 2] No such file or directory: '/Users/vijaykeswani/Research/Control Set Audit/Plugin Code/Other files/Control_Faces_2/nist000073.jpg'\n"
     ]
    },
    {
     "name": "stderr",
     "output_type": "stream",
     "text": [
      " 74%|███████▍  | 740/1000 [17:38<04:01,  1.08it/s]"
     ]
    },
    {
     "name": "stdout",
     "output_type": "stream",
     "text": [
      "['/Users/vijaykeswani/Research/Control Set Audit/Plugin Code/Other files/Control_Faces_2/ator000019.jpg', <tensorflow.python.keras.engine.functional.Functional object at 0x14a3fde80>, (224, 224)] [Errno 2] No such file or directory: '/Users/vijaykeswani/Research/Control Set Audit/Plugin Code/Other files/Control_Faces_2/ator000019.jpg'\n"
     ]
    },
    {
     "name": "stderr",
     "output_type": "stream",
     "text": [
      "\r",
      " 74%|███████▍  | 741/1000 [17:45<12:10,  2.82s/it]"
     ]
    },
    {
     "name": "stdout",
     "output_type": "stream",
     "text": [
      "['/Users/vijaykeswani/Research/Control Set Audit/Plugin Code/Other files/Control_Faces_2/gner000070.jpg', <tensorflow.python.keras.engine.functional.Functional object at 0x14a3fde80>, (224, 224)] [Errno 2] No such file or directory: '/Users/vijaykeswani/Research/Control Set Audit/Plugin Code/Other files/Control_Faces_2/gner000070.jpg'\n"
     ]
    },
    {
     "name": "stderr",
     "output_type": "stream",
     "text": [
      " 74%|███████▍  | 744/1000 [17:47<07:30,  1.76s/it]"
     ]
    },
    {
     "name": "stdout",
     "output_type": "stream",
     "text": [
      "['/Users/vijaykeswani/Research/Control Set Audit/Plugin Code/Other files/Control_Faces_2/ctor000074.jpg', <tensorflow.python.keras.engine.functional.Functional object at 0x14a3fde80>, (224, 224)] [Errno 2] No such file or directory: '/Users/vijaykeswani/Research/Control Set Audit/Plugin Code/Other files/Control_Faces_2/ctor000074.jpg'\n"
     ]
    },
    {
     "name": "stderr",
     "output_type": "stream",
     "text": [
      " 75%|███████▍  | 746/1000 [17:49<05:54,  1.40s/it]"
     ]
    },
    {
     "name": "stdout",
     "output_type": "stream",
     "text": [
      "['/Users/vijaykeswani/Research/Control Set Audit/Plugin Code/Other files/Control_Faces_2/tist000015.jpg', <tensorflow.python.keras.engine.functional.Functional object at 0x14a3fde80>, (224, 224)] [Errno 2] No such file or directory: '/Users/vijaykeswani/Research/Control Set Audit/Plugin Code/Other files/Control_Faces_2/tist000015.jpg'\n"
     ]
    },
    {
     "name": "stderr",
     "output_type": "stream",
     "text": [
      " 76%|███████▌  | 760/1000 [18:04<06:33,  1.64s/it]"
     ]
    },
    {
     "name": "stdout",
     "output_type": "stream",
     "text": [
      "['/Users/vijaykeswani/Research/Control Set Audit/Plugin Code/Other files/Control_Faces_2/rber000058.jpg', <tensorflow.python.keras.engine.functional.Functional object at 0x14a3fde80>, (224, 224)] [Errno 2] No such file or directory: '/Users/vijaykeswani/Research/Control Set Audit/Plugin Code/Other files/Control_Faces_2/rber000058.jpg'\n"
     ]
    },
    {
     "name": "stderr",
     "output_type": "stream",
     "text": [
      " 76%|███████▋  | 763/1000 [18:08<06:00,  1.52s/it]"
     ]
    },
    {
     "name": "stdout",
     "output_type": "stream",
     "text": [
      "['/Users/vijaykeswani/Research/Control Set Audit/Plugin Code/Other files/Control_Faces_2/rier000052.jpg', <tensorflow.python.keras.engine.functional.Functional object at 0x14a3fde80>, (224, 224)] [Errno 2] No such file or directory: '/Users/vijaykeswani/Research/Control Set Audit/Plugin Code/Other files/Control_Faces_2/rier000052.jpg'\n"
     ]
    },
    {
     "name": "stderr",
     "output_type": "stream",
     "text": [
      " 77%|███████▋  | 766/1000 [18:11<04:40,  1.20s/it]"
     ]
    },
    {
     "name": "stdout",
     "output_type": "stream",
     "text": [
      "['/Users/vijaykeswani/Research/Control Set Audit/Plugin Code/Other files/Control_Faces_2/pher000037.jpg', <tensorflow.python.keras.engine.functional.Functional object at 0x14a3fde80>, (224, 224)] [Errno 2] No such file or directory: '/Users/vijaykeswani/Research/Control Set Audit/Plugin Code/Other files/Control_Faces_2/pher000037.jpg'\n"
     ]
    },
    {
     "name": "stderr",
     "output_type": "stream",
     "text": [
      "\r",
      " 77%|███████▋  | 767/1000 [18:12<04:04,  1.05s/it]"
     ]
    },
    {
     "name": "stdout",
     "output_type": "stream",
     "text": [
      "['/Users/vijaykeswani/Research/Control Set Audit/Plugin Code/Other files/Control_Faces_2/lder000038.jpg', <tensorflow.python.keras.engine.functional.Functional object at 0x14a3fde80>, (224, 224)] [Errno 2] No such file or directory: '/Users/vijaykeswani/Research/Control Set Audit/Plugin Code/Other files/Control_Faces_2/lder000038.jpg'\n"
     ]
    },
    {
     "name": "stderr",
     "output_type": "stream",
     "text": [
      "\r",
      " 77%|███████▋  | 768/1000 [18:13<03:52,  1.00s/it]"
     ]
    },
    {
     "name": "stdout",
     "output_type": "stream",
     "text": [
      "['/Users/vijaykeswani/Research/Control Set Audit/Plugin Code/Other files/Control_Faces_2/ians000060.jpg', <tensorflow.python.keras.engine.functional.Functional object at 0x14a3fde80>, (224, 224)] [Errno 2] No such file or directory: '/Users/vijaykeswani/Research/Control Set Audit/Plugin Code/Other files/Control_Faces_2/ians000060.jpg'\n"
     ]
    },
    {
     "name": "stderr",
     "output_type": "stream",
     "text": [
      "\r",
      " 77%|███████▋  | 769/1000 [18:14<04:03,  1.05s/it]"
     ]
    },
    {
     "name": "stdout",
     "output_type": "stream",
     "text": [
      "['/Users/vijaykeswani/Research/Control Set Audit/Plugin Code/Other files/Control_Faces_2/dant000076.jpg', <tensorflow.python.keras.engine.functional.Functional object at 0x14a3fde80>, (224, 224)] [Errno 2] No such file or directory: '/Users/vijaykeswani/Research/Control Set Audit/Plugin Code/Other files/Control_Faces_2/dant000076.jpg'\n"
     ]
    },
    {
     "name": "stderr",
     "output_type": "stream",
     "text": [
      "\r",
      " 77%|███████▋  | 771/1000 [18:14<03:08,  1.21it/s]"
     ]
    },
    {
     "name": "stdout",
     "output_type": "stream",
     "text": [
      "['/Users/vijaykeswani/Research/Control Set Audit/Plugin Code/Other files/Control_Faces_2/ster000048.jpg', <tensorflow.python.keras.engine.functional.Functional object at 0x14a3fde80>, (224, 224)] [Errno 2] No such file or directory: '/Users/vijaykeswani/Research/Control Set Audit/Plugin Code/Other files/Control_Faces_2/ster000048.jpg'\n"
     ]
    },
    {
     "name": "stderr",
     "output_type": "stream",
     "text": [
      " 77%|███████▋  | 774/1000 [18:18<03:28,  1.08it/s]"
     ]
    },
    {
     "name": "stdout",
     "output_type": "stream",
     "text": [
      "['/Users/vijaykeswani/Research/Control Set Audit/Plugin Code/Other files/Control_Faces_2/nter000077.jpg', <tensorflow.python.keras.engine.functional.Functional object at 0x14a3fde80>, (224, 224)] [Errno 2] No such file or directory: '/Users/vijaykeswani/Research/Control Set Audit/Plugin Code/Other files/Control_Faces_2/nter000077.jpg'\n"
     ]
    },
    {
     "name": "stderr",
     "output_type": "stream",
     "text": [
      " 78%|███████▊  | 776/1000 [18:20<03:51,  1.04s/it]"
     ]
    },
    {
     "name": "stdout",
     "output_type": "stream",
     "text": [
      "['/Users/vijaykeswani/Research/Control Set Audit/Plugin Code/Other files/Control_Faces_2/cher000047.jpg', <tensorflow.python.keras.engine.functional.Functional object at 0x14a3fde80>, (224, 224)] [Errno 2] No such file or directory: '/Users/vijaykeswani/Research/Control Set Audit/Plugin Code/Other files/Control_Faces_2/cher000047.jpg'\n"
     ]
    },
    {
     "name": "stderr",
     "output_type": "stream",
     "text": [
      " 80%|███████▉  | 797/1000 [18:44<03:56,  1.17s/it]"
     ]
    },
    {
     "name": "stdout",
     "output_type": "stream",
     "text": [
      "['/Users/vijaykeswani/Research/Control Set Audit/Plugin Code/Other files/Control_Faces_2/fter000065.jpg', <tensorflow.python.keras.engine.functional.Functional object at 0x14a3fde80>, (224, 224)] [Errno 2] No such file or directory: '/Users/vijaykeswani/Research/Control Set Audit/Plugin Code/Other files/Control_Faces_2/fter000065.jpg'\n"
     ]
    },
    {
     "name": "stderr",
     "output_type": "stream",
     "text": [
      " 80%|████████  | 801/1000 [18:51<04:40,  1.41s/it]"
     ]
    },
    {
     "name": "stdout",
     "output_type": "stream",
     "text": [
      "['/Users/vijaykeswani/Research/Control Set Audit/Plugin Code/Other files/Control_Faces_2/tist000007.jpg', <tensorflow.python.keras.engine.functional.Functional object at 0x14a3fde80>, (224, 224)] [Errno 2] No such file or directory: '/Users/vijaykeswani/Research/Control Set Audit/Plugin Code/Other files/Control_Faces_2/tist000007.jpg'\n"
     ]
    },
    {
     "name": "stderr",
     "output_type": "stream",
     "text": [
      " 81%|████████  | 811/1000 [18:57<02:47,  1.13it/s]"
     ]
    },
    {
     "name": "stdout",
     "output_type": "stream",
     "text": [
      "['/Users/vijaykeswani/Research/Control Set Audit/Plugin Code/Other files/Control_Faces_2/ians000053.jpg', <tensorflow.python.keras.engine.functional.Functional object at 0x14a3fde80>, (224, 224)] [Errno 2] No such file or directory: '/Users/vijaykeswani/Research/Control Set Audit/Plugin Code/Other files/Control_Faces_2/ians000053.jpg'\n"
     ]
    },
    {
     "name": "stderr",
     "output_type": "stream",
     "text": [
      " 82%|████████▏ | 818/1000 [19:03<03:01,  1.00it/s]"
     ]
    },
    {
     "name": "stdout",
     "output_type": "stream",
     "text": [
      "['/Users/vijaykeswani/Research/Control Set Audit/Plugin Code/Other files/Control_Faces_2/rian000077.jpg', <tensorflow.python.keras.engine.functional.Functional object at 0x14a3fde80>, (224, 224)] [Errno 2] No such file or directory: '/Users/vijaykeswani/Research/Control Set Audit/Plugin Code/Other files/Control_Faces_2/rian000077.jpg'\n"
     ]
    },
    {
     "name": "stderr",
     "output_type": "stream",
     "text": [
      " 82%|████████▏ | 824/1000 [19:12<03:07,  1.07s/it]"
     ]
    },
    {
     "name": "stdout",
     "output_type": "stream",
     "text": [
      "['/Users/vijaykeswani/Research/Control Set Audit/Plugin Code/Other files/Control_Faces_2/cist000083.jpg', <tensorflow.python.keras.engine.functional.Functional object at 0x14a3fde80>, (224, 224)] [Errno 2] No such file or directory: '/Users/vijaykeswani/Research/Control Set Audit/Plugin Code/Other files/Control_Faces_2/cist000083.jpg'\n"
     ]
    },
    {
     "name": "stderr",
     "output_type": "stream",
     "text": [
      " 83%|████████▎ | 832/1000 [19:39<06:45,  2.41s/it]"
     ]
    },
    {
     "name": "stdout",
     "output_type": "stream",
     "text": [
      "['/Users/vijaykeswani/Research/Control Set Audit/Plugin Code/Other files/Control_Faces_2/tist000062.jpg', <tensorflow.python.keras.engine.functional.Functional object at 0x14a3fde80>, (224, 224)] [Errno 2] No such file or directory: '/Users/vijaykeswani/Research/Control Set Audit/Plugin Code/Other files/Control_Faces_2/tist000062.jpg'\n"
     ]
    },
    {
     "name": "stderr",
     "output_type": "stream",
     "text": [
      " 84%|████████▎ | 835/1000 [19:42<03:59,  1.45s/it]"
     ]
    },
    {
     "name": "stdout",
     "output_type": "stream",
     "text": [
      "['/Users/vijaykeswani/Research/Control Set Audit/Plugin Code/Other files/Control_Faces_2/nter000078.jpg', <tensorflow.python.keras.engine.functional.Functional object at 0x14a3fde80>, (224, 224)] [Errno 2] No such file or directory: '/Users/vijaykeswani/Research/Control Set Audit/Plugin Code/Other files/Control_Faces_2/nter000078.jpg'\n"
     ]
    },
    {
     "name": "stderr",
     "output_type": "stream",
     "text": [
      " 84%|████████▍ | 838/1000 [19:44<02:56,  1.09s/it]"
     ]
    },
    {
     "name": "stdout",
     "output_type": "stream",
     "text": [
      "['/Users/vijaykeswani/Research/Control Set Audit/Plugin Code/Other files/Control_Faces_2/eper000018.jpg', <tensorflow.python.keras.engine.functional.Functional object at 0x14a3fde80>, (224, 224)] [Errno 2] No such file or directory: '/Users/vijaykeswani/Research/Control Set Audit/Plugin Code/Other files/Control_Faces_2/eper000018.jpg'\n"
     ]
    },
    {
     "name": "stderr",
     "output_type": "stream",
     "text": [
      "\r",
      " 84%|████████▍ | 839/1000 [19:44<02:31,  1.06it/s]"
     ]
    },
    {
     "name": "stdout",
     "output_type": "stream",
     "text": [
      "['/Users/vijaykeswani/Research/Control Set Audit/Plugin Code/Other files/Control_Faces_2/ctor000037.jpg', <tensorflow.python.keras.engine.functional.Functional object at 0x14a3fde80>, (224, 224)] [Errno 2] No such file or directory: '/Users/vijaykeswani/Research/Control Set Audit/Plugin Code/Other files/Control_Faces_2/ctor000037.jpg'\n"
     ]
    },
    {
     "name": "stderr",
     "output_type": "stream",
     "text": [
      " 84%|████████▍ | 844/1000 [19:49<02:27,  1.06it/s]"
     ]
    },
    {
     "name": "stdout",
     "output_type": "stream",
     "text": [
      "['/Users/vijaykeswani/Research/Control Set Audit/Plugin Code/Other files/Control_Faces_2/cian000056.jpg', <tensorflow.python.keras.engine.functional.Functional object at 0x14a3fde80>, (224, 224)] [Errno 2] No such file or directory: '/Users/vijaykeswani/Research/Control Set Audit/Plugin Code/Other files/Control_Faces_2/cian000056.jpg'\n"
     ]
    },
    {
     "name": "stderr",
     "output_type": "stream",
     "text": [
      "\r",
      " 84%|████████▍ | 845/1000 [19:50<02:21,  1.10it/s]"
     ]
    },
    {
     "name": "stdout",
     "output_type": "stream",
     "text": [
      "['/Users/vijaykeswani/Research/Control Set Audit/Plugin Code/Other files/Control_Faces_2/ator000100.jpg', <tensorflow.python.keras.engine.functional.Functional object at 0x14a3fde80>, (224, 224)] [Errno 2] No such file or directory: '/Users/vijaykeswani/Research/Control Set Audit/Plugin Code/Other files/Control_Faces_2/ator000100.jpg'\n"
     ]
    },
    {
     "name": "stderr",
     "output_type": "stream",
     "text": [
      " 85%|████████▍ | 849/1000 [19:54<02:22,  1.06it/s]"
     ]
    },
    {
     "name": "stdout",
     "output_type": "stream",
     "text": [
      "['/Users/vijaykeswani/Research/Control Set Audit/Plugin Code/Other files/Control_Faces_2/ator000098.jpg', <tensorflow.python.keras.engine.functional.Functional object at 0x14a3fde80>, (224, 224)] [Errno 2] No such file or directory: '/Users/vijaykeswani/Research/Control Set Audit/Plugin Code/Other files/Control_Faces_2/ator000098.jpg'\n"
     ]
    },
    {
     "name": "stderr",
     "output_type": "stream",
     "text": [
      " 88%|████████▊ | 878/1000 [20:44<02:08,  1.06s/it]"
     ]
    },
    {
     "name": "stdout",
     "output_type": "stream",
     "text": [
      "['/Users/vijaykeswani/Research/Control Set Audit/Plugin Code/Other files/Control_Faces_2/uard000094.jpg', <tensorflow.python.keras.engine.functional.Functional object at 0x14a3fde80>, (224, 224)] [Errno 2] No such file or directory: '/Users/vijaykeswani/Research/Control Set Audit/Plugin Code/Other files/Control_Faces_2/uard000094.jpg'\n"
     ]
    },
    {
     "name": "stderr",
     "output_type": "stream",
     "text": [
      "\r",
      " 88%|████████▊ | 879/1000 [20:46<02:11,  1.08s/it]"
     ]
    },
    {
     "name": "stdout",
     "output_type": "stream",
     "text": [
      "['/Users/vijaykeswani/Research/Control Set Audit/Plugin Code/Other files/Control_Faces_2/eper000034.jpg', <tensorflow.python.keras.engine.functional.Functional object at 0x14a3fde80>, (224, 224)] [Errno 2] No such file or directory: '/Users/vijaykeswani/Research/Control Set Audit/Plugin Code/Other files/Control_Faces_2/eper000034.jpg'\n"
     ]
    },
    {
     "name": "stderr",
     "output_type": "stream",
     "text": [
      " 88%|████████▊ | 882/1000 [20:49<02:07,  1.08s/it]"
     ]
    },
    {
     "name": "stdout",
     "output_type": "stream",
     "text": [
      "['/Users/vijaykeswani/Research/Control Set Audit/Plugin Code/Other files/Control_Faces_2/mmer000082.jpg', <tensorflow.python.keras.engine.functional.Functional object at 0x14a3fde80>, (224, 224)] [Errno 2] No such file or directory: '/Users/vijaykeswani/Research/Control Set Audit/Plugin Code/Other files/Control_Faces_2/mmer000082.jpg'\n"
     ]
    },
    {
     "name": "stderr",
     "output_type": "stream",
     "text": [
      " 89%|████████▉ | 889/1000 [20:55<01:47,  1.04it/s]"
     ]
    },
    {
     "name": "stdout",
     "output_type": "stream",
     "text": [
      "['/Users/vijaykeswani/Research/Control Set Audit/Plugin Code/Other files/Control_Faces_2/iver000006.jpg', <tensorflow.python.keras.engine.functional.Functional object at 0x14a3fde80>, (224, 224)] [Errno 2] No such file or directory: '/Users/vijaykeswani/Research/Control Set Audit/Plugin Code/Other files/Control_Faces_2/iver000006.jpg'\n"
     ]
    },
    {
     "name": "stderr",
     "output_type": "stream",
     "text": [
      " 89%|████████▉ | 893/1000 [20:58<01:32,  1.16it/s]"
     ]
    },
    {
     "name": "stdout",
     "output_type": "stream",
     "text": [
      "['/Users/vijaykeswani/Research/Control Set Audit/Plugin Code/Other files/Control_Faces_2/gent000014.jpg', <tensorflow.python.keras.engine.functional.Functional object at 0x14a3fde80>, (224, 224)] [Errno 2] No such file or directory: '/Users/vijaykeswani/Research/Control Set Audit/Plugin Code/Other files/Control_Faces_2/gent000014.jpg'\n"
     ]
    },
    {
     "name": "stderr",
     "output_type": "stream",
     "text": [
      "\r",
      " 90%|████████▉ | 895/1000 [21:00<01:25,  1.23it/s]"
     ]
    },
    {
     "name": "stdout",
     "output_type": "stream",
     "text": [
      "['/Users/vijaykeswani/Research/Control Set Audit/Plugin Code/Other files/Control_Faces_2/ians000057.jpg', <tensorflow.python.keras.engine.functional.Functional object at 0x14a3fde80>, (224, 224)] [Errno 2] No such file or directory: '/Users/vijaykeswani/Research/Control Set Audit/Plugin Code/Other files/Control_Faces_2/ians000057.jpg'\n"
     ]
    },
    {
     "name": "stderr",
     "output_type": "stream",
     "text": [
      "\r",
      " 90%|████████▉ | 896/1000 [21:01<01:38,  1.05it/s]"
     ]
    },
    {
     "name": "stdout",
     "output_type": "stream",
     "text": [
      "['/Users/vijaykeswani/Research/Control Set Audit/Plugin Code/Other files/Control_Faces_2/ctor000035.jpg', <tensorflow.python.keras.engine.functional.Functional object at 0x14a3fde80>, (224, 224)] [Errno 2] No such file or directory: '/Users/vijaykeswani/Research/Control Set Audit/Plugin Code/Other files/Control_Faces_2/ctor000035.jpg'\n"
     ]
    },
    {
     "name": "stderr",
     "output_type": "stream",
     "text": [
      " 90%|████████▉ | 898/1000 [21:08<03:47,  2.23s/it]"
     ]
    },
    {
     "name": "stdout",
     "output_type": "stream",
     "text": [
      "['/Users/vijaykeswani/Research/Control Set Audit/Plugin Code/Other files/Control_Faces_2/cian000071.jpg', <tensorflow.python.keras.engine.functional.Functional object at 0x14a3fde80>, (224, 224)] [Errno 2] No such file or directory: '/Users/vijaykeswani/Research/Control Set Audit/Plugin Code/Other files/Control_Faces_2/cian000071.jpg'\n"
     ]
    },
    {
     "name": "stderr",
     "output_type": "stream",
     "text": [
      " 90%|█████████ | 902/1000 [21:13<02:26,  1.49s/it]"
     ]
    },
    {
     "name": "stdout",
     "output_type": "stream",
     "text": [
      "['/Users/vijaykeswani/Research/Control Set Audit/Plugin Code/Other files/Control_Faces_2/pher000005.jpg', <tensorflow.python.keras.engine.functional.Functional object at 0x14a3fde80>, (224, 224)] [Errno 2] No such file or directory: '/Users/vijaykeswani/Research/Control Set Audit/Plugin Code/Other files/Control_Faces_2/pher000005.jpg'\n"
     ]
    },
    {
     "name": "stderr",
     "output_type": "stream",
     "text": [
      " 90%|█████████ | 904/1000 [21:17<02:49,  1.76s/it]"
     ]
    },
    {
     "name": "stdout",
     "output_type": "stream",
     "text": [
      "['/Users/vijaykeswani/Research/Control Set Audit/Plugin Code/Other files/Control_Faces_2/cian000007.jpg', <tensorflow.python.keras.engine.functional.Functional object at 0x14a3fde80>, (224, 224)] [Errno 2] No such file or directory: '/Users/vijaykeswani/Research/Control Set Audit/Plugin Code/Other files/Control_Faces_2/cian000007.jpg'\n"
     ]
    },
    {
     "name": "stderr",
     "output_type": "stream",
     "text": [
      " 91%|█████████ | 910/1000 [21:23<01:34,  1.04s/it]"
     ]
    },
    {
     "name": "stdout",
     "output_type": "stream",
     "text": [
      "['/Users/vijaykeswani/Research/Control Set Audit/Plugin Code/Other files/Control_Faces_2/iver000010.jpg', <tensorflow.python.keras.engine.functional.Functional object at 0x14a3fde80>, (224, 224)] [Errno 2] No such file or directory: '/Users/vijaykeswani/Research/Control Set Audit/Plugin Code/Other files/Control_Faces_2/iver000010.jpg'\n"
     ]
    },
    {
     "name": "stderr",
     "output_type": "stream",
     "text": [
      "\r",
      " 91%|█████████ | 911/1000 [21:23<01:25,  1.04it/s]"
     ]
    },
    {
     "name": "stdout",
     "output_type": "stream",
     "text": [
      "['/Users/vijaykeswani/Research/Control Set Audit/Plugin Code/Other files/Control_Faces_2/ator000021.jpg', <tensorflow.python.keras.engine.functional.Functional object at 0x14a3fde80>, (224, 224)] [Errno 2] No such file or directory: '/Users/vijaykeswani/Research/Control Set Audit/Plugin Code/Other files/Control_Faces_2/ator000021.jpg'\n"
     ]
    },
    {
     "name": "stderr",
     "output_type": "stream",
     "text": [
      " 91%|█████████▏| 914/1000 [21:27<01:34,  1.10s/it]"
     ]
    },
    {
     "name": "stdout",
     "output_type": "stream",
     "text": [
      "['/Users/vijaykeswani/Research/Control Set Audit/Plugin Code/Other files/Control_Faces_2/hter000027.jpg', <tensorflow.python.keras.engine.functional.Functional object at 0x14a3fde80>, (224, 224)] [Errno 2] No such file or directory: '/Users/vijaykeswani/Research/Control Set Audit/Plugin Code/Other files/Control_Faces_2/hter000027.jpg'\n"
     ]
    },
    {
     "name": "stderr",
     "output_type": "stream",
     "text": [
      " 92%|█████████▏| 916/1000 [21:29<01:21,  1.03it/s]"
     ]
    },
    {
     "name": "stdout",
     "output_type": "stream",
     "text": [
      "['/Users/vijaykeswani/Research/Control Set Audit/Plugin Code/Other files/Control_Faces_2/iter000099.jpg', <tensorflow.python.keras.engine.functional.Functional object at 0x14a3fde80>, (224, 224)] [Errno 2] No such file or directory: '/Users/vijaykeswani/Research/Control Set Audit/Plugin Code/Other files/Control_Faces_2/iter000099.jpg'\n"
     ]
    },
    {
     "name": "stderr",
     "output_type": "stream",
     "text": [
      " 92%|█████████▏| 919/1000 [21:32<01:25,  1.06s/it]"
     ]
    },
    {
     "name": "stdout",
     "output_type": "stream",
     "text": [
      "['/Users/vijaykeswani/Research/Control Set Audit/Plugin Code/Other files/Control_Faces_2/cian000090.jpg', <tensorflow.python.keras.engine.functional.Functional object at 0x14a3fde80>, (224, 224)] [Errno 2] No such file or directory: '/Users/vijaykeswani/Research/Control Set Audit/Plugin Code/Other files/Control_Faces_2/cian000090.jpg'\n"
     ]
    },
    {
     "name": "stderr",
     "output_type": "stream",
     "text": [
      " 92%|█████████▏| 921/1000 [21:35<01:28,  1.12s/it]"
     ]
    },
    {
     "name": "stdout",
     "output_type": "stream",
     "text": [
      "['/Users/vijaykeswani/Research/Control Set Audit/Plugin Code/Other files/Control_Faces_2/eper000054.jpg', <tensorflow.python.keras.engine.functional.Functional object at 0x14a3fde80>, (224, 224)] [Errno 2] No such file or directory: '/Users/vijaykeswani/Research/Control Set Audit/Plugin Code/Other files/Control_Faces_2/eper000054.jpg'\n"
     ]
    },
    {
     "name": "stderr",
     "output_type": "stream",
     "text": [
      " 92%|█████████▏| 924/1000 [21:46<02:29,  1.97s/it]"
     ]
    },
    {
     "name": "stdout",
     "output_type": "stream",
     "text": [
      "['/Users/vijaykeswani/Research/Control Set Audit/Plugin Code/Other files/Control_Faces_2/cook000048.jpg', <tensorflow.python.keras.engine.functional.Functional object at 0x14a3fde80>, (224, 224)] [Errno 2] No such file or directory: '/Users/vijaykeswani/Research/Control Set Audit/Plugin Code/Other files/Control_Faces_2/cook000048.jpg'\n"
     ]
    },
    {
     "name": "stderr",
     "output_type": "stream",
     "text": [
      " 93%|█████████▎| 928/1000 [21:52<01:55,  1.61s/it]"
     ]
    },
    {
     "name": "stdout",
     "output_type": "stream",
     "text": [
      "['/Users/vijaykeswani/Research/Control Set Audit/Plugin Code/Other files/Control_Faces_2/cian000039.jpg', <tensorflow.python.keras.engine.functional.Functional object at 0x14a3fde80>, (224, 224)] [Errno 2] No such file or directory: '/Users/vijaykeswani/Research/Control Set Audit/Plugin Code/Other files/Control_Faces_2/cian000039.jpg'\n"
     ]
    },
    {
     "name": "stderr",
     "output_type": "stream",
     "text": [
      "\r",
      " 93%|█████████▎| 929/1000 [21:53<01:34,  1.33s/it]"
     ]
    },
    {
     "name": "stdout",
     "output_type": "stream",
     "text": [
      "['/Users/vijaykeswani/Research/Control Set Audit/Plugin Code/Other files/Control_Faces_2/itor000040.jpg', <tensorflow.python.keras.engine.functional.Functional object at 0x14a3fde80>, (224, 224)] [Errno 2] No such file or directory: '/Users/vijaykeswani/Research/Control Set Audit/Plugin Code/Other files/Control_Faces_2/itor000040.jpg'\n"
     ]
    },
    {
     "name": "stderr",
     "output_type": "stream",
     "text": [
      " 94%|█████████▎| 935/1000 [21:59<01:14,  1.15s/it]"
     ]
    },
    {
     "name": "stdout",
     "output_type": "stream",
     "text": [
      "['/Users/vijaykeswani/Research/Control Set Audit/Plugin Code/Other files/Control_Faces_2/ster000093.jpg', <tensorflow.python.keras.engine.functional.Functional object at 0x14a3fde80>, (224, 224)] [Errno 2] No such file or directory: '/Users/vijaykeswani/Research/Control Set Audit/Plugin Code/Other files/Control_Faces_2/ster000093.jpg'\n"
     ]
    },
    {
     "name": "stderr",
     "output_type": "stream",
     "text": [
      "\r",
      " 94%|█████████▎| 936/1000 [22:00<01:07,  1.06s/it]"
     ]
    },
    {
     "name": "stdout",
     "output_type": "stream",
     "text": [
      "['/Users/vijaykeswani/Research/Control Set Audit/Plugin Code/Other files/Control_Faces_2/mmer000031.jpg', <tensorflow.python.keras.engine.functional.Functional object at 0x14a3fde80>, (224, 224)] [Errno 2] No such file or directory: '/Users/vijaykeswani/Research/Control Set Audit/Plugin Code/Other files/Control_Faces_2/mmer000031.jpg'\n"
     ]
    },
    {
     "name": "stderr",
     "output_type": "stream",
     "text": [
      " 95%|█████████▍| 946/1000 [22:10<00:49,  1.10it/s]"
     ]
    },
    {
     "name": "stdout",
     "output_type": "stream",
     "text": [
      "['/Users/vijaykeswani/Research/Control Set Audit/Plugin Code/Other files/Control_Faces_2/dant000082.jpg', <tensorflow.python.keras.engine.functional.Functional object at 0x14a3fde80>, (224, 224)] [Errno 2] No such file or directory: '/Users/vijaykeswani/Research/Control Set Audit/Plugin Code/Other files/Control_Faces_2/dant000082.jpg'\n"
     ]
    },
    {
     "name": "stderr",
     "output_type": "stream",
     "text": [
      " 95%|█████████▌| 953/1000 [22:30<01:38,  2.09s/it]"
     ]
    },
    {
     "name": "stdout",
     "output_type": "stream",
     "text": [
      "['/Users/vijaykeswani/Research/Control Set Audit/Plugin Code/Other files/Control_Faces_2/nist000067.jpg', <tensorflow.python.keras.engine.functional.Functional object at 0x14a3fde80>, (224, 224)] [Errno 2] No such file or directory: '/Users/vijaykeswani/Research/Control Set Audit/Plugin Code/Other files/Control_Faces_2/nist000067.jpg'\n"
     ]
    },
    {
     "name": "stderr",
     "output_type": "stream",
     "text": [
      " 96%|█████████▌| 955/1000 [22:32<01:09,  1.55s/it]"
     ]
    },
    {
     "name": "stdout",
     "output_type": "stream",
     "text": [
      "['/Users/vijaykeswani/Research/Control Set Audit/Plugin Code/Other files/Control_Faces_2/cian000037.jpg', <tensorflow.python.keras.engine.functional.Functional object at 0x14a3fde80>, (224, 224)] [Errno 2] No such file or directory: '/Users/vijaykeswani/Research/Control Set Audit/Plugin Code/Other files/Control_Faces_2/cian000037.jpg'\n"
     ]
    },
    {
     "name": "stderr",
     "output_type": "stream",
     "text": [
      " 96%|█████████▌| 957/1000 [22:34<00:56,  1.32s/it]"
     ]
    },
    {
     "name": "stdout",
     "output_type": "stream",
     "text": [
      "['/Users/vijaykeswani/Research/Control Set Audit/Plugin Code/Other files/Control_Faces_2/pher000009.jpg', <tensorflow.python.keras.engine.functional.Functional object at 0x14a3fde80>, (224, 224)] [Errno 2] No such file or directory: '/Users/vijaykeswani/Research/Control Set Audit/Plugin Code/Other files/Control_Faces_2/pher000009.jpg'\n"
     ]
    },
    {
     "name": "stderr",
     "output_type": "stream",
     "text": [
      " 96%|█████████▌| 962/1000 [22:38<00:37,  1.01it/s]"
     ]
    },
    {
     "name": "stdout",
     "output_type": "stream",
     "text": [
      "['/Users/vijaykeswani/Research/Control Set Audit/Plugin Code/Other files/Control_Faces_2/tect000067.jpg', <tensorflow.python.keras.engine.functional.Functional object at 0x14a3fde80>, (224, 224)] [Errno 2] No such file or directory: '/Users/vijaykeswani/Research/Control Set Audit/Plugin Code/Other files/Control_Faces_2/tect000067.jpg'\n"
     ]
    },
    {
     "name": "stderr",
     "output_type": "stream",
     "text": [
      " 97%|█████████▋| 968/1000 [22:43<00:27,  1.15it/s]"
     ]
    },
    {
     "name": "stdout",
     "output_type": "stream",
     "text": [
      "['/Users/vijaykeswani/Research/Control Set Audit/Plugin Code/Other files/Control_Faces_2/tive000051.jpg', <tensorflow.python.keras.engine.functional.Functional object at 0x14a3fde80>, (224, 224)] [Errno 2] No such file or directory: '/Users/vijaykeswani/Research/Control Set Audit/Plugin Code/Other files/Control_Faces_2/tive000051.jpg'\n"
     ]
    },
    {
     "name": "stderr",
     "output_type": "stream",
     "text": [
      "\r",
      " 97%|█████████▋| 969/1000 [22:44<00:34,  1.11s/it]"
     ]
    },
    {
     "name": "stdout",
     "output_type": "stream",
     "text": [
      "['/Users/vijaykeswani/Research/Control Set Audit/Plugin Code/Other files/Control_Faces_2/nist000075.jpg', <tensorflow.python.keras.engine.functional.Functional object at 0x14a3fde80>, (224, 224)] [Errno 2] No such file or directory: '/Users/vijaykeswani/Research/Control Set Audit/Plugin Code/Other files/Control_Faces_2/nist000075.jpg'\n"
     ]
    },
    {
     "name": "stderr",
     "output_type": "stream",
     "text": [
      " 98%|█████████▊| 977/1000 [22:53<00:34,  1.50s/it]"
     ]
    },
    {
     "name": "stdout",
     "output_type": "stream",
     "text": [
      "['/Users/vijaykeswani/Research/Control Set Audit/Plugin Code/Other files/Control_Faces_2/cist000059.jpg', <tensorflow.python.keras.engine.functional.Functional object at 0x14a3fde80>, (224, 224)] [Errno 2] No such file or directory: '/Users/vijaykeswani/Research/Control Set Audit/Plugin Code/Other files/Control_Faces_2/cist000059.jpg'\n"
     ]
    },
    {
     "name": "stderr",
     "output_type": "stream",
     "text": [
      " 98%|█████████▊| 980/1000 [22:56<00:22,  1.11s/it]"
     ]
    },
    {
     "name": "stdout",
     "output_type": "stream",
     "text": [
      "['/Users/vijaykeswani/Research/Control Set Audit/Plugin Code/Other files/Control_Faces_2/eper000088.jpg', <tensorflow.python.keras.engine.functional.Functional object at 0x14a3fde80>, (224, 224)] [Errno 2] No such file or directory: '/Users/vijaykeswani/Research/Control Set Audit/Plugin Code/Other files/Control_Faces_2/eper000088.jpg'\n"
     ]
    },
    {
     "name": "stderr",
     "output_type": "stream",
     "text": [
      " 99%|█████████▊| 987/1000 [23:03<00:13,  1.00s/it]"
     ]
    },
    {
     "name": "stdout",
     "output_type": "stream",
     "text": [
      "['/Users/vijaykeswani/Research/Control Set Audit/Plugin Code/Other files/Control_Faces_2/ator000004.jpg', <tensorflow.python.keras.engine.functional.Functional object at 0x14a3fde80>, (224, 224)] [Errno 2] No such file or directory: '/Users/vijaykeswani/Research/Control Set Audit/Plugin Code/Other files/Control_Faces_2/ator000004.jpg'\n"
     ]
    },
    {
     "name": "stderr",
     "output_type": "stream",
     "text": [
      " 99%|█████████▉| 994/1000 [23:08<00:06,  1.03s/it]"
     ]
    },
    {
     "name": "stdout",
     "output_type": "stream",
     "text": [
      "['/Users/vijaykeswani/Research/Control Set Audit/Plugin Code/Other files/Control_Faces_2/nter000007.jpg', <tensorflow.python.keras.engine.functional.Functional object at 0x14a3fde80>, (224, 224)] [Errno 2] No such file or directory: '/Users/vijaykeswani/Research/Control Set Audit/Plugin Code/Other files/Control_Faces_2/nter000007.jpg'\n"
     ]
    },
    {
     "name": "stderr",
     "output_type": "stream",
     "text": [
      "\r",
      "100%|█████████▉| 995/1000 [23:09<00:05,  1.02s/it]"
     ]
    },
    {
     "name": "stdout",
     "output_type": "stream",
     "text": [
      "['/Users/vijaykeswani/Research/Control Set Audit/Plugin Code/Other files/Control_Faces_2/nist000089.jpg', <tensorflow.python.keras.engine.functional.Functional object at 0x14a3fde80>, (224, 224)] [Errno 2] No such file or directory: '/Users/vijaykeswani/Research/Control Set Audit/Plugin Code/Other files/Control_Faces_2/nist000089.jpg'\n"
     ]
    },
    {
     "name": "stderr",
     "output_type": "stream",
     "text": [
      "\r",
      "100%|█████████▉| 996/1000 [23:11<00:04,  1.06s/it]"
     ]
    },
    {
     "name": "stdout",
     "output_type": "stream",
     "text": [
      "['/Users/vijaykeswani/Research/Control Set Audit/Plugin Code/Other files/Control_Faces_2/mber000008.jpg', <tensorflow.python.keras.engine.functional.Functional object at 0x14a3fde80>, (224, 224)] [Errno 2] No such file or directory: '/Users/vijaykeswani/Research/Control Set Audit/Plugin Code/Other files/Control_Faces_2/mber000008.jpg'\n"
     ]
    },
    {
     "name": "stderr",
     "output_type": "stream",
     "text": [
      "100%|██████████| 1000/1000 [23:12<00:00,  1.39s/it]\n"
     ]
    }
   ],
   "source": [
    "data = []\n",
    "with open('/Users/vijaykeswani/Research/Control Set Audit/Plugin Code/Other files/label files/occupations_labels.csv') as f:\n",
    "    data=f.readlines()\n",
    "\n",
    "imagePaths = []\n",
    "genderLabels = {}\n",
    "count_m, count_f = 0, 0\n",
    "path = \"/Users/vijaykeswani/Research/Control Set Audit/Plugin Code/Other files/Occupations_dataset_images/\"\n",
    "for line in data[1:]:\n",
    "    s = line.split(',')\n",
    "#     print (s[1])\n",
    "    if s[1] == \"Male\":\n",
    "        genderLabels[path+s[0]] = \"m\"\n",
    "        count_m += 1\n",
    "    if s[1] == \"Female\":\n",
    "        genderLabels[path+s[0]] = \"f\"\n",
    "        count_f += 1\n",
    "    \n",
    "#     if count_m >= 500 and count_f >= 500:\n",
    "#         break\n",
    "\n",
    "print (count_m, count_f)\n",
    "\n",
    "imagePaths = list(genderLabels.keys())\n",
    "random.shuffle(imagePaths)\n",
    "imagePaths = imagePaths[:1000]\n",
    "\n",
    "FACES_LOC = '/Users/vijaykeswani/Research/Control Set Audit/Plugin Code/Other files/Control_Faces_2/'\n",
    "imageToFeatures = {}\n",
    "for path in tqdm(imagePaths):\n",
    "    try:\n",
    "        img = io.imread(path)\n",
    "        faces = detect_faces(img)\n",
    "        if len(faces) != 0:\n",
    "            img = Image.fromarray(img).crop(faces[0])\n",
    "            img.save(FACES_LOC+path[-15:-11]+path[-10:])\n",
    "    except:\n",
    "        continue\n",
    "    feat = getFeature([FACES_LOC+path[-15:-11]+path[-10:], feat_extractor, target_size])\n",
    "    if len(feat) == 0:\n",
    "        continue\n",
    "    imageToFeatures[path] = list(feat)\n"
   ]
  },
  {
   "cell_type": "code",
   "execution_count": 21,
   "metadata": {},
   "outputs": [
    {
     "data": {
      "text/plain": [
       "1571"
      ]
     },
     "execution_count": 21,
     "metadata": {},
     "output_type": "execute_result"
    }
   ],
   "source": [
    "len(imageToFeatures)"
   ]
  },
  {
   "cell_type": "code",
   "execution_count": 5,
   "metadata": {},
   "outputs": [
    {
     "name": "stderr",
     "output_type": "stream",
     "text": [
      "100%|██████████| 493/493 [04:12<00:00,  1.95it/s]\n"
     ]
    }
   ],
   "source": [
    "simDict= {}\n",
    "imagePaths = list(imageToFeatures.keys())\n",
    "random.shuffle(imagePaths)\n",
    "imagePaths = imagePaths[:1000]\n",
    "for img1 in tqdm(imagePaths):\n",
    "    sim = {}\n",
    "    for img2 in imagePaths:\n",
    "        sim[img2] = 2 - distance.cosine(imageToFeatures[img1], imageToFeatures[img2])\n",
    "    \n",
    "    simDict[img1] = dict(sim)\n",
    "    "
   ]
  },
  {
   "cell_type": "code",
   "execution_count": 25,
   "metadata": {},
   "outputs": [
    {
     "data": {
      "text/plain": [
       "(1.3375894019752743, 1.337589401975274, 1.6864791912467854, 1.444519968174006)"
      ]
     },
     "execution_count": 25,
     "metadata": {},
     "output_type": "execute_result"
    }
   ],
   "source": [
    "# imagePaths = imagePaths[:500]\n",
    "indices = list(range(len(imagePaths)))\n",
    "\n",
    "k=40\n",
    "\n",
    "def condition(g):\n",
    "    return g==\"f\"\n",
    "\n",
    "alpha = 0.1\n",
    "random.shuffle(indices)\n",
    "partitions_0, partitions_1 = [], []\n",
    "for i in indices:\n",
    "    g = genderLabels[imagePaths[i]]\n",
    "    if condition(g):\n",
    "        partitions_0.append(imagePaths[i])\n",
    "    else:\n",
    "        partitions_1.append(imagePaths[i])            \n",
    "            \n",
    "k2 = int(k/2)\n",
    "control_0 = []\n",
    "gamma = []\n",
    "for img in partitions_0:\n",
    "    g_0 = [simDict[img][imagePaths[i]] for i in indices if imagePaths[i]!=img and condition(genderLabels[imagePaths[i]])]\n",
    "    g_1 = [simDict[img][imagePaths[i]] for i in indices if imagePaths[i]!=img and not condition(genderLabels[imagePaths[i]])]\n",
    "    gamma.append(np.mean(g_0) - np.mean(g_1))\n",
    "\n",
    "gamma = np.array(gamma)\n",
    "red_score = np.array([0 for _ in partitions_0])\n",
    "while len(control_0) < k2:\n",
    "    choose = np.argmax(gamma - alpha*red_score) # combine gamma and redundancy score\n",
    "\n",
    "    red_score_2 = []\n",
    "    for i in range(len(red_score)):\n",
    "        red_score_2.append(max(red_score[i], simDict[partitions_0[choose]][partitions_0[i]]))\n",
    "\n",
    "    red_score = np.array(list(red_score_2))\n",
    "    gamma[choose] = -100000\n",
    "    control_0.append(partitions_0[choose])\n",
    "\n",
    "control_1 = []\n",
    "gamma = []\n",
    "for img in partitions_1:\n",
    "    g_0 = [simDict[img][imagePaths[i]] for i in indices if imagePaths[i]!=img and condition(genderLabels[imagePaths[i]])]\n",
    "    g_1 = [simDict[img][imagePaths[i]] for i in indices if imagePaths[i]!=img and not condition(genderLabels[imagePaths[i]])]\n",
    "    gamma.append(np.mean(g_1) - np.mean(g_0))\n",
    "\n",
    "gamma = np.array(gamma)\n",
    "red_score = np.array([0 for _ in partitions_1])\n",
    "while len(control_1) < k2:\n",
    "    choose = np.argmax(gamma - alpha*red_score)\n",
    "\n",
    "    red_score_2 = []\n",
    "    for i in range(len(red_score)):\n",
    "        red_score_2.append(max(red_score[i], simDict[partitions_1[choose]][partitions_1[i]]))\n",
    "\n",
    "    red_score = np.array(list(red_score_2))\n",
    "    gamma[choose] = -10000\n",
    "    control_1.append(partitions_1[choose])\n",
    "\n",
    "control = control_0 + control_1\n",
    "\n",
    "def getBounds(control, condition):\n",
    "    validation_m, validation_f = [], []\n",
    "    for p in control:\n",
    "        g = genderLabels[p]\n",
    "        if condition(g):\n",
    "            validation_f = validation_f + [p]\n",
    "        else:\n",
    "            validation_m = validation_m + [p]\n",
    "\n",
    "\n",
    "    simMatrix = np.array([np.array([simDict[img1][img2] for img1 in validation_m if img1 != img2]) for img2 in control])\n",
    "    simSum = [np.mean(simMatrix[i]) for i in range(len(simMatrix))]\n",
    "    fs = np.mean([simSum[i] for i in range(len(simSum)) if condition(genderLabels[control[i]])])\n",
    "    ms = np.mean([simSum[i] for i in range(len(simSum)) if not condition(genderLabels[control[i]])])\n",
    "    lowerFS, upperMS = fs, ms\n",
    "    lowerR = fs/(fs+ms)\n",
    "    lowerD1 = min(fs/ms, ms/fs)\n",
    "\n",
    "    simMatrix = np.array([np.array([simDict[img1][img2] for img1 in validation_f if img1 != img2]) for img2 in control])\n",
    "    simSum = [np.mean(simMatrix[i]) for i in range(len(simMatrix))]\n",
    "    fs = np.mean([simSum[i] for i in range(len(simSum)) if condition(genderLabels[control[i]])])\n",
    "    ms = np.mean([simSum[i] for i in range(len(simSum)) if not condition(genderLabels[control[i]])])\n",
    "    upperFS, lowerMS = fs, ms\n",
    "    upperR = fs/(fs+ms)\n",
    "    lowerD2 = min(fs/ms, ms/fs)\n",
    "\n",
    "    return lowerFS, lowerMS, upperFS, upperMS\n",
    "\n",
    "lowerFS, lowerMS, upperFS, upperMS = getBounds(control, condition)\n",
    "\n",
    "lowerFS, lowerMS, upperFS, upperMS"
   ]
  },
  {
   "cell_type": "code",
   "execution_count": 26,
   "metadata": {},
   "outputs": [],
   "source": [
    "import shutil\n",
    "\n",
    "for path in control_0:\n",
    "    shutil.copy(path, '/Users/vijaykeswani/Research/Control Set Audit/Plugin Code/Other files/Control_new/Group 1')\n",
    "\n",
    "for path in control_1:\n",
    "    shutil.copy(path, '/Users/vijaykeswani/Research/Control Set Audit/Plugin Code/Other files/Control_new/Group 2')\n",
    "\n",
    "    "
   ]
  },
  {
   "cell_type": "code",
   "execution_count": 15,
   "metadata": {},
   "outputs": [
    {
     "data": {
      "text/plain": [
       "['/Users/vijaykeswani/Research/Control Set Audit/Plugin Code/Other files/Occupations_dataset_images/lab tech/000054.jpg',\n",
       " '/Users/vijaykeswani/Research/Control Set Audit/Plugin Code/Other files/Occupations_dataset_images/author/000073.jpg',\n",
       " '/Users/vijaykeswani/Research/Control Set Audit/Plugin Code/Other files/Occupations_dataset_images/doctor/000047.jpg',\n",
       " '/Users/vijaykeswani/Research/Control Set Audit/Plugin Code/Other files/Occupations_dataset_images/librarian/000063.jpg',\n",
       " '/Users/vijaykeswani/Research/Control Set Audit/Plugin Code/Other files/Occupations_dataset_images/technical writer/000056.jpg',\n",
       " '/Users/vijaykeswani/Research/Control Set Audit/Plugin Code/Other files/Occupations_dataset_images/receptionist/000087.jpg',\n",
       " '/Users/vijaykeswani/Research/Control Set Audit/Plugin Code/Other files/Occupations_dataset_images/housekeeper/000047.jpg',\n",
       " '/Users/vijaykeswani/Research/Control Set Audit/Plugin Code/Other files/Occupations_dataset_images/bartender/000008.jpg',\n",
       " '/Users/vijaykeswani/Research/Control Set Audit/Plugin Code/Other files/Occupations_dataset_images/nurse/000033.jpg',\n",
       " '/Users/vijaykeswani/Research/Control Set Audit/Plugin Code/Other files/Occupations_dataset_images/travel agent/000088.jpg',\n",
       " '/Users/vijaykeswani/Research/Control Set Audit/Plugin Code/Other files/Occupations_dataset_images/typist/000084.jpg',\n",
       " '/Users/vijaykeswani/Research/Control Set Audit/Plugin Code/Other files/Occupations_dataset_images/plumber/000046.jpg',\n",
       " '/Users/vijaykeswani/Research/Control Set Audit/Plugin Code/Other files/Occupations_dataset_images/barber/000002.jpg',\n",
       " '/Users/vijaykeswani/Research/Control Set Audit/Plugin Code/Other files/Occupations_dataset_images/dentist/000050.jpg',\n",
       " '/Users/vijaykeswani/Research/Control Set Audit/Plugin Code/Other files/Occupations_dataset_images/plumber/000016.jpg',\n",
       " '/Users/vijaykeswani/Research/Control Set Audit/Plugin Code/Other files/Occupations_dataset_images/high school teacher/000088.jpg',\n",
       " '/Users/vijaykeswani/Research/Control Set Audit/Plugin Code/Other files/Occupations_dataset_images/typist/000037.jpg',\n",
       " '/Users/vijaykeswani/Research/Control Set Audit/Plugin Code/Other files/Occupations_dataset_images/financial advisor/000093.jpg',\n",
       " '/Users/vijaykeswani/Research/Control Set Audit/Plugin Code/Other files/Occupations_dataset_images/electrician/000081.jpg',\n",
       " '/Users/vijaykeswani/Research/Control Set Audit/Plugin Code/Other files/Occupations_dataset_images/lawyer/000010.jpg']"
      ]
     },
     "execution_count": 15,
     "metadata": {},
     "output_type": "execute_result"
    }
   ],
   "source": [
    "control"
   ]
  },
  {
   "cell_type": "code",
   "execution_count": null,
   "metadata": {},
   "outputs": [],
   "source": []
  },
  {
   "cell_type": "code",
   "execution_count": null,
   "metadata": {},
   "outputs": [],
   "source": []
  }
 ],
 "metadata": {
  "kernelspec": {
   "display_name": "Python 3",
   "language": "python",
   "name": "python3"
  },
  "language_info": {
   "codemirror_mode": {
    "name": "ipython",
    "version": 3
   },
   "file_extension": ".py",
   "mimetype": "text/x-python",
   "name": "python",
   "nbconvert_exporter": "python",
   "pygments_lexer": "ipython3",
   "version": "3.8.5"
  }
 },
 "nbformat": 4,
 "nbformat_minor": 4
}
